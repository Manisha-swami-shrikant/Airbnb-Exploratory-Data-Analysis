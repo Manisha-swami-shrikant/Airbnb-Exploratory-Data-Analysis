{
  "nbformat": 4,
  "nbformat_minor": 0,
  "metadata": {
    "colab": {
      "provenance": [],
      "collapsed_sections": [
        "gIfDvo9L0UH2"
      ],
      "include_colab_link": true
    },
    "kernelspec": {
      "name": "python3",
      "display_name": "Python 3"
    },
    "language_info": {
      "name": "python"
    }
  },
  "cells": [
    {
      "cell_type": "markdown",
      "metadata": {
        "id": "view-in-github",
        "colab_type": "text"
      },
      "source": [
        "<a href=\"https://colab.research.google.com/github/Manisha-swami-shrikant/Airbnb-Exploratory-Data-Analysis/blob/main/Supervised_ML_Classification_Mobile_Price_range_prediction_Manisha_Swami.ipynb\" target=\"_parent\"><img src=\"https://colab.research.google.com/assets/colab-badge.svg\" alt=\"Open In Colab\"/></a>"
      ]
    },
    {
      "cell_type": "markdown",
      "source": [
        "# **Project Name**    -Supervised_ML_Classification\n",
        "/Mobile_Price_range_predictio\n",
        "\n"
      ],
      "metadata": {
        "id": "vncDsAP0Gaoa"
      }
    },
    {
      "cell_type": "markdown",
      "source": [
        "##### **Project Type**    -  Classification (Mobile Price Range Prediction)\n",
        "##### **Contribution**    - Individual\n",
        "##### **Member Name -** MANISHA SWAMI"
      ],
      "metadata": {
        "id": "beRrZCGUAJYm"
      }
    },
    {
      "cell_type": "markdown",
      "source": [
        "# **Project Summary -**"
      ],
      "metadata": {
        "id": "FJNUwmbgGyua"
      }
    },
    {
      "cell_type": "markdown",
      "source": [
        "In the competitive mobile phone market companies want to understand sales data of mobile phones and factors which drive the prices. The objective is to find out some relation between features of a mobile phone(eg:- RAM, Internal Memory, etc) and its selling price. In this problem, we do not have to predict the actual price but a price range indicating how high the price is.\n",
        "\n",
        "The central goal of this project is to develop a comprehensive understanding of the mobile phone market dynamics, with a specific focus on the relationship between key features of mobile devices and their associated price ranges. By achieving this objective, we aim to assist mobile phone manufacturers, retailers, and stakeholders in making informed decisions that can positively impact their business strategies.\n",
        "\n",
        "We will be learning and using key components like: Exploratory Data Analysis, Data Preprocessing, Feature engineering, making predictions with Classification model (Machine Learning) and Evaluation. Ultimately, our project will offer a clear understanding of the dataset, efficient data preparation, a well-selected machine learning algorithm, and a comprehensive evaluation process.\n",
        "\n",
        "The outcome of this project will be invaluable to various stakeholders in the mobile phone industry. Manufacturers can make data-driven decisions about product features and pricing strategies. Retailers can optimize their inventory and pricing models. Consumers can benefit from a better understanding of how different features influence prices, aiding in their purchasing decisions."
      ],
      "metadata": {
        "id": "F6v_1wHtG2nS"
      }
    },
    {
      "cell_type": "markdown",
      "source": [
        "# **GitHub Link -**"
      ],
      "metadata": {
        "id": "w6K7xa23Elo4"
      }
    },
    {
      "cell_type": "markdown",
      "source": [],
      "metadata": {
        "id": "h1o69JH3Eqqn"
      }
    },
    {
      "cell_type": "markdown",
      "source": [
        "# **Problem Statement**\n"
      ],
      "metadata": {
        "id": "yQaldy8SH6Dl"
      }
    },
    {
      "cell_type": "markdown",
      "source": [
        "Our project aims to perform an efficient Exploratory Data Analysis (EDA) to gain insights into a dataset and prepare it for machine learning training. We will focus on understanding the data preprocessing techniques required to make the dataset ready for model training, paying particular attention to the target feature and its distribution. Additionally, we will assess the target feature for class imbalance and address this issue appropriately during modeling.\n",
        "\n",
        "The core of our project involves selecting the most suitable machine learning algorithm for the given dataset. We will evaluate various algorithms and choose the one that best fits our data, all while considering the impact of class imbalance on model performance. To ensure the robustness of our model, we will implement an evaluation strategy that takes class imbalance into account. This will involve the use of appropriate metrics and techniques to assess the model's performance accurately. We will use ML models like :\n",
        "\n",
        "1. Logistic Regression\n",
        "\n",
        "2. Random Forest Classifier\n",
        "\n",
        "3. Decision Tree\n",
        "\n",
        "4. K-Nearest Neighbor\n",
        "\n",
        "5. Naive Bayes Classifier\n",
        "\n",
        "6. Support Vector Machines Classifier\n",
        "\n",
        "7. XGBoost Classifier"
      ],
      "metadata": {
        "id": "DpeJGUA3kjGy"
      }
    },
    {
      "cell_type": "markdown",
      "source": [
        "# ***Let's Begin !***"
      ],
      "metadata": {
        "id": "O_i_v8NEhb9l"
      }
    },
    {
      "cell_type": "markdown",
      "source": [
        "## ***1. Knowing the Data***"
      ],
      "metadata": {
        "id": "HhfV-JJviCcP"
      }
    },
    {
      "cell_type": "markdown",
      "source": [
        "### Import Libraries"
      ],
      "metadata": {
        "id": "Y3lxredqlCYt"
      }
    },
    {
      "cell_type": "code",
      "source": [
        "# Import Libraries\n",
        "import pandas as pd\n",
        "import numpy as np\n",
        "import matplotlib.pyplot as plt\n",
        "%matplotlib inline\n",
        "import seaborn as sns\n",
        "\n",
        "from sklearn.preprocessing import MinMaxScaler             # for data scaling\n",
        "from sklearn.linear_model import LogisticRegression        # for logistic regression\n",
        "from sklearn.ensemble import RandomForestClassifier        # for Random Forest\n",
        "from sklearn.neighbors import KNeighborsClassifier         # for K-NN classifer\n",
        "from sklearn.tree import DecisionTreeClassifier            # for Decision Tree\n",
        "from sklearn.naive_bayes import GaussianNB                 # for Gaussian Naive Bayes\n",
        "from sklearn.svm import SVC                                # for Support Vector Classification\n",
        "from xgboost import XGBClassifier                          # for XGBoost classifier\n",
        "from sklearn.metrics import confusion_matrix               # for confusion matrix\n",
        "from sklearn.metrics import classification_report          # for classification report\n",
        "from sklearn.model_selection import  GridSearchCV          # for Grid Search cross-validation\n",
        "\n",
        "import warnings\n",
        "warnings.filterwarnings('ignore')"
      ],
      "metadata": {
        "id": "M8Vqi-pPk-HR"
      },
      "execution_count": 155,
      "outputs": []
    },
    {
      "cell_type": "markdown",
      "source": [
        "### Dataset Loading"
      ],
      "metadata": {
        "id": "3RnN4peoiCZX"
      }
    },
    {
      "cell_type": "code",
      "source": [
        "# Mounting drive\n",
        "from google.colab import drive\n",
        "drive.mount('/content/drive')"
      ],
      "metadata": {
        "id": "WnDrzvcu6Zgz",
        "colab": {
          "base_uri": "https://localhost:8080/"
        },
        "outputId": "666fac68-89d1-419f-9195-30967ddc95ac"
      },
      "execution_count": 156,
      "outputs": [
        {
          "output_type": "stream",
          "name": "stdout",
          "text": [
            "Drive already mounted at /content/drive; to attempt to forcibly remount, call drive.mount(\"/content/drive\", force_remount=True).\n"
          ]
        }
      ]
    },
    {
      "cell_type": "code",
      "source": [
        "# Load Dataset\n",
        "df = pd.read_csv('/content/data_mobile_price_range.csv')"
      ],
      "metadata": {
        "id": "4CkvbW_SlZ_R"
      },
      "execution_count": 157,
      "outputs": []
    },
    {
      "cell_type": "markdown",
      "source": [
        "### Dataset First View"
      ],
      "metadata": {
        "id": "x71ZqKXriCWQ"
      }
    },
    {
      "cell_type": "code",
      "source": [
        "# Dataset First Look\n",
        "df"
      ],
      "metadata": {
        "id": "LWNFOSvLl09H",
        "colab": {
          "base_uri": "https://localhost:8080/",
          "height": 443
        },
        "outputId": "bdc97611-3896-4df2-c304-15bd36fb48ab"
      },
      "execution_count": 158,
      "outputs": [
        {
          "output_type": "execute_result",
          "data": {
            "text/plain": [
              "      battery_power  blue  clock_speed  dual_sim  fc  four_g  int_memory  \\\n",
              "0               842     0          2.2         0   1       0           7   \n",
              "1              1021     1          0.5         1   0       1          53   \n",
              "2               563     1          0.5         1   2       1          41   \n",
              "3               615     1          2.5         0   0       0          10   \n",
              "4              1821     1          1.2         0  13       1          44   \n",
              "...             ...   ...          ...       ...  ..     ...         ...   \n",
              "1995            794     1          0.5         1   0       1           2   \n",
              "1996           1965     1          2.6         1   0       0          39   \n",
              "1997           1911     0          0.9         1   1       1          36   \n",
              "1998           1512     0          0.9         0   4       1          46   \n",
              "1999            510     1          2.0         1   5       1          45   \n",
              "\n",
              "      m_dep  mobile_wt  n_cores  ...  px_height  px_width   ram  sc_h  sc_w  \\\n",
              "0       0.6        188        2  ...         20       756  2549     9     7   \n",
              "1       0.7        136        3  ...        905      1988  2631    17     3   \n",
              "2       0.9        145        5  ...       1263      1716  2603    11     2   \n",
              "3       0.8        131        6  ...       1216      1786  2769    16     8   \n",
              "4       0.6        141        2  ...       1208      1212  1411     8     2   \n",
              "...     ...        ...      ...  ...        ...       ...   ...   ...   ...   \n",
              "1995    0.8        106        6  ...       1222      1890   668    13     4   \n",
              "1996    0.2        187        4  ...        915      1965  2032    11    10   \n",
              "1997    0.7        108        8  ...        868      1632  3057     9     1   \n",
              "1998    0.1        145        5  ...        336       670   869    18    10   \n",
              "1999    0.9        168        6  ...        483       754  3919    19     4   \n",
              "\n",
              "      talk_time  three_g  touch_screen  wifi  price_range  \n",
              "0            19        0             0     1            1  \n",
              "1             7        1             1     0            2  \n",
              "2             9        1             1     0            2  \n",
              "3            11        1             0     0            2  \n",
              "4            15        1             1     0            1  \n",
              "...         ...      ...           ...   ...          ...  \n",
              "1995         19        1             1     0            0  \n",
              "1996         16        1             1     1            2  \n",
              "1997          5        1             1     0            3  \n",
              "1998         19        1             1     1            0  \n",
              "1999          2        1             1     1            3  \n",
              "\n",
              "[2000 rows x 21 columns]"
            ],
            "text/html": [
              "\n",
              "  <div id=\"df-e7e3e73b-a4ca-42c7-9610-41b6e42e6748\" class=\"colab-df-container\">\n",
              "    <div>\n",
              "<style scoped>\n",
              "    .dataframe tbody tr th:only-of-type {\n",
              "        vertical-align: middle;\n",
              "    }\n",
              "\n",
              "    .dataframe tbody tr th {\n",
              "        vertical-align: top;\n",
              "    }\n",
              "\n",
              "    .dataframe thead th {\n",
              "        text-align: right;\n",
              "    }\n",
              "</style>\n",
              "<table border=\"1\" class=\"dataframe\">\n",
              "  <thead>\n",
              "    <tr style=\"text-align: right;\">\n",
              "      <th></th>\n",
              "      <th>battery_power</th>\n",
              "      <th>blue</th>\n",
              "      <th>clock_speed</th>\n",
              "      <th>dual_sim</th>\n",
              "      <th>fc</th>\n",
              "      <th>four_g</th>\n",
              "      <th>int_memory</th>\n",
              "      <th>m_dep</th>\n",
              "      <th>mobile_wt</th>\n",
              "      <th>n_cores</th>\n",
              "      <th>...</th>\n",
              "      <th>px_height</th>\n",
              "      <th>px_width</th>\n",
              "      <th>ram</th>\n",
              "      <th>sc_h</th>\n",
              "      <th>sc_w</th>\n",
              "      <th>talk_time</th>\n",
              "      <th>three_g</th>\n",
              "      <th>touch_screen</th>\n",
              "      <th>wifi</th>\n",
              "      <th>price_range</th>\n",
              "    </tr>\n",
              "  </thead>\n",
              "  <tbody>\n",
              "    <tr>\n",
              "      <th>0</th>\n",
              "      <td>842</td>\n",
              "      <td>0</td>\n",
              "      <td>2.2</td>\n",
              "      <td>0</td>\n",
              "      <td>1</td>\n",
              "      <td>0</td>\n",
              "      <td>7</td>\n",
              "      <td>0.6</td>\n",
              "      <td>188</td>\n",
              "      <td>2</td>\n",
              "      <td>...</td>\n",
              "      <td>20</td>\n",
              "      <td>756</td>\n",
              "      <td>2549</td>\n",
              "      <td>9</td>\n",
              "      <td>7</td>\n",
              "      <td>19</td>\n",
              "      <td>0</td>\n",
              "      <td>0</td>\n",
              "      <td>1</td>\n",
              "      <td>1</td>\n",
              "    </tr>\n",
              "    <tr>\n",
              "      <th>1</th>\n",
              "      <td>1021</td>\n",
              "      <td>1</td>\n",
              "      <td>0.5</td>\n",
              "      <td>1</td>\n",
              "      <td>0</td>\n",
              "      <td>1</td>\n",
              "      <td>53</td>\n",
              "      <td>0.7</td>\n",
              "      <td>136</td>\n",
              "      <td>3</td>\n",
              "      <td>...</td>\n",
              "      <td>905</td>\n",
              "      <td>1988</td>\n",
              "      <td>2631</td>\n",
              "      <td>17</td>\n",
              "      <td>3</td>\n",
              "      <td>7</td>\n",
              "      <td>1</td>\n",
              "      <td>1</td>\n",
              "      <td>0</td>\n",
              "      <td>2</td>\n",
              "    </tr>\n",
              "    <tr>\n",
              "      <th>2</th>\n",
              "      <td>563</td>\n",
              "      <td>1</td>\n",
              "      <td>0.5</td>\n",
              "      <td>1</td>\n",
              "      <td>2</td>\n",
              "      <td>1</td>\n",
              "      <td>41</td>\n",
              "      <td>0.9</td>\n",
              "      <td>145</td>\n",
              "      <td>5</td>\n",
              "      <td>...</td>\n",
              "      <td>1263</td>\n",
              "      <td>1716</td>\n",
              "      <td>2603</td>\n",
              "      <td>11</td>\n",
              "      <td>2</td>\n",
              "      <td>9</td>\n",
              "      <td>1</td>\n",
              "      <td>1</td>\n",
              "      <td>0</td>\n",
              "      <td>2</td>\n",
              "    </tr>\n",
              "    <tr>\n",
              "      <th>3</th>\n",
              "      <td>615</td>\n",
              "      <td>1</td>\n",
              "      <td>2.5</td>\n",
              "      <td>0</td>\n",
              "      <td>0</td>\n",
              "      <td>0</td>\n",
              "      <td>10</td>\n",
              "      <td>0.8</td>\n",
              "      <td>131</td>\n",
              "      <td>6</td>\n",
              "      <td>...</td>\n",
              "      <td>1216</td>\n",
              "      <td>1786</td>\n",
              "      <td>2769</td>\n",
              "      <td>16</td>\n",
              "      <td>8</td>\n",
              "      <td>11</td>\n",
              "      <td>1</td>\n",
              "      <td>0</td>\n",
              "      <td>0</td>\n",
              "      <td>2</td>\n",
              "    </tr>\n",
              "    <tr>\n",
              "      <th>4</th>\n",
              "      <td>1821</td>\n",
              "      <td>1</td>\n",
              "      <td>1.2</td>\n",
              "      <td>0</td>\n",
              "      <td>13</td>\n",
              "      <td>1</td>\n",
              "      <td>44</td>\n",
              "      <td>0.6</td>\n",
              "      <td>141</td>\n",
              "      <td>2</td>\n",
              "      <td>...</td>\n",
              "      <td>1208</td>\n",
              "      <td>1212</td>\n",
              "      <td>1411</td>\n",
              "      <td>8</td>\n",
              "      <td>2</td>\n",
              "      <td>15</td>\n",
              "      <td>1</td>\n",
              "      <td>1</td>\n",
              "      <td>0</td>\n",
              "      <td>1</td>\n",
              "    </tr>\n",
              "    <tr>\n",
              "      <th>...</th>\n",
              "      <td>...</td>\n",
              "      <td>...</td>\n",
              "      <td>...</td>\n",
              "      <td>...</td>\n",
              "      <td>...</td>\n",
              "      <td>...</td>\n",
              "      <td>...</td>\n",
              "      <td>...</td>\n",
              "      <td>...</td>\n",
              "      <td>...</td>\n",
              "      <td>...</td>\n",
              "      <td>...</td>\n",
              "      <td>...</td>\n",
              "      <td>...</td>\n",
              "      <td>...</td>\n",
              "      <td>...</td>\n",
              "      <td>...</td>\n",
              "      <td>...</td>\n",
              "      <td>...</td>\n",
              "      <td>...</td>\n",
              "      <td>...</td>\n",
              "    </tr>\n",
              "    <tr>\n",
              "      <th>1995</th>\n",
              "      <td>794</td>\n",
              "      <td>1</td>\n",
              "      <td>0.5</td>\n",
              "      <td>1</td>\n",
              "      <td>0</td>\n",
              "      <td>1</td>\n",
              "      <td>2</td>\n",
              "      <td>0.8</td>\n",
              "      <td>106</td>\n",
              "      <td>6</td>\n",
              "      <td>...</td>\n",
              "      <td>1222</td>\n",
              "      <td>1890</td>\n",
              "      <td>668</td>\n",
              "      <td>13</td>\n",
              "      <td>4</td>\n",
              "      <td>19</td>\n",
              "      <td>1</td>\n",
              "      <td>1</td>\n",
              "      <td>0</td>\n",
              "      <td>0</td>\n",
              "    </tr>\n",
              "    <tr>\n",
              "      <th>1996</th>\n",
              "      <td>1965</td>\n",
              "      <td>1</td>\n",
              "      <td>2.6</td>\n",
              "      <td>1</td>\n",
              "      <td>0</td>\n",
              "      <td>0</td>\n",
              "      <td>39</td>\n",
              "      <td>0.2</td>\n",
              "      <td>187</td>\n",
              "      <td>4</td>\n",
              "      <td>...</td>\n",
              "      <td>915</td>\n",
              "      <td>1965</td>\n",
              "      <td>2032</td>\n",
              "      <td>11</td>\n",
              "      <td>10</td>\n",
              "      <td>16</td>\n",
              "      <td>1</td>\n",
              "      <td>1</td>\n",
              "      <td>1</td>\n",
              "      <td>2</td>\n",
              "    </tr>\n",
              "    <tr>\n",
              "      <th>1997</th>\n",
              "      <td>1911</td>\n",
              "      <td>0</td>\n",
              "      <td>0.9</td>\n",
              "      <td>1</td>\n",
              "      <td>1</td>\n",
              "      <td>1</td>\n",
              "      <td>36</td>\n",
              "      <td>0.7</td>\n",
              "      <td>108</td>\n",
              "      <td>8</td>\n",
              "      <td>...</td>\n",
              "      <td>868</td>\n",
              "      <td>1632</td>\n",
              "      <td>3057</td>\n",
              "      <td>9</td>\n",
              "      <td>1</td>\n",
              "      <td>5</td>\n",
              "      <td>1</td>\n",
              "      <td>1</td>\n",
              "      <td>0</td>\n",
              "      <td>3</td>\n",
              "    </tr>\n",
              "    <tr>\n",
              "      <th>1998</th>\n",
              "      <td>1512</td>\n",
              "      <td>0</td>\n",
              "      <td>0.9</td>\n",
              "      <td>0</td>\n",
              "      <td>4</td>\n",
              "      <td>1</td>\n",
              "      <td>46</td>\n",
              "      <td>0.1</td>\n",
              "      <td>145</td>\n",
              "      <td>5</td>\n",
              "      <td>...</td>\n",
              "      <td>336</td>\n",
              "      <td>670</td>\n",
              "      <td>869</td>\n",
              "      <td>18</td>\n",
              "      <td>10</td>\n",
              "      <td>19</td>\n",
              "      <td>1</td>\n",
              "      <td>1</td>\n",
              "      <td>1</td>\n",
              "      <td>0</td>\n",
              "    </tr>\n",
              "    <tr>\n",
              "      <th>1999</th>\n",
              "      <td>510</td>\n",
              "      <td>1</td>\n",
              "      <td>2.0</td>\n",
              "      <td>1</td>\n",
              "      <td>5</td>\n",
              "      <td>1</td>\n",
              "      <td>45</td>\n",
              "      <td>0.9</td>\n",
              "      <td>168</td>\n",
              "      <td>6</td>\n",
              "      <td>...</td>\n",
              "      <td>483</td>\n",
              "      <td>754</td>\n",
              "      <td>3919</td>\n",
              "      <td>19</td>\n",
              "      <td>4</td>\n",
              "      <td>2</td>\n",
              "      <td>1</td>\n",
              "      <td>1</td>\n",
              "      <td>1</td>\n",
              "      <td>3</td>\n",
              "    </tr>\n",
              "  </tbody>\n",
              "</table>\n",
              "<p>2000 rows × 21 columns</p>\n",
              "</div>\n",
              "    <div class=\"colab-df-buttons\">\n",
              "\n",
              "  <div class=\"colab-df-container\">\n",
              "    <button class=\"colab-df-convert\" onclick=\"convertToInteractive('df-e7e3e73b-a4ca-42c7-9610-41b6e42e6748')\"\n",
              "            title=\"Convert this dataframe to an interactive table.\"\n",
              "            style=\"display:none;\">\n",
              "\n",
              "  <svg xmlns=\"http://www.w3.org/2000/svg\" height=\"24px\" viewBox=\"0 -960 960 960\">\n",
              "    <path d=\"M120-120v-720h720v720H120Zm60-500h600v-160H180v160Zm220 220h160v-160H400v160Zm0 220h160v-160H400v160ZM180-400h160v-160H180v160Zm440 0h160v-160H620v160ZM180-180h160v-160H180v160Zm440 0h160v-160H620v160Z\"/>\n",
              "  </svg>\n",
              "    </button>\n",
              "\n",
              "  <style>\n",
              "    .colab-df-container {\n",
              "      display:flex;\n",
              "      gap: 12px;\n",
              "    }\n",
              "\n",
              "    .colab-df-convert {\n",
              "      background-color: #E8F0FE;\n",
              "      border: none;\n",
              "      border-radius: 50%;\n",
              "      cursor: pointer;\n",
              "      display: none;\n",
              "      fill: #1967D2;\n",
              "      height: 32px;\n",
              "      padding: 0 0 0 0;\n",
              "      width: 32px;\n",
              "    }\n",
              "\n",
              "    .colab-df-convert:hover {\n",
              "      background-color: #E2EBFA;\n",
              "      box-shadow: 0px 1px 2px rgba(60, 64, 67, 0.3), 0px 1px 3px 1px rgba(60, 64, 67, 0.15);\n",
              "      fill: #174EA6;\n",
              "    }\n",
              "\n",
              "    .colab-df-buttons div {\n",
              "      margin-bottom: 4px;\n",
              "    }\n",
              "\n",
              "    [theme=dark] .colab-df-convert {\n",
              "      background-color: #3B4455;\n",
              "      fill: #D2E3FC;\n",
              "    }\n",
              "\n",
              "    [theme=dark] .colab-df-convert:hover {\n",
              "      background-color: #434B5C;\n",
              "      box-shadow: 0px 1px 3px 1px rgba(0, 0, 0, 0.15);\n",
              "      filter: drop-shadow(0px 1px 2px rgba(0, 0, 0, 0.3));\n",
              "      fill: #FFFFFF;\n",
              "    }\n",
              "  </style>\n",
              "\n",
              "    <script>\n",
              "      const buttonEl =\n",
              "        document.querySelector('#df-e7e3e73b-a4ca-42c7-9610-41b6e42e6748 button.colab-df-convert');\n",
              "      buttonEl.style.display =\n",
              "        google.colab.kernel.accessAllowed ? 'block' : 'none';\n",
              "\n",
              "      async function convertToInteractive(key) {\n",
              "        const element = document.querySelector('#df-e7e3e73b-a4ca-42c7-9610-41b6e42e6748');\n",
              "        const dataTable =\n",
              "          await google.colab.kernel.invokeFunction('convertToInteractive',\n",
              "                                                    [key], {});\n",
              "        if (!dataTable) return;\n",
              "\n",
              "        const docLinkHtml = 'Like what you see? Visit the ' +\n",
              "          '<a target=\"_blank\" href=https://colab.research.google.com/notebooks/data_table.ipynb>data table notebook</a>'\n",
              "          + ' to learn more about interactive tables.';\n",
              "        element.innerHTML = '';\n",
              "        dataTable['output_type'] = 'display_data';\n",
              "        await google.colab.output.renderOutput(dataTable, element);\n",
              "        const docLink = document.createElement('div');\n",
              "        docLink.innerHTML = docLinkHtml;\n",
              "        element.appendChild(docLink);\n",
              "      }\n",
              "    </script>\n",
              "  </div>\n",
              "\n",
              "\n",
              "<div id=\"df-b2b0761e-61d9-4f84-b42c-3c234f98abe2\">\n",
              "  <button class=\"colab-df-quickchart\" onclick=\"quickchart('df-b2b0761e-61d9-4f84-b42c-3c234f98abe2')\"\n",
              "            title=\"Suggest charts\"\n",
              "            style=\"display:none;\">\n",
              "\n",
              "<svg xmlns=\"http://www.w3.org/2000/svg\" height=\"24px\"viewBox=\"0 0 24 24\"\n",
              "     width=\"24px\">\n",
              "    <g>\n",
              "        <path d=\"M19 3H5c-1.1 0-2 .9-2 2v14c0 1.1.9 2 2 2h14c1.1 0 2-.9 2-2V5c0-1.1-.9-2-2-2zM9 17H7v-7h2v7zm4 0h-2V7h2v10zm4 0h-2v-4h2v4z\"/>\n",
              "    </g>\n",
              "</svg>\n",
              "  </button>\n",
              "\n",
              "<style>\n",
              "  .colab-df-quickchart {\n",
              "      --bg-color: #E8F0FE;\n",
              "      --fill-color: #1967D2;\n",
              "      --hover-bg-color: #E2EBFA;\n",
              "      --hover-fill-color: #174EA6;\n",
              "      --disabled-fill-color: #AAA;\n",
              "      --disabled-bg-color: #DDD;\n",
              "  }\n",
              "\n",
              "  [theme=dark] .colab-df-quickchart {\n",
              "      --bg-color: #3B4455;\n",
              "      --fill-color: #D2E3FC;\n",
              "      --hover-bg-color: #434B5C;\n",
              "      --hover-fill-color: #FFFFFF;\n",
              "      --disabled-bg-color: #3B4455;\n",
              "      --disabled-fill-color: #666;\n",
              "  }\n",
              "\n",
              "  .colab-df-quickchart {\n",
              "    background-color: var(--bg-color);\n",
              "    border: none;\n",
              "    border-radius: 50%;\n",
              "    cursor: pointer;\n",
              "    display: none;\n",
              "    fill: var(--fill-color);\n",
              "    height: 32px;\n",
              "    padding: 0;\n",
              "    width: 32px;\n",
              "  }\n",
              "\n",
              "  .colab-df-quickchart:hover {\n",
              "    background-color: var(--hover-bg-color);\n",
              "    box-shadow: 0 1px 2px rgba(60, 64, 67, 0.3), 0 1px 3px 1px rgba(60, 64, 67, 0.15);\n",
              "    fill: var(--button-hover-fill-color);\n",
              "  }\n",
              "\n",
              "  .colab-df-quickchart-complete:disabled,\n",
              "  .colab-df-quickchart-complete:disabled:hover {\n",
              "    background-color: var(--disabled-bg-color);\n",
              "    fill: var(--disabled-fill-color);\n",
              "    box-shadow: none;\n",
              "  }\n",
              "\n",
              "  .colab-df-spinner {\n",
              "    border: 2px solid var(--fill-color);\n",
              "    border-color: transparent;\n",
              "    border-bottom-color: var(--fill-color);\n",
              "    animation:\n",
              "      spin 1s steps(1) infinite;\n",
              "  }\n",
              "\n",
              "  @keyframes spin {\n",
              "    0% {\n",
              "      border-color: transparent;\n",
              "      border-bottom-color: var(--fill-color);\n",
              "      border-left-color: var(--fill-color);\n",
              "    }\n",
              "    20% {\n",
              "      border-color: transparent;\n",
              "      border-left-color: var(--fill-color);\n",
              "      border-top-color: var(--fill-color);\n",
              "    }\n",
              "    30% {\n",
              "      border-color: transparent;\n",
              "      border-left-color: var(--fill-color);\n",
              "      border-top-color: var(--fill-color);\n",
              "      border-right-color: var(--fill-color);\n",
              "    }\n",
              "    40% {\n",
              "      border-color: transparent;\n",
              "      border-right-color: var(--fill-color);\n",
              "      border-top-color: var(--fill-color);\n",
              "    }\n",
              "    60% {\n",
              "      border-color: transparent;\n",
              "      border-right-color: var(--fill-color);\n",
              "    }\n",
              "    80% {\n",
              "      border-color: transparent;\n",
              "      border-right-color: var(--fill-color);\n",
              "      border-bottom-color: var(--fill-color);\n",
              "    }\n",
              "    90% {\n",
              "      border-color: transparent;\n",
              "      border-bottom-color: var(--fill-color);\n",
              "    }\n",
              "  }\n",
              "</style>\n",
              "\n",
              "  <script>\n",
              "    async function quickchart(key) {\n",
              "      const quickchartButtonEl =\n",
              "        document.querySelector('#' + key + ' button');\n",
              "      quickchartButtonEl.disabled = true;  // To prevent multiple clicks.\n",
              "      quickchartButtonEl.classList.add('colab-df-spinner');\n",
              "      try {\n",
              "        const charts = await google.colab.kernel.invokeFunction(\n",
              "            'suggestCharts', [key], {});\n",
              "      } catch (error) {\n",
              "        console.error('Error during call to suggestCharts:', error);\n",
              "      }\n",
              "      quickchartButtonEl.classList.remove('colab-df-spinner');\n",
              "      quickchartButtonEl.classList.add('colab-df-quickchart-complete');\n",
              "    }\n",
              "    (() => {\n",
              "      let quickchartButtonEl =\n",
              "        document.querySelector('#df-b2b0761e-61d9-4f84-b42c-3c234f98abe2 button');\n",
              "      quickchartButtonEl.style.display =\n",
              "        google.colab.kernel.accessAllowed ? 'block' : 'none';\n",
              "    })();\n",
              "  </script>\n",
              "</div>\n",
              "\n",
              "  <div id=\"id_4b214277-c49e-4121-8b5f-f85c1c022c30\">\n",
              "    <style>\n",
              "      .colab-df-generate {\n",
              "        background-color: #E8F0FE;\n",
              "        border: none;\n",
              "        border-radius: 50%;\n",
              "        cursor: pointer;\n",
              "        display: none;\n",
              "        fill: #1967D2;\n",
              "        height: 32px;\n",
              "        padding: 0 0 0 0;\n",
              "        width: 32px;\n",
              "      }\n",
              "\n",
              "      .colab-df-generate:hover {\n",
              "        background-color: #E2EBFA;\n",
              "        box-shadow: 0px 1px 2px rgba(60, 64, 67, 0.3), 0px 1px 3px 1px rgba(60, 64, 67, 0.15);\n",
              "        fill: #174EA6;\n",
              "      }\n",
              "\n",
              "      [theme=dark] .colab-df-generate {\n",
              "        background-color: #3B4455;\n",
              "        fill: #D2E3FC;\n",
              "      }\n",
              "\n",
              "      [theme=dark] .colab-df-generate:hover {\n",
              "        background-color: #434B5C;\n",
              "        box-shadow: 0px 1px 3px 1px rgba(0, 0, 0, 0.15);\n",
              "        filter: drop-shadow(0px 1px 2px rgba(0, 0, 0, 0.3));\n",
              "        fill: #FFFFFF;\n",
              "      }\n",
              "    </style>\n",
              "    <button class=\"colab-df-generate\" onclick=\"generateWithVariable('df')\"\n",
              "            title=\"Generate code using this dataframe.\"\n",
              "            style=\"display:none;\">\n",
              "\n",
              "  <svg xmlns=\"http://www.w3.org/2000/svg\" height=\"24px\"viewBox=\"0 0 24 24\"\n",
              "       width=\"24px\">\n",
              "    <path d=\"M7,19H8.4L18.45,9,17,7.55,7,17.6ZM5,21V16.75L18.45,3.32a2,2,0,0,1,2.83,0l1.4,1.43a1.91,1.91,0,0,1,.58,1.4,1.91,1.91,0,0,1-.58,1.4L9.25,21ZM18.45,9,17,7.55Zm-12,3A5.31,5.31,0,0,0,4.9,8.1,5.31,5.31,0,0,0,1,6.5,5.31,5.31,0,0,0,4.9,4.9,5.31,5.31,0,0,0,6.5,1,5.31,5.31,0,0,0,8.1,4.9,5.31,5.31,0,0,0,12,6.5,5.46,5.46,0,0,0,6.5,12Z\"/>\n",
              "  </svg>\n",
              "    </button>\n",
              "    <script>\n",
              "      (() => {\n",
              "      const buttonEl =\n",
              "        document.querySelector('#id_4b214277-c49e-4121-8b5f-f85c1c022c30 button.colab-df-generate');\n",
              "      buttonEl.style.display =\n",
              "        google.colab.kernel.accessAllowed ? 'block' : 'none';\n",
              "\n",
              "      buttonEl.onclick = () => {\n",
              "        google.colab.notebook.generateWithVariable('df');\n",
              "      }\n",
              "      })();\n",
              "    </script>\n",
              "  </div>\n",
              "\n",
              "    </div>\n",
              "  </div>\n"
            ],
            "application/vnd.google.colaboratory.intrinsic+json": {
              "type": "dataframe",
              "variable_name": "df"
            }
          },
          "metadata": {},
          "execution_count": 158
        }
      ]
    },
    {
      "cell_type": "markdown",
      "source": [
        "### Dataset Rows & Columns count"
      ],
      "metadata": {
        "id": "7hBIi_osiCS2"
      }
    },
    {
      "cell_type": "code",
      "source": [
        "# Dataset Rows & Columns count\n",
        "df.shape"
      ],
      "metadata": {
        "id": "Kllu7SJgmLij",
        "colab": {
          "base_uri": "https://localhost:8080/"
        },
        "outputId": "fffcb515-8d2e-4748-ee83-964d0dbaa34c"
      },
      "execution_count": 159,
      "outputs": [
        {
          "output_type": "execute_result",
          "data": {
            "text/plain": [
              "(2000, 21)"
            ]
          },
          "metadata": {},
          "execution_count": 159
        }
      ]
    },
    {
      "cell_type": "markdown",
      "source": [
        "### Dataset Information"
      ],
      "metadata": {
        "id": "JlHwYmJAmNHm"
      }
    },
    {
      "cell_type": "code",
      "source": [
        "# Dataset Info\n",
        "df.info()"
      ],
      "metadata": {
        "id": "e9hRXRi6meOf",
        "colab": {
          "base_uri": "https://localhost:8080/"
        },
        "outputId": "f7e822a8-a5ec-4586-a1a6-9759388a323e"
      },
      "execution_count": 160,
      "outputs": [
        {
          "output_type": "stream",
          "name": "stdout",
          "text": [
            "<class 'pandas.core.frame.DataFrame'>\n",
            "RangeIndex: 2000 entries, 0 to 1999\n",
            "Data columns (total 21 columns):\n",
            " #   Column         Non-Null Count  Dtype  \n",
            "---  ------         --------------  -----  \n",
            " 0   battery_power  2000 non-null   int64  \n",
            " 1   blue           2000 non-null   int64  \n",
            " 2   clock_speed    2000 non-null   float64\n",
            " 3   dual_sim       2000 non-null   int64  \n",
            " 4   fc             2000 non-null   int64  \n",
            " 5   four_g         2000 non-null   int64  \n",
            " 6   int_memory     2000 non-null   int64  \n",
            " 7   m_dep          2000 non-null   float64\n",
            " 8   mobile_wt      2000 non-null   int64  \n",
            " 9   n_cores        2000 non-null   int64  \n",
            " 10  pc             2000 non-null   int64  \n",
            " 11  px_height      2000 non-null   int64  \n",
            " 12  px_width       2000 non-null   int64  \n",
            " 13  ram            2000 non-null   int64  \n",
            " 14  sc_h           2000 non-null   int64  \n",
            " 15  sc_w           2000 non-null   int64  \n",
            " 16  talk_time      2000 non-null   int64  \n",
            " 17  three_g        2000 non-null   int64  \n",
            " 18  touch_screen   2000 non-null   int64  \n",
            " 19  wifi           2000 non-null   int64  \n",
            " 20  price_range    2000 non-null   int64  \n",
            "dtypes: float64(2), int64(19)\n",
            "memory usage: 328.2 KB\n"
          ]
        }
      ]
    },
    {
      "cell_type": "markdown",
      "source": [
        "#### Duplicate Values"
      ],
      "metadata": {
        "id": "35m5QtbWiB9F"
      }
    },
    {
      "cell_type": "code",
      "source": [
        "# Dataset Duplicate Value Count\n",
        "df.duplicated().sum()"
      ],
      "metadata": {
        "id": "1sLdpKYkmox0",
        "colab": {
          "base_uri": "https://localhost:8080/"
        },
        "outputId": "bd0ebec4-0f50-4cf2-acec-eb4ed6b34f84"
      },
      "execution_count": 161,
      "outputs": [
        {
          "output_type": "execute_result",
          "data": {
            "text/plain": [
              "0"
            ]
          },
          "metadata": {},
          "execution_count": 161
        }
      ]
    },
    {
      "cell_type": "markdown",
      "source": [
        "#### Missing Values/Null Values"
      ],
      "metadata": {
        "id": "PoPl-ycgm1ru"
      }
    },
    {
      "cell_type": "code",
      "source": [
        "# Missing Values/Null Values Count\n",
        "null_df = df.isnull().sum()\n",
        "null_df"
      ],
      "metadata": {
        "id": "GgHWkxvamxVg",
        "colab": {
          "base_uri": "https://localhost:8080/",
          "height": 742
        },
        "outputId": "226a4b81-2b82-4b53-a2ab-e352b0ec6165"
      },
      "execution_count": 162,
      "outputs": [
        {
          "output_type": "execute_result",
          "data": {
            "text/plain": [
              "battery_power    0\n",
              "blue             0\n",
              "clock_speed      0\n",
              "dual_sim         0\n",
              "fc               0\n",
              "four_g           0\n",
              "int_memory       0\n",
              "m_dep            0\n",
              "mobile_wt        0\n",
              "n_cores          0\n",
              "pc               0\n",
              "px_height        0\n",
              "px_width         0\n",
              "ram              0\n",
              "sc_h             0\n",
              "sc_w             0\n",
              "talk_time        0\n",
              "three_g          0\n",
              "touch_screen     0\n",
              "wifi             0\n",
              "price_range      0\n",
              "dtype: int64"
            ],
            "text/html": [
              "<div>\n",
              "<style scoped>\n",
              "    .dataframe tbody tr th:only-of-type {\n",
              "        vertical-align: middle;\n",
              "    }\n",
              "\n",
              "    .dataframe tbody tr th {\n",
              "        vertical-align: top;\n",
              "    }\n",
              "\n",
              "    .dataframe thead th {\n",
              "        text-align: right;\n",
              "    }\n",
              "</style>\n",
              "<table border=\"1\" class=\"dataframe\">\n",
              "  <thead>\n",
              "    <tr style=\"text-align: right;\">\n",
              "      <th></th>\n",
              "      <th>0</th>\n",
              "    </tr>\n",
              "  </thead>\n",
              "  <tbody>\n",
              "    <tr>\n",
              "      <th>battery_power</th>\n",
              "      <td>0</td>\n",
              "    </tr>\n",
              "    <tr>\n",
              "      <th>blue</th>\n",
              "      <td>0</td>\n",
              "    </tr>\n",
              "    <tr>\n",
              "      <th>clock_speed</th>\n",
              "      <td>0</td>\n",
              "    </tr>\n",
              "    <tr>\n",
              "      <th>dual_sim</th>\n",
              "      <td>0</td>\n",
              "    </tr>\n",
              "    <tr>\n",
              "      <th>fc</th>\n",
              "      <td>0</td>\n",
              "    </tr>\n",
              "    <tr>\n",
              "      <th>four_g</th>\n",
              "      <td>0</td>\n",
              "    </tr>\n",
              "    <tr>\n",
              "      <th>int_memory</th>\n",
              "      <td>0</td>\n",
              "    </tr>\n",
              "    <tr>\n",
              "      <th>m_dep</th>\n",
              "      <td>0</td>\n",
              "    </tr>\n",
              "    <tr>\n",
              "      <th>mobile_wt</th>\n",
              "      <td>0</td>\n",
              "    </tr>\n",
              "    <tr>\n",
              "      <th>n_cores</th>\n",
              "      <td>0</td>\n",
              "    </tr>\n",
              "    <tr>\n",
              "      <th>pc</th>\n",
              "      <td>0</td>\n",
              "    </tr>\n",
              "    <tr>\n",
              "      <th>px_height</th>\n",
              "      <td>0</td>\n",
              "    </tr>\n",
              "    <tr>\n",
              "      <th>px_width</th>\n",
              "      <td>0</td>\n",
              "    </tr>\n",
              "    <tr>\n",
              "      <th>ram</th>\n",
              "      <td>0</td>\n",
              "    </tr>\n",
              "    <tr>\n",
              "      <th>sc_h</th>\n",
              "      <td>0</td>\n",
              "    </tr>\n",
              "    <tr>\n",
              "      <th>sc_w</th>\n",
              "      <td>0</td>\n",
              "    </tr>\n",
              "    <tr>\n",
              "      <th>talk_time</th>\n",
              "      <td>0</td>\n",
              "    </tr>\n",
              "    <tr>\n",
              "      <th>three_g</th>\n",
              "      <td>0</td>\n",
              "    </tr>\n",
              "    <tr>\n",
              "      <th>touch_screen</th>\n",
              "      <td>0</td>\n",
              "    </tr>\n",
              "    <tr>\n",
              "      <th>wifi</th>\n",
              "      <td>0</td>\n",
              "    </tr>\n",
              "    <tr>\n",
              "      <th>price_range</th>\n",
              "      <td>0</td>\n",
              "    </tr>\n",
              "  </tbody>\n",
              "</table>\n",
              "</div><br><label><b>dtype:</b> int64</label>"
            ]
          },
          "metadata": {},
          "execution_count": 162
        }
      ]
    },
    {
      "cell_type": "code",
      "source": [
        "# Visualizing the missing values\n",
        "plt.figure(figsize=(3,3))\n",
        "plt.plot(data=null_df)"
      ],
      "metadata": {
        "id": "3q5wnI3om9sJ",
        "colab": {
          "base_uri": "https://localhost:8080/",
          "height": 308
        },
        "outputId": "371f9402-e47d-4f72-b582-8d94035dcc34"
      },
      "execution_count": 163,
      "outputs": [
        {
          "output_type": "execute_result",
          "data": {
            "text/plain": [
              "[]"
            ]
          },
          "metadata": {},
          "execution_count": 163
        },
        {
          "output_type": "display_data",
          "data": {
            "text/plain": [
              "<Figure size 300x300 with 1 Axes>"
            ],
            "image/png": "[encoded data removed]"
          },
          "metadata": {}
        }
      ]
    },
    {
      "cell_type": "markdown",
      "source": [
        "### What did you know about your dataset?"
      ],
      "metadata": {
        "id": "H0kj-8xxnORC"
      }
    },
    {
      "cell_type": "markdown",
      "source": [
        "The given dataset from competitive mobile market companies contains '21' columns and '2000' rows. Dataset doesn't contain any duplicated or null/empty values in cells."
      ],
      "metadata": {
        "id": "gfoNAAC-nUe_"
      }
    },
    {
      "cell_type": "markdown",
      "source": [
        "## ***2. Understanding our Variables***"
      ],
      "metadata": {
        "id": "nA9Y7ga8ng1Z"
      }
    },
    {
      "cell_type": "code",
      "source": [
        "# Dataset Columns\n",
        "df.columns"
      ],
      "metadata": {
        "id": "j7xfkqrt5Ag5",
        "colab": {
          "base_uri": "https://localhost:8080/"
        },
        "outputId": "9a185c05-3747-423c-9da0-6d87ddff3764"
      },
      "execution_count": 164,
      "outputs": [
        {
          "output_type": "execute_result",
          "data": {
            "text/plain": [
              "Index(['battery_power', 'blue', 'clock_speed', 'dual_sim', 'fc', 'four_g',\n",
              "       'int_memory', 'm_dep', 'mobile_wt', 'n_cores', 'pc', 'px_height',\n",
              "       'px_width', 'ram', 'sc_h', 'sc_w', 'talk_time', 'three_g',\n",
              "       'touch_screen', 'wifi', 'price_range'],\n",
              "      dtype='object')"
            ]
          },
          "metadata": {},
          "execution_count": 164
        }
      ]
    },
    {
      "cell_type": "code",
      "source": [
        "# Dataset Describe\n",
        "df.describe()"
      ],
      "metadata": {
        "id": "DnOaZdaE5Q5t",
        "colab": {
          "base_uri": "https://localhost:8080/",
          "height": 349
        },
        "outputId": "935cfd13-cb15-4a6d-d352-e7830ffafc92"
      },
      "execution_count": 165,
      "outputs": [
        {
          "output_type": "execute_result",
          "data": {
            "text/plain": [
              "       battery_power       blue  clock_speed     dual_sim           fc  \\\n",
              "count    2000.000000  2000.0000  2000.000000  2000.000000  2000.000000   \n",
              "mean     1238.518500     0.4950     1.522250     0.509500     4.309500   \n",
              "std       439.418206     0.5001     0.816004     0.500035     4.341444   \n",
              "min       501.000000     0.0000     0.500000     0.000000     0.000000   \n",
              "25%       851.750000     0.0000     0.700000     0.000000     1.000000   \n",
              "50%      1226.000000     0.0000     1.500000     1.000000     3.000000   \n",
              "75%      1615.250000     1.0000     2.200000     1.000000     7.000000   \n",
              "max      1998.000000     1.0000     3.000000     1.000000    19.000000   \n",
              "\n",
              "            four_g   int_memory        m_dep    mobile_wt      n_cores  ...  \\\n",
              "count  2000.000000  2000.000000  2000.000000  2000.000000  2000.000000  ...   \n",
              "mean      0.521500    32.046500     0.501750   140.249000     4.520500  ...   \n",
              "std       0.499662    18.145715     0.288416    35.399655     2.287837  ...   \n",
              "min       0.000000     2.000000     0.100000    80.000000     1.000000  ...   \n",
              "25%       0.000000    16.000000     0.200000   109.000000     3.000000  ...   \n",
              "50%       1.000000    32.000000     0.500000   141.000000     4.000000  ...   \n",
              "75%       1.000000    48.000000     0.800000   170.000000     7.000000  ...   \n",
              "max       1.000000    64.000000     1.000000   200.000000     8.000000  ...   \n",
              "\n",
              "         px_height     px_width          ram         sc_h         sc_w  \\\n",
              "count  2000.000000  2000.000000  2000.000000  2000.000000  2000.000000   \n",
              "mean    645.108000  1251.515500  2124.213000    12.306500     5.767000   \n",
              "std     443.780811   432.199447  1084.732044     4.213245     4.356398   \n",
              "min       0.000000   500.000000   256.000000     5.000000     0.000000   \n",
              "25%     282.750000   874.750000  1207.500000     9.000000     2.000000   \n",
              "50%     564.000000  1247.000000  2146.500000    12.000000     5.000000   \n",
              "75%     947.250000  1633.000000  3064.500000    16.000000     9.000000   \n",
              "max    1960.000000  1998.000000  3998.000000    19.000000    18.000000   \n",
              "\n",
              "         talk_time      three_g  touch_screen         wifi  price_range  \n",
              "count  2000.000000  2000.000000   2000.000000  2000.000000  2000.000000  \n",
              "mean     11.011000     0.761500      0.503000     0.507000     1.500000  \n",
              "std       5.463955     0.426273      0.500116     0.500076     1.118314  \n",
              "min       2.000000     0.000000      0.000000     0.000000     0.000000  \n",
              "25%       6.000000     1.000000      0.000000     0.000000     0.750000  \n",
              "50%      11.000000     1.000000      1.000000     1.000000     1.500000  \n",
              "75%      16.000000     1.000000      1.000000     1.000000     2.250000  \n",
              "max      20.000000     1.000000      1.000000     1.000000     3.000000  \n",
              "\n",
              "[8 rows x 21 columns]"
            ],
            "text/html": [
              "\n",
              "  <div id=\"df-e565263a-c219-40e9-9264-3bddb9089590\" class=\"colab-df-container\">\n",
              "    <div>\n",
              "<style scoped>\n",
              "    .dataframe tbody tr th:only-of-type {\n",
              "        vertical-align: middle;\n",
              "    }\n",
              "\n",
              "    .dataframe tbody tr th {\n",
              "        vertical-align: top;\n",
              "    }\n",
              "\n",
              "    .dataframe thead th {\n",
              "        text-align: right;\n",
              "    }\n",
              "</style>\n",
              "<table border=\"1\" class=\"dataframe\">\n",
              "  <thead>\n",
              "    <tr style=\"text-align: right;\">\n",
              "      <th></th>\n",
              "      <th>battery_power</th>\n",
              "      <th>blue</th>\n",
              "      <th>clock_speed</th>\n",
              "      <th>dual_sim</th>\n",
              "      <th>fc</th>\n",
              "      <th>four_g</th>\n",
              "      <th>int_memory</th>\n",
              "      <th>m_dep</th>\n",
              "      <th>mobile_wt</th>\n",
              "      <th>n_cores</th>\n",
              "      <th>...</th>\n",
              "      <th>px_height</th>\n",
              "      <th>px_width</th>\n",
              "      <th>ram</th>\n",
              "      <th>sc_h</th>\n",
              "      <th>sc_w</th>\n",
              "      <th>talk_time</th>\n",
              "      <th>three_g</th>\n",
              "      <th>touch_screen</th>\n",
              "      <th>wifi</th>\n",
              "      <th>price_range</th>\n",
              "    </tr>\n",
              "  </thead>\n",
              "  <tbody>\n",
              "    <tr>\n",
              "      <th>count</th>\n",
              "      <td>2000.000000</td>\n",
              "      <td>2000.0000</td>\n",
              "      <td>2000.000000</td>\n",
              "      <td>2000.000000</td>\n",
              "      <td>2000.000000</td>\n",
              "      <td>2000.000000</td>\n",
              "      <td>2000.000000</td>\n",
              "      <td>2000.000000</td>\n",
              "      <td>2000.000000</td>\n",
              "      <td>2000.000000</td>\n",
              "      <td>...</td>\n",
              "      <td>2000.000000</td>\n",
              "      <td>2000.000000</td>\n",
              "      <td>2000.000000</td>\n",
              "      <td>2000.000000</td>\n",
              "      <td>2000.000000</td>\n",
              "      <td>2000.000000</td>\n",
              "      <td>2000.000000</td>\n",
              "      <td>2000.000000</td>\n",
              "      <td>2000.000000</td>\n",
              "      <td>2000.000000</td>\n",
              "    </tr>\n",
              "    <tr>\n",
              "      <th>mean</th>\n",
              "      <td>1238.518500</td>\n",
              "      <td>0.4950</td>\n",
              "      <td>1.522250</td>\n",
              "      <td>0.509500</td>\n",
              "      <td>4.309500</td>\n",
              "      <td>0.521500</td>\n",
              "      <td>32.046500</td>\n",
              "      <td>0.501750</td>\n",
              "      <td>140.249000</td>\n",
              "      <td>4.520500</td>\n",
              "      <td>...</td>\n",
              "      <td>645.108000</td>\n",
              "      <td>1251.515500</td>\n",
              "      <td>2124.213000</td>\n",
              "      <td>12.306500</td>\n",
              "      <td>5.767000</td>\n",
              "      <td>11.011000</td>\n",
              "      <td>0.761500</td>\n",
              "      <td>0.503000</td>\n",
              "      <td>0.507000</td>\n",
              "      <td>1.500000</td>\n",
              "    </tr>\n",
              "    <tr>\n",
              "      <th>std</th>\n",
              "      <td>439.418206</td>\n",
              "      <td>0.5001</td>\n",
              "      <td>0.816004</td>\n",
              "      <td>0.500035</td>\n",
              "      <td>4.341444</td>\n",
              "      <td>0.499662</td>\n",
              "      <td>18.145715</td>\n",
              "      <td>0.288416</td>\n",
              "      <td>35.399655</td>\n",
              "      <td>2.287837</td>\n",
              "      <td>...</td>\n",
              "      <td>443.780811</td>\n",
              "      <td>432.199447</td>\n",
              "      <td>1084.732044</td>\n",
              "      <td>4.213245</td>\n",
              "      <td>4.356398</td>\n",
              "      <td>5.463955</td>\n",
              "      <td>0.426273</td>\n",
              "      <td>0.500116</td>\n",
              "      <td>0.500076</td>\n",
              "      <td>1.118314</td>\n",
              "    </tr>\n",
              "    <tr>\n",
              "      <th>min</th>\n",
              "      <td>501.000000</td>\n",
              "      <td>0.0000</td>\n",
              "      <td>0.500000</td>\n",
              "      <td>0.000000</td>\n",
              "      <td>0.000000</td>\n",
              "      <td>0.000000</td>\n",
              "      <td>2.000000</td>\n",
              "      <td>0.100000</td>\n",
              "      <td>80.000000</td>\n",
              "      <td>1.000000</td>\n",
              "      <td>...</td>\n",
              "      <td>0.000000</td>\n",
              "      <td>500.000000</td>\n",
              "      <td>256.000000</td>\n",
              "      <td>5.000000</td>\n",
              "      <td>0.000000</td>\n",
              "      <td>2.000000</td>\n",
              "      <td>0.000000</td>\n",
              "      <td>0.000000</td>\n",
              "      <td>0.000000</td>\n",
              "      <td>0.000000</td>\n",
              "    </tr>\n",
              "    <tr>\n",
              "      <th>25%</th>\n",
              "      <td>851.750000</td>\n",
              "      <td>0.0000</td>\n",
              "      <td>0.700000</td>\n",
              "      <td>0.000000</td>\n",
              "      <td>1.000000</td>\n",
              "      <td>0.000000</td>\n",
              "      <td>16.000000</td>\n",
              "      <td>0.200000</td>\n",
              "      <td>109.000000</td>\n",
              "      <td>3.000000</td>\n",
              "      <td>...</td>\n",
              "      <td>282.750000</td>\n",
              "      <td>874.750000</td>\n",
              "      <td>1207.500000</td>\n",
              "      <td>9.000000</td>\n",
              "      <td>2.000000</td>\n",
              "      <td>6.000000</td>\n",
              "      <td>1.000000</td>\n",
              "      <td>0.000000</td>\n",
              "      <td>0.000000</td>\n",
              "      <td>0.750000</td>\n",
              "    </tr>\n",
              "    <tr>\n",
              "      <th>50%</th>\n",
              "      <td>1226.000000</td>\n",
              "      <td>0.0000</td>\n",
              "      <td>1.500000</td>\n",
              "      <td>1.000000</td>\n",
              "      <td>3.000000</td>\n",
              "      <td>1.000000</td>\n",
              "      <td>32.000000</td>\n",
              "      <td>0.500000</td>\n",
              "      <td>141.000000</td>\n",
              "      <td>4.000000</td>\n",
              "      <td>...</td>\n",
              "      <td>564.000000</td>\n",
              "      <td>1247.000000</td>\n",
              "      <td>2146.500000</td>\n",
              "      <td>12.000000</td>\n",
              "      <td>5.000000</td>\n",
              "      <td>11.000000</td>\n",
              "      <td>1.000000</td>\n",
              "      <td>1.000000</td>\n",
              "      <td>1.000000</td>\n",
              "      <td>1.500000</td>\n",
              "    </tr>\n",
              "    <tr>\n",
              "      <th>75%</th>\n",
              "      <td>1615.250000</td>\n",
              "      <td>1.0000</td>\n",
              "      <td>2.200000</td>\n",
              "      <td>1.000000</td>\n",
              "      <td>7.000000</td>\n",
              "      <td>1.000000</td>\n",
              "      <td>48.000000</td>\n",
              "      <td>0.800000</td>\n",
              "      <td>170.000000</td>\n",
              "      <td>7.000000</td>\n",
              "      <td>...</td>\n",
              "      <td>947.250000</td>\n",
              "      <td>1633.000000</td>\n",
              "      <td>3064.500000</td>\n",
              "      <td>16.000000</td>\n",
              "      <td>9.000000</td>\n",
              "      <td>16.000000</td>\n",
              "      <td>1.000000</td>\n",
              "      <td>1.000000</td>\n",
              "      <td>1.000000</td>\n",
              "      <td>2.250000</td>\n",
              "    </tr>\n",
              "    <tr>\n",
              "      <th>max</th>\n",
              "      <td>1998.000000</td>\n",
              "      <td>1.0000</td>\n",
              "      <td>3.000000</td>\n",
              "      <td>1.000000</td>\n",
              "      <td>19.000000</td>\n",
              "      <td>1.000000</td>\n",
              "      <td>64.000000</td>\n",
              "      <td>1.000000</td>\n",
              "      <td>200.000000</td>\n",
              "      <td>8.000000</td>\n",
              "      <td>...</td>\n",
              "      <td>1960.000000</td>\n",
              "      <td>1998.000000</td>\n",
              "      <td>3998.000000</td>\n",
              "      <td>19.000000</td>\n",
              "      <td>18.000000</td>\n",
              "      <td>20.000000</td>\n",
              "      <td>1.000000</td>\n",
              "      <td>1.000000</td>\n",
              "      <td>1.000000</td>\n",
              "      <td>3.000000</td>\n",
              "    </tr>\n",
              "  </tbody>\n",
              "</table>\n",
              "<p>8 rows × 21 columns</p>\n",
              "</div>\n",
              "    <div class=\"colab-df-buttons\">\n",
              "\n",
              "  <div class=\"colab-df-container\">\n",
              "    <button class=\"colab-df-convert\" onclick=\"convertToInteractive('df-e565263a-c219-40e9-9264-3bddb9089590')\"\n",
              "            title=\"Convert this dataframe to an interactive table.\"\n",
              "            style=\"display:none;\">\n",
              "\n",
              "  <svg xmlns=\"http://www.w3.org/2000/svg\" height=\"24px\" viewBox=\"0 -960 960 960\">\n",
              "    <path d=\"M120-120v-720h720v720H120Zm60-500h600v-160H180v160Zm220 220h160v-160H400v160Zm0 220h160v-160H400v160ZM180-400h160v-160H180v160Zm440 0h160v-160H620v160ZM180-180h160v-160H180v160Zm440 0h160v-160H620v160Z\"/>\n",
              "  </svg>\n",
              "    </button>\n",
              "\n",
              "  <style>\n",
              "    .colab-df-container {\n",
              "      display:flex;\n",
              "      gap: 12px;\n",
              "    }\n",
              "\n",
              "    .colab-df-convert {\n",
              "      background-color: #E8F0FE;\n",
              "      border: none;\n",
              "      border-radius: 50%;\n",
              "      cursor: pointer;\n",
              "      display: none;\n",
              "      fill: #1967D2;\n",
              "      height: 32px;\n",
              "      padding: 0 0 0 0;\n",
              "      width: 32px;\n",
              "    }\n",
              "\n",
              "    .colab-df-convert:hover {\n",
              "      background-color: #E2EBFA;\n",
              "      box-shadow: 0px 1px 2px rgba(60, 64, 67, 0.3), 0px 1px 3px 1px rgba(60, 64, 67, 0.15);\n",
              "      fill: #174EA6;\n",
              "    }\n",
              "\n",
              "    .colab-df-buttons div {\n",
              "      margin-bottom: 4px;\n",
              "    }\n",
              "\n",
              "    [theme=dark] .colab-df-convert {\n",
              "      background-color: #3B4455;\n",
              "      fill: #D2E3FC;\n",
              "    }\n",
              "\n",
              "    [theme=dark] .colab-df-convert:hover {\n",
              "      background-color: #434B5C;\n",
              "      box-shadow: 0px 1px 3px 1px rgba(0, 0, 0, 0.15);\n",
              "      filter: drop-shadow(0px 1px 2px rgba(0, 0, 0, 0.3));\n",
              "      fill: #FFFFFF;\n",
              "    }\n",
              "  </style>\n",
              "\n",
              "    <script>\n",
              "      const buttonEl =\n",
              "        document.querySelector('#df-e565263a-c219-40e9-9264-3bddb9089590 button.colab-df-convert');\n",
              "      buttonEl.style.display =\n",
              "        google.colab.kernel.accessAllowed ? 'block' : 'none';\n",
              "\n",
              "      async function convertToInteractive(key) {\n",
              "        const element = document.querySelector('#df-e565263a-c219-40e9-9264-3bddb9089590');\n",
              "        const dataTable =\n",
              "          await google.colab.kernel.invokeFunction('convertToInteractive',\n",
              "                                                    [key], {});\n",
              "        if (!dataTable) return;\n",
              "\n",
              "        const docLinkHtml = 'Like what you see? Visit the ' +\n",
              "          '<a target=\"_blank\" href=https://colab.research.google.com/notebooks/data_table.ipynb>data table notebook</a>'\n",
              "          + ' to learn more about interactive tables.';\n",
              "        element.innerHTML = '';\n",
              "        dataTable['output_type'] = 'display_data';\n",
              "        await google.colab.output.renderOutput(dataTable, element);\n",
              "        const docLink = document.createElement('div');\n",
              "        docLink.innerHTML = docLinkHtml;\n",
              "        element.appendChild(docLink);\n",
              "      }\n",
              "    </script>\n",
              "  </div>\n",
              "\n",
              "\n",
              "<div id=\"df-4771c64c-8ab5-49a6-b7a7-4972f12f23b2\">\n",
              "  <button class=\"colab-df-quickchart\" onclick=\"quickchart('df-4771c64c-8ab5-49a6-b7a7-4972f12f23b2')\"\n",
              "            title=\"Suggest charts\"\n",
              "            style=\"display:none;\">\n",
              "\n",
              "<svg xmlns=\"http://www.w3.org/2000/svg\" height=\"24px\"viewBox=\"0 0 24 24\"\n",
              "     width=\"24px\">\n",
              "    <g>\n",
              "        <path d=\"M19 3H5c-1.1 0-2 .9-2 2v14c0 1.1.9 2 2 2h14c1.1 0 2-.9 2-2V5c0-1.1-.9-2-2-2zM9 17H7v-7h2v7zm4 0h-2V7h2v10zm4 0h-2v-4h2v4z\"/>\n",
              "    </g>\n",
              "</svg>\n",
              "  </button>\n",
              "\n",
              "<style>\n",
              "  .colab-df-quickchart {\n",
              "      --bg-color: #E8F0FE;\n",
              "      --fill-color: #1967D2;\n",
              "      --hover-bg-color: #E2EBFA;\n",
              "      --hover-fill-color: #174EA6;\n",
              "      --disabled-fill-color: #AAA;\n",
              "      --disabled-bg-color: #DDD;\n",
              "  }\n",
              "\n",
              "  [theme=dark] .colab-df-quickchart {\n",
              "      --bg-color: #3B4455;\n",
              "      --fill-color: #D2E3FC;\n",
              "      --hover-bg-color: #434B5C;\n",
              "      --hover-fill-color: #FFFFFF;\n",
              "      --disabled-bg-color: #3B4455;\n",
              "      --disabled-fill-color: #666;\n",
              "  }\n",
              "\n",
              "  .colab-df-quickchart {\n",
              "    background-color: var(--bg-color);\n",
              "    border: none;\n",
              "    border-radius: 50%;\n",
              "    cursor: pointer;\n",
              "    display: none;\n",
              "    fill: var(--fill-color);\n",
              "    height: 32px;\n",
              "    padding: 0;\n",
              "    width: 32px;\n",
              "  }\n",
              "\n",
              "  .colab-df-quickchart:hover {\n",
              "    background-color: var(--hover-bg-color);\n",
              "    box-shadow: 0 1px 2px rgba(60, 64, 67, 0.3), 0 1px 3px 1px rgba(60, 64, 67, 0.15);\n",
              "    fill: var(--button-hover-fill-color);\n",
              "  }\n",
              "\n",
              "  .colab-df-quickchart-complete:disabled,\n",
              "  .colab-df-quickchart-complete:disabled:hover {\n",
              "    background-color: var(--disabled-bg-color);\n",
              "    fill: var(--disabled-fill-color);\n",
              "    box-shadow: none;\n",
              "  }\n",
              "\n",
              "  .colab-df-spinner {\n",
              "    border: 2px solid var(--fill-color);\n",
              "    border-color: transparent;\n",
              "    border-bottom-color: var(--fill-color);\n",
              "    animation:\n",
              "      spin 1s steps(1) infinite;\n",
              "  }\n",
              "\n",
              "  @keyframes spin {\n",
              "    0% {\n",
              "      border-color: transparent;\n",
              "      border-bottom-color: var(--fill-color);\n",
              "      border-left-color: var(--fill-color);\n",
              "    }\n",
              "    20% {\n",
              "      border-color: transparent;\n",
              "      border-left-color: var(--fill-color);\n",
              "      border-top-color: var(--fill-color);\n",
              "    }\n",
              "    30% {\n",
              "      border-color: transparent;\n",
              "      border-left-color: var(--fill-color);\n",
              "      border-top-color: var(--fill-color);\n",
              "      border-right-color: var(--fill-color);\n",
              "    }\n",
              "    40% {\n",
              "      border-color: transparent;\n",
              "      border-right-color: var(--fill-color);\n",
              "      border-top-color: var(--fill-color);\n",
              "    }\n",
              "    60% {\n",
              "      border-color: transparent;\n",
              "      border-right-color: var(--fill-color);\n",
              "    }\n",
              "    80% {\n",
              "      border-color: transparent;\n",
              "      border-right-color: var(--fill-color);\n",
              "      border-bottom-color: var(--fill-color);\n",
              "    }\n",
              "    90% {\n",
              "      border-color: transparent;\n",
              "      border-bottom-color: var(--fill-color);\n",
              "    }\n",
              "  }\n",
              "</style>\n",
              "\n",
              "  <script>\n",
              "    async function quickchart(key) {\n",
              "      const quickchartButtonEl =\n",
              "        document.querySelector('#' + key + ' button');\n",
              "      quickchartButtonEl.disabled = true;  // To prevent multiple clicks.\n",
              "      quickchartButtonEl.classList.add('colab-df-spinner');\n",
              "      try {\n",
              "        const charts = await google.colab.kernel.invokeFunction(\n",
              "            'suggestCharts', [key], {});\n",
              "      } catch (error) {\n",
              "        console.error('Error during call to suggestCharts:', error);\n",
              "      }\n",
              "      quickchartButtonEl.classList.remove('colab-df-spinner');\n",
              "      quickchartButtonEl.classList.add('colab-df-quickchart-complete');\n",
              "    }\n",
              "    (() => {\n",
              "      let quickchartButtonEl =\n",
              "        document.querySelector('#df-4771c64c-8ab5-49a6-b7a7-4972f12f23b2 button');\n",
              "      quickchartButtonEl.style.display =\n",
              "        google.colab.kernel.accessAllowed ? 'block' : 'none';\n",
              "    })();\n",
              "  </script>\n",
              "</div>\n",
              "\n",
              "    </div>\n",
              "  </div>\n"
            ],
            "application/vnd.google.colaboratory.intrinsic+json": {
              "type": "dataframe"
            }
          },
          "metadata": {},
          "execution_count": 165
        }
      ]
    },
    {
      "cell_type": "markdown",
      "source": [
        "### Variables Description"
      ],
      "metadata": {
        "id": "PBTbrJXOngz2"
      }
    },
    {
      "cell_type": "markdown",
      "source": [
        "![Classification_Mobile_Price_Range_Prediction.png](data:image/png;base64,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)"
      ],
      "metadata": {
        "id": "aJV4KIxSnxay"
      }
    },
    {
      "cell_type": "markdown",
      "source": [
        "### Check Unique Values for each variable."
      ],
      "metadata": {
        "id": "u3PMJOP6ngxN"
      }
    },
    {
      "cell_type": "code",
      "source": [
        "# Check Unique Values for each variable.\n",
        "df.nunique()"
      ],
      "metadata": {
        "id": "zms12Yq5n-jE",
        "colab": {
          "base_uri": "https://localhost:8080/",
          "height": 742
        },
        "outputId": "30ecdcdc-68e5-4a74-c176-a4fe404ddb7b"
      },
      "execution_count": 166,
      "outputs": [
        {
          "output_type": "execute_result",
          "data": {
            "text/plain": [
              "battery_power    1094\n",
              "blue                2\n",
              "clock_speed        26\n",
              "dual_sim            2\n",
              "fc                 20\n",
              "four_g              2\n",
              "int_memory         63\n",
              "m_dep              10\n",
              "mobile_wt         121\n",
              "n_cores             8\n",
              "pc                 21\n",
              "px_height        1137\n",
              "px_width         1109\n",
              "ram              1562\n",
              "sc_h               15\n",
              "sc_w               19\n",
              "talk_time          19\n",
              "three_g             2\n",
              "touch_screen        2\n",
              "wifi                2\n",
              "price_range         4\n",
              "dtype: int64"
            ],
            "text/html": [
              "<div>\n",
              "<style scoped>\n",
              "    .dataframe tbody tr th:only-of-type {\n",
              "        vertical-align: middle;\n",
              "    }\n",
              "\n",
              "    .dataframe tbody tr th {\n",
              "        vertical-align: top;\n",
              "    }\n",
              "\n",
              "    .dataframe thead th {\n",
              "        text-align: right;\n",
              "    }\n",
              "</style>\n",
              "<table border=\"1\" class=\"dataframe\">\n",
              "  <thead>\n",
              "    <tr style=\"text-align: right;\">\n",
              "      <th></th>\n",
              "      <th>0</th>\n",
              "    </tr>\n",
              "  </thead>\n",
              "  <tbody>\n",
              "    <tr>\n",
              "      <th>battery_power</th>\n",
              "      <td>1094</td>\n",
              "    </tr>\n",
              "    <tr>\n",
              "      <th>blue</th>\n",
              "      <td>2</td>\n",
              "    </tr>\n",
              "    <tr>\n",
              "      <th>clock_speed</th>\n",
              "      <td>26</td>\n",
              "    </tr>\n",
              "    <tr>\n",
              "      <th>dual_sim</th>\n",
              "      <td>2</td>\n",
              "    </tr>\n",
              "    <tr>\n",
              "      <th>fc</th>\n",
              "      <td>20</td>\n",
              "    </tr>\n",
              "    <tr>\n",
              "      <th>four_g</th>\n",
              "      <td>2</td>\n",
              "    </tr>\n",
              "    <tr>\n",
              "      <th>int_memory</th>\n",
              "      <td>63</td>\n",
              "    </tr>\n",
              "    <tr>\n",
              "      <th>m_dep</th>\n",
              "      <td>10</td>\n",
              "    </tr>\n",
              "    <tr>\n",
              "      <th>mobile_wt</th>\n",
              "      <td>121</td>\n",
              "    </tr>\n",
              "    <tr>\n",
              "      <th>n_cores</th>\n",
              "      <td>8</td>\n",
              "    </tr>\n",
              "    <tr>\n",
              "      <th>pc</th>\n",
              "      <td>21</td>\n",
              "    </tr>\n",
              "    <tr>\n",
              "      <th>px_height</th>\n",
              "      <td>1137</td>\n",
              "    </tr>\n",
              "    <tr>\n",
              "      <th>px_width</th>\n",
              "      <td>1109</td>\n",
              "    </tr>\n",
              "    <tr>\n",
              "      <th>ram</th>\n",
              "      <td>1562</td>\n",
              "    </tr>\n",
              "    <tr>\n",
              "      <th>sc_h</th>\n",
              "      <td>15</td>\n",
              "    </tr>\n",
              "    <tr>\n",
              "      <th>sc_w</th>\n",
              "      <td>19</td>\n",
              "    </tr>\n",
              "    <tr>\n",
              "      <th>talk_time</th>\n",
              "      <td>19</td>\n",
              "    </tr>\n",
              "    <tr>\n",
              "      <th>three_g</th>\n",
              "      <td>2</td>\n",
              "    </tr>\n",
              "    <tr>\n",
              "      <th>touch_screen</th>\n",
              "      <td>2</td>\n",
              "    </tr>\n",
              "    <tr>\n",
              "      <th>wifi</th>\n",
              "      <td>2</td>\n",
              "    </tr>\n",
              "    <tr>\n",
              "      <th>price_range</th>\n",
              "      <td>4</td>\n",
              "    </tr>\n",
              "  </tbody>\n",
              "</table>\n",
              "</div><br><label><b>dtype:</b> int64</label>"
            ]
          },
          "metadata": {},
          "execution_count": 166
        }
      ]
    },
    {
      "cell_type": "markdown",
      "source": [
        "## 3. ***Data Wrangling***"
      ],
      "metadata": {
        "id": "dauF4eBmngu3"
      }
    },
    {
      "cell_type": "markdown",
      "source": [
        "### Data Wrangling Code"
      ],
      "metadata": {
        "id": "bKJF3rekwFvQ"
      }
    },
    {
      "cell_type": "code",
      "source": [
        "# first let's save original dataframe as a copy\n",
        "df_copy = df.copy()"
      ],
      "metadata": {
        "id": "IQdSeMpW5p-y"
      },
      "execution_count": 167,
      "outputs": []
    },
    {
      "cell_type": "code",
      "source": [
        "# Write your code to make your dataset analysis ready\n",
        "# let's check first if there are columns with '0' apart from the ones where it is necessary\n",
        "zero_count = (df == 0).sum()\n",
        "col_zero = zero_count[zero_count > 0]\n",
        "print(col_zero)"
      ],
      "metadata": {
        "id": "wk-9a2fpoLcV",
        "colab": {
          "base_uri": "https://localhost:8080/"
        },
        "outputId": "c1bff51a-8cdf-4731-d196-7c6f003d1fe8"
      },
      "execution_count": 168,
      "outputs": [
        {
          "output_type": "stream",
          "name": "stdout",
          "text": [
            "blue            1010\n",
            "dual_sim         981\n",
            "fc               474\n",
            "four_g           957\n",
            "pc               101\n",
            "px_height          2\n",
            "sc_w             180\n",
            "three_g          477\n",
            "touch_screen     994\n",
            "wifi             986\n",
            "price_range      500\n",
            "dtype: int64\n"
          ]
        }
      ]
    },
    {
      "cell_type": "markdown",
      "source": [
        "Here, the colummns who shouldn't contain value '0' (might be a cause of error) are:\n",
        "\n",
        "'fc', 'pc', 'px_height', 'sc_w'."
      ],
      "metadata": {
        "id": "65ow9Tw4hSf3"
      }
    },
    {
      "cell_type": "code",
      "source": [
        "# Let's just replace '0' values in 'fc', 'pc', 'sc_w', and 'px_height' columns with their  respective mean values\n",
        "df[['fc','pc','sc_w','px_height']] = df[['fc','pc','sc_w','px_height']].apply(lambda x: x.replace(0, x.mean()))"
      ],
      "metadata": {
        "id": "CaCDdFJxh21G"
      },
      "execution_count": 169,
      "outputs": []
    },
    {
      "cell_type": "code",
      "source": [
        "# let's check if it worked or not\n",
        "if (df[['fc','pc','sc_w','px_height']] == 0).any().any():\n",
        "  print(\"Values '0' in column found\")\n",
        "else:\n",
        "  print(\"No values '0' left in columns : ['fc','pc','sc_w','px_height']\")"
      ],
      "metadata": {
        "id": "pmvHzkJz3irH",
        "colab": {
          "base_uri": "https://localhost:8080/"
        },
        "outputId": "8c6028d7-c13c-44e0-8bfb-c63a169c57be"
      },
      "execution_count": 170,
      "outputs": [
        {
          "output_type": "stream",
          "name": "stdout",
          "text": [
            "No values '0' left in columns : ['fc','pc','sc_w','px_height']\n"
          ]
        }
      ]
    },
    {
      "cell_type": "markdown",
      "source": [
        "### What all manipulations have you done and insights you found?"
      ],
      "metadata": {
        "id": "MSa1f5Uengrz"
      }
    },
    {
      "cell_type": "markdown",
      "source": [
        "Apart from the columns that had binary values '0' for 'No' and '1' for 'yes', there were data in columns which had '0' as values which should not be the case, so we replaced those vales with average or mean values of the columns respectively."
      ],
      "metadata": {
        "id": "LbyXE7I1olp8"
      }
    },
    {
      "cell_type": "markdown",
      "source": [
        "## ***4. Data Vizualization, Storytelling & Experimenting with charts : Understand the relationships between variables***"
      ],
      "metadata": {
        "id": "GF8Ens_Soomf"
      }
    },
    {
      "cell_type": "markdown",
      "source": [
        "#### Chart - 1"
      ],
      "metadata": {
        "id": "0wOQAZs5pc--"
      }
    },
    {
      "cell_type": "code",
      "source": [
        "df.columns"
      ],
      "metadata": {
        "colab": {
          "base_uri": "https://localhost:8080/"
        },
        "id": "TFdVdk7jS7TK",
        "outputId": "f3f61f03-018b-4aff-9f0a-539b5cde60d8"
      },
      "execution_count": 171,
      "outputs": [
        {
          "output_type": "execute_result",
          "data": {
            "text/plain": [
              "Index(['battery_power', 'blue', 'clock_speed', 'dual_sim', 'fc', 'four_g',\n",
              "       'int_memory', 'm_dep', 'mobile_wt', 'n_cores', 'pc', 'px_height',\n",
              "       'px_width', 'ram', 'sc_h', 'sc_w', 'talk_time', 'three_g',\n",
              "       'touch_screen', 'wifi', 'price_range'],\n",
              "      dtype='object')"
            ]
          },
          "metadata": {},
          "execution_count": 171
        }
      ]
    },
    {
      "cell_type": "code",
      "source": [
        "# Chart - 1 visualizing price range count\n",
        "sns.countplot(data=df, x='price_range')\n",
        "plt.xlabel('Price range of Mobile phones')\n",
        "plt.ylabel('Count of Mobile phones')\n",
        "plt.show()"
      ],
      "metadata": {
        "id": "7v_ESjsspbW7",
        "colab": {
          "base_uri": "https://localhost:8080/",
          "height": 449
        },
        "outputId": "1816ba9c-0de8-420c-d7e2-58be670777ee"
      },
      "execution_count": 172,
      "outputs": [
        {
          "output_type": "display_data",
          "data": {
            "text/plain": [
              "<Figure size 640x480 with 1 Axes>"
            ],
            "image/png": "[encoded data removed]"
          },
          "metadata": {}
        }
      ]
    },
    {
      "cell_type": "markdown",
      "source": [
        "##### 1. Why did you pick the specific chart?"
      ],
      "metadata": {
        "id": "K5QZ13OEpz2H"
      }
    },
    {
      "cell_type": "markdown",
      "source": [
        "Countplot is similar to bar chart and comes handy when we have to display the count of categorical observations in each bin of the dataset."
      ],
      "metadata": {
        "id": "XESiWehPqBRc"
      }
    },
    {
      "cell_type": "markdown",
      "source": [
        "##### 2. What is/are the insight(s) found from the chart?"
      ],
      "metadata": {
        "id": "lQ7QKXXCp7Bj"
      }
    },
    {
      "cell_type": "markdown",
      "source": [
        "From the above graph it is clear that there are 4 categories in mobile price range '0', '1', '2', '3' defining 'low', 'medium', 'high' and 'very high' ranges for mobile phones. Count is equal for all categories i.e. '500' count in each, summed up to 2000 in total."
      ],
      "metadata": {
        "id": "C_j1G7yiqdRP"
      }
    },
    {
      "cell_type": "markdown",
      "source": [
        "#### Chart - 2"
      ],
      "metadata": {
        "id": "KSlN3yHqYklG"
      }
    },
    {
      "cell_type": "code",
      "source": [
        "df_1 = df[['blue','dual_sim', 'four_g','three_g','touch_screen', 'wifi']]\n",
        "df_1.head(2)"
      ],
      "metadata": {
        "id": "R4YgtaqtYklH",
        "colab": {
          "base_uri": "https://localhost:8080/",
          "height": 112
        },
        "outputId": "82015d38-efe1-4ef5-a312-bd2872630ebc"
      },
      "execution_count": 173,
      "outputs": [
        {
          "output_type": "execute_result",
          "data": {
            "text/plain": [
              "   blue  dual_sim  four_g  three_g  touch_screen  wifi\n",
              "0     0         0       0        0             0     1\n",
              "1     1         1       1        1             1     0"
            ],
            "text/html": [
              "\n",
              "  <div id=\"df-642db106-38e3-4f1c-bc97-917fdaaed2ac\" class=\"colab-df-container\">\n",
              "    <div>\n",
              "<style scoped>\n",
              "    .dataframe tbody tr th:only-of-type {\n",
              "        vertical-align: middle;\n",
              "    }\n",
              "\n",
              "    .dataframe tbody tr th {\n",
              "        vertical-align: top;\n",
              "    }\n",
              "\n",
              "    .dataframe thead th {\n",
              "        text-align: right;\n",
              "    }\n",
              "</style>\n",
              "<table border=\"1\" class=\"dataframe\">\n",
              "  <thead>\n",
              "    <tr style=\"text-align: right;\">\n",
              "      <th></th>\n",
              "      <th>blue</th>\n",
              "      <th>dual_sim</th>\n",
              "      <th>four_g</th>\n",
              "      <th>three_g</th>\n",
              "      <th>touch_screen</th>\n",
              "      <th>wifi</th>\n",
              "    </tr>\n",
              "  </thead>\n",
              "  <tbody>\n",
              "    <tr>\n",
              "      <th>0</th>\n",
              "      <td>0</td>\n",
              "      <td>0</td>\n",
              "      <td>0</td>\n",
              "      <td>0</td>\n",
              "      <td>0</td>\n",
              "      <td>1</td>\n",
              "    </tr>\n",
              "    <tr>\n",
              "      <th>1</th>\n",
              "      <td>1</td>\n",
              "      <td>1</td>\n",
              "      <td>1</td>\n",
              "      <td>1</td>\n",
              "      <td>1</td>\n",
              "      <td>0</td>\n",
              "    </tr>\n",
              "  </tbody>\n",
              "</table>\n",
              "</div>\n",
              "    <div class=\"colab-df-buttons\">\n",
              "\n",
              "  <div class=\"colab-df-container\">\n",
              "    <button class=\"colab-df-convert\" onclick=\"convertToInteractive('df-642db106-38e3-4f1c-bc97-917fdaaed2ac')\"\n",
              "            title=\"Convert this dataframe to an interactive table.\"\n",
              "            style=\"display:none;\">\n",
              "\n",
              "  <svg xmlns=\"http://www.w3.org/2000/svg\" height=\"24px\" viewBox=\"0 -960 960 960\">\n",
              "    <path d=\"M120-120v-720h720v720H120Zm60-500h600v-160H180v160Zm220 220h160v-160H400v160Zm0 220h160v-160H400v160ZM180-400h160v-160H180v160Zm440 0h160v-160H620v160ZM180-180h160v-160H180v160Zm440 0h160v-160H620v160Z\"/>\n",
              "  </svg>\n",
              "    </button>\n",
              "\n",
              "  <style>\n",
              "    .colab-df-container {\n",
              "      display:flex;\n",
              "      gap: 12px;\n",
              "    }\n",
              "\n",
              "    .colab-df-convert {\n",
              "      background-color: #E8F0FE;\n",
              "      border: none;\n",
              "      border-radius: 50%;\n",
              "      cursor: pointer;\n",
              "      display: none;\n",
              "      fill: #1967D2;\n",
              "      height: 32px;\n",
              "      padding: 0 0 0 0;\n",
              "      width: 32px;\n",
              "    }\n",
              "\n",
              "    .colab-df-convert:hover {\n",
              "      background-color: #E2EBFA;\n",
              "      box-shadow: 0px 1px 2px rgba(60, 64, 67, 0.3), 0px 1px 3px 1px rgba(60, 64, 67, 0.15);\n",
              "      fill: #174EA6;\n",
              "    }\n",
              "\n",
              "    .colab-df-buttons div {\n",
              "      margin-bottom: 4px;\n",
              "    }\n",
              "\n",
              "    [theme=dark] .colab-df-convert {\n",
              "      background-color: #3B4455;\n",
              "      fill: #D2E3FC;\n",
              "    }\n",
              "\n",
              "    [theme=dark] .colab-df-convert:hover {\n",
              "      background-color: #434B5C;\n",
              "      box-shadow: 0px 1px 3px 1px rgba(0, 0, 0, 0.15);\n",
              "      filter: drop-shadow(0px 1px 2px rgba(0, 0, 0, 0.3));\n",
              "      fill: #FFFFFF;\n",
              "    }\n",
              "  </style>\n",
              "\n",
              "    <script>\n",
              "      const buttonEl =\n",
              "        document.querySelector('#df-642db106-38e3-4f1c-bc97-917fdaaed2ac button.colab-df-convert');\n",
              "      buttonEl.style.display =\n",
              "        google.colab.kernel.accessAllowed ? 'block' : 'none';\n",
              "\n",
              "      async function convertToInteractive(key) {\n",
              "        const element = document.querySelector('#df-642db106-38e3-4f1c-bc97-917fdaaed2ac');\n",
              "        const dataTable =\n",
              "          await google.colab.kernel.invokeFunction('convertToInteractive',\n",
              "                                                    [key], {});\n",
              "        if (!dataTable) return;\n",
              "\n",
              "        const docLinkHtml = 'Like what you see? Visit the ' +\n",
              "          '<a target=\"_blank\" href=https://colab.research.google.com/notebooks/data_table.ipynb>data table notebook</a>'\n",
              "          + ' to learn more about interactive tables.';\n",
              "        element.innerHTML = '';\n",
              "        dataTable['output_type'] = 'display_data';\n",
              "        await google.colab.output.renderOutput(dataTable, element);\n",
              "        const docLink = document.createElement('div');\n",
              "        docLink.innerHTML = docLinkHtml;\n",
              "        element.appendChild(docLink);\n",
              "      }\n",
              "    </script>\n",
              "  </div>\n",
              "\n",
              "\n",
              "<div id=\"df-3996b655-54de-462b-a1b4-b5a3286efd8d\">\n",
              "  <button class=\"colab-df-quickchart\" onclick=\"quickchart('df-3996b655-54de-462b-a1b4-b5a3286efd8d')\"\n",
              "            title=\"Suggest charts\"\n",
              "            style=\"display:none;\">\n",
              "\n",
              "<svg xmlns=\"http://www.w3.org/2000/svg\" height=\"24px\"viewBox=\"0 0 24 24\"\n",
              "     width=\"24px\">\n",
              "    <g>\n",
              "        <path d=\"M19 3H5c-1.1 0-2 .9-2 2v14c0 1.1.9 2 2 2h14c1.1 0 2-.9 2-2V5c0-1.1-.9-2-2-2zM9 17H7v-7h2v7zm4 0h-2V7h2v10zm4 0h-2v-4h2v4z\"/>\n",
              "    </g>\n",
              "</svg>\n",
              "  </button>\n",
              "\n",
              "<style>\n",
              "  .colab-df-quickchart {\n",
              "      --bg-color: #E8F0FE;\n",
              "      --fill-color: #1967D2;\n",
              "      --hover-bg-color: #E2EBFA;\n",
              "      --hover-fill-color: #174EA6;\n",
              "      --disabled-fill-color: #AAA;\n",
              "      --disabled-bg-color: #DDD;\n",
              "  }\n",
              "\n",
              "  [theme=dark] .colab-df-quickchart {\n",
              "      --bg-color: #3B4455;\n",
              "      --fill-color: #D2E3FC;\n",
              "      --hover-bg-color: #434B5C;\n",
              "      --hover-fill-color: #FFFFFF;\n",
              "      --disabled-bg-color: #3B4455;\n",
              "      --disabled-fill-color: #666;\n",
              "  }\n",
              "\n",
              "  .colab-df-quickchart {\n",
              "    background-color: var(--bg-color);\n",
              "    border: none;\n",
              "    border-radius: 50%;\n",
              "    cursor: pointer;\n",
              "    display: none;\n",
              "    fill: var(--fill-color);\n",
              "    height: 32px;\n",
              "    padding: 0;\n",
              "    width: 32px;\n",
              "  }\n",
              "\n",
              "  .colab-df-quickchart:hover {\n",
              "    background-color: var(--hover-bg-color);\n",
              "    box-shadow: 0 1px 2px rgba(60, 64, 67, 0.3), 0 1px 3px 1px rgba(60, 64, 67, 0.15);\n",
              "    fill: var(--button-hover-fill-color);\n",
              "  }\n",
              "\n",
              "  .colab-df-quickchart-complete:disabled,\n",
              "  .colab-df-quickchart-complete:disabled:hover {\n",
              "    background-color: var(--disabled-bg-color);\n",
              "    fill: var(--disabled-fill-color);\n",
              "    box-shadow: none;\n",
              "  }\n",
              "\n",
              "  .colab-df-spinner {\n",
              "    border: 2px solid var(--fill-color);\n",
              "    border-color: transparent;\n",
              "    border-bottom-color: var(--fill-color);\n",
              "    animation:\n",
              "      spin 1s steps(1) infinite;\n",
              "  }\n",
              "\n",
              "  @keyframes spin {\n",
              "    0% {\n",
              "      border-color: transparent;\n",
              "      border-bottom-color: var(--fill-color);\n",
              "      border-left-color: var(--fill-color);\n",
              "    }\n",
              "    20% {\n",
              "      border-color: transparent;\n",
              "      border-left-color: var(--fill-color);\n",
              "      border-top-color: var(--fill-color);\n",
              "    }\n",
              "    30% {\n",
              "      border-color: transparent;\n",
              "      border-left-color: var(--fill-color);\n",
              "      border-top-color: var(--fill-color);\n",
              "      border-right-color: var(--fill-color);\n",
              "    }\n",
              "    40% {\n",
              "      border-color: transparent;\n",
              "      border-right-color: var(--fill-color);\n",
              "      border-top-color: var(--fill-color);\n",
              "    }\n",
              "    60% {\n",
              "      border-color: transparent;\n",
              "      border-right-color: var(--fill-color);\n",
              "    }\n",
              "    80% {\n",
              "      border-color: transparent;\n",
              "      border-right-color: var(--fill-color);\n",
              "      border-bottom-color: var(--fill-color);\n",
              "    }\n",
              "    90% {\n",
              "      border-color: transparent;\n",
              "      border-bottom-color: var(--fill-color);\n",
              "    }\n",
              "  }\n",
              "</style>\n",
              "\n",
              "  <script>\n",
              "    async function quickchart(key) {\n",
              "      const quickchartButtonEl =\n",
              "        document.querySelector('#' + key + ' button');\n",
              "      quickchartButtonEl.disabled = true;  // To prevent multiple clicks.\n",
              "      quickchartButtonEl.classList.add('colab-df-spinner');\n",
              "      try {\n",
              "        const charts = await google.colab.kernel.invokeFunction(\n",
              "            'suggestCharts', [key], {});\n",
              "      } catch (error) {\n",
              "        console.error('Error during call to suggestCharts:', error);\n",
              "      }\n",
              "      quickchartButtonEl.classList.remove('colab-df-spinner');\n",
              "      quickchartButtonEl.classList.add('colab-df-quickchart-complete');\n",
              "    }\n",
              "    (() => {\n",
              "      let quickchartButtonEl =\n",
              "        document.querySelector('#df-3996b655-54de-462b-a1b4-b5a3286efd8d button');\n",
              "      quickchartButtonEl.style.display =\n",
              "        google.colab.kernel.accessAllowed ? 'block' : 'none';\n",
              "    })();\n",
              "  </script>\n",
              "</div>\n",
              "\n",
              "    </div>\n",
              "  </div>\n"
            ],
            "application/vnd.google.colaboratory.intrinsic+json": {
              "type": "dataframe",
              "variable_name": "df_1",
              "summary": "{\n  \"name\": \"df_1\",\n  \"rows\": 2000,\n  \"fields\": [\n    {\n      \"column\": \"blue\",\n      \"properties\": {\n        \"dtype\": \"number\",\n        \"std\": 0,\n        \"min\": 0,\n        \"max\": 1,\n        \"num_unique_values\": 2,\n        \"samples\": [\n          1,\n          0\n        ],\n        \"semantic_type\": \"\",\n        \"description\": \"\"\n      }\n    },\n    {\n      \"column\": \"dual_sim\",\n      \"properties\": {\n        \"dtype\": \"number\",\n        \"std\": 0,\n        \"min\": 0,\n        \"max\": 1,\n        \"num_unique_values\": 2,\n        \"samples\": [\n          1,\n          0\n        ],\n        \"semantic_type\": \"\",\n        \"description\": \"\"\n      }\n    },\n    {\n      \"column\": \"four_g\",\n      \"properties\": {\n        \"dtype\": \"number\",\n        \"std\": 0,\n        \"min\": 0,\n        \"max\": 1,\n        \"num_unique_values\": 2,\n        \"samples\": [\n          1,\n          0\n        ],\n        \"semantic_type\": \"\",\n        \"description\": \"\"\n      }\n    },\n    {\n      \"column\": \"three_g\",\n      \"properties\": {\n        \"dtype\": \"number\",\n        \"std\": 0,\n        \"min\": 0,\n        \"max\": 1,\n        \"num_unique_values\": 2,\n        \"samples\": [\n          1,\n          0\n        ],\n        \"semantic_type\": \"\",\n        \"description\": \"\"\n      }\n    },\n    {\n      \"column\": \"touch_screen\",\n      \"properties\": {\n        \"dtype\": \"number\",\n        \"std\": 0,\n        \"min\": 0,\n        \"max\": 1,\n        \"num_unique_values\": 2,\n        \"samples\": [\n          1,\n          0\n        ],\n        \"semantic_type\": \"\",\n        \"description\": \"\"\n      }\n    },\n    {\n      \"column\": \"wifi\",\n      \"properties\": {\n        \"dtype\": \"number\",\n        \"std\": 0,\n        \"min\": 0,\n        \"max\": 1,\n        \"num_unique_values\": 2,\n        \"samples\": [\n          0,\n          1\n        ],\n        \"semantic_type\": \"\",\n        \"description\": \"\"\n      }\n    }\n  ]\n}"
            }
          },
          "metadata": {},
          "execution_count": 173
        }
      ]
    },
    {
      "cell_type": "code",
      "source": [
        "# let's visualize features with binary values for different price ranges\n",
        "import pandas as pd\n",
        "import seaborn as sns\n",
        "import matplotlib.pyplot as plt\n",
        "\n",
        "# Example DataFrame\n",
        "data = {\n",
        "    'price_range': ['low', 'low', 'mid', 'mid', 'high', 'high'],\n",
        "    'feature_1': [1, 0, 1, 1, 0, 1],\n",
        "    'feature_2': [0, 1, 1, 0, 1, 0],\n",
        "    'feature_3': [1, 0, 0, 1, 1, 1],\n",
        "}\n",
        "\n",
        "df = pd.DataFrame(data)\n",
        "\n",
        "# Grouping data by price range and summing binary features\n",
        "binary_features = df.drop('price_range', axis=1).columns\n",
        "df_grouped = df.groupby('price_range')[binary_features].mean().reset_index()\n",
        "\n",
        "# Melt the DataFrame for easier plotting\n",
        "df_melted = df_grouped.melt(id_vars='price_range', var_name='Feature', value_name='Proportion')\n",
        "\n",
        "# Plotting a heatmap\n",
        "plt.figure(figsize=(10, 6))\n",
        "sns.barplot(x='price_range', y='Proportion', hue='Feature', data=df_melted)\n",
        "plt.title('Proportion of Binary Features by Price Range')\n",
        "plt.ylabel('Proportion')\n",
        "plt.xlabel('Price Range')\n",
        "plt.legend(title='Feature')\n",
        "plt.show()\n"
      ],
      "metadata": {
        "id": "8375SSJD4_0I",
        "colab": {
          "base_uri": "https://localhost:8080/",
          "height": 564
        },
        "outputId": "1db7828b-87b9-4c1f-ea4e-017ce9c9fa90"
      },
      "execution_count": 174,
      "outputs": [
        {
          "output_type": "display_data",
          "data": {
            "text/plain": [
              "<Figure size 1000x600 with 1 Axes>"
            ],
            "image/png": "[encoded data removed]"
          },
          "metadata": {}
        }
      ]
    },
    {
      "cell_type": "markdown",
      "source": [
        "##### 1. Why did you pick the specific chart?"
      ],
      "metadata": {
        "id": "t6dVpIINYklI"
      }
    },
    {
      "cell_type": "markdown",
      "source": [
        "We used Countplot beacause again, it is best for presenting count of values through simple bars or bins."
      ],
      "metadata": {
        "id": "5aaW0BYyYklI"
      }
    },
    {
      "cell_type": "markdown",
      "source": [
        "##### 2. What is/are the insight(s) found from the chart?"
      ],
      "metadata": {
        "id": "ijmpgYnKYklI"
      }
    },
    {
      "cell_type": "markdown",
      "source": [
        "We plotted count of various basic features in Mobile phones like: 'blue' (bluetooth), 'dual_sim', 'touch_screen', 'wifi', 'three_g'(3G), 'four_g'(4G), which had boolean values in our dataset ('0' or '1'), for various price ranges to see how many mobile phones had which basic features and fall in which price range.\n",
        "\n",
        "Almost all of the above features are present atleast across half of every price range, while 'three_g' is consistent maximum count in each price range others vary a little. Moreover we can see the count for each feature in every price range and can even calculate for the count of mobile phones without these features by simply subtracting the count with 500.\n",
        "\n",
        "Total count of presence of features across our dataset of mobiles are:\n",
        "\n",
        "1. 'blue' - 990 out off 2000.\n",
        "\n",
        "2. 'wifi' - 1014 out of 2000.\n",
        "\n",
        "3. 'touch_screen' - 1006 out of 2000.\n",
        "\n",
        "4. 'dual_sim' - 1019 out of 2000.\n",
        "\n",
        "5. 'three_g' - 1523 out of 2000.\n",
        "\n",
        "6. 'four_g' - 1043 out of 2000."
      ],
      "metadata": {
        "id": "PSx9atu2YklI"
      }
    },
    {
      "cell_type": "markdown",
      "source": [
        "##### 3. Will the gained insights help creating a positive business impact?\n",
        "Are there any insights that lead to negative growth? Justify with specific reason."
      ],
      "metadata": {
        "id": "-JiQyfWJYklI"
      }
    },
    {
      "cell_type": "markdown",
      "source": [
        "These insights enable businesses to make data-driven decisions related to product development, pricing, marketing, and inventory management. By aligning their strategies with customer preferences, businesses can increase their competitiveness and better meet the needs of their target audience, ultimately leading to improved customer satisfaction and financial performance."
      ],
      "metadata": {
        "id": "BcBbebzrYklV"
      }
    },
    {
      "cell_type": "markdown",
      "source": [
        "#### Chart - 3"
      ],
      "metadata": {
        "id": "EM7whBJCYoAo"
      }
    },
    {
      "cell_type": "code",
      "source": [
        "# chart 3 visualization code\n",
        "columns_to_plot = ['battery_power', 'clock_speed', 'fc', 'int_memory', 'm_dep', 'mobile_wt', 'n_cores', 'pc', 'px_height', 'px_width', 'ram', 'sc_h', 'sc_w', 'talk_time']"
      ],
      "metadata": {
        "id": "Tb0cIbEjHTu5"
      },
      "execution_count": 175,
      "outputs": []
    },
    {
      "cell_type": "code",
      "source": [
        "# calculating number of rows and columns\n",
        "import pandas as pd\n",
        "\n",
        "# Example DataFrame\n",
        "data = {\n",
        "    'price_range': ['low', 'low', 'mid', 'mid', 'high', 'high'],\n",
        "    'feature_1': [1, 0, 1, 1, 0, 1],\n",
        "    'feature_2': [0, 1, 1, 0, 1, 0],\n",
        "    'feature_3': [1, 0, 0, 1, 1, 1],\n",
        "}\n",
        "\n",
        "df = pd.DataFrame(data)\n",
        "\n",
        "# Get the number of rows and columns\n",
        "num_rows, num_columns = df.shape\n",
        "\n",
        "print(f\"Number of rows: {num_rows}\")\n",
        "print(f\"Number of columns: {num_columns}\")\n"
      ],
      "metadata": {
        "id": "8s4hSJB8HhH9",
        "colab": {
          "base_uri": "https://localhost:8080/"
        },
        "outputId": "2b1694a2-4806-43b3-ab1c-355a2f25be7e"
      },
      "execution_count": 176,
      "outputs": [
        {
          "output_type": "stream",
          "name": "stdout",
          "text": [
            "Number of rows: 6\n",
            "Number of columns: 4\n"
          ]
        }
      ]
    },
    {
      "cell_type": "markdown",
      "source": [
        "##### 1. Why did you pick the specific chart?"
      ],
      "metadata": {
        "id": "fge-S5ZAYoAp"
      }
    },
    {
      "cell_type": "markdown",
      "source": [
        "Boxplots are generally better to show distributions of numeric data, especially when we want to compare multiple groups."
      ],
      "metadata": {
        "id": "5dBItgRVYoAp"
      }
    },
    {
      "cell_type": "markdown",
      "source": [
        "##### 2. What is/are the insight(s) found from the chart?"
      ],
      "metadata": {
        "id": "85gYPyotYoAp"
      }
    },
    {
      "cell_type": "markdown",
      "source": [
        "In the plot we can clearly see the 'Median' values of all the numeric columns against the Price ranges '0', '1', '2', '3' to easily compare any.\n",
        "\n",
        "Additionally, 'Q1' (Lower Quarter of Inter Quantile range) and 'Q3' (Upper Quartile of Inter Quartile range) are also mentioned which qives us Inter quartile range by : 'Q3 - Q1'.\n",
        "\n",
        "Moreover, we have information on outliers in the datset in these features too, as only 'sc_w' (screen width), 'fc' (front camera), 'px_height' (pixel height dimension), and 'ram' (RAM of Mobile) have outliers in dataset."
      ],
      "metadata": {
        "id": "4jstXR6OYoAp"
      }
    },
    {
      "cell_type": "markdown",
      "source": [
        "##### 3. Will the gained insights help creating a positive business impact?\n",
        "Are there any insights that lead to negative growth? Justify with specific reason."
      ],
      "metadata": {
        "id": "RoGjAbkUYoAp"
      }
    },
    {
      "cell_type": "markdown",
      "source": [
        "Insights gained from visualizations like these can lead to informed decision-making, improved product offerings, enhanced customer experiences and ultimately, positive business impacts such as increased sales, customer satisfaction and market competitiveness."
      ],
      "metadata": {
        "id": "zfJ8IqMcYoAp"
      }
    },
    {
      "cell_type": "markdown",
      "source": [
        "#### Chart - 4"
      ],
      "metadata": {
        "id": "4Of9eVA-YrdM"
      }
    },
    {
      "cell_type": "code",
      "source": [
        "# Chart 4 visualization plot\n",
        "import numpy as np\n",
        "import matplotlib.pyplot as plt\n",
        "\n",
        "# Example: list of columns to plot (you should define the relevant columns)\n",
        "columns_to_plot = ['feature_1', 'feature_2', 'feature_3']  # Replace with your actual column names\n",
        "\n",
        "# Set the number of columns and calculate number of rows\n",
        "n_columns = 2\n",
        "n_rows = int(np.ceil(len(columns_to_plot) / n_columns))\n",
        "\n",
        "# Create subplots\n",
        "fig, axes = plt.subplots(nrows=n_rows, ncols=n_columns, figsize=(15, 5 * n_rows))\n",
        "\n",
        "# Flatten axes array to iterate easily\n",
        "axes = axes.flatten()\n",
        "\n",
        "# Example plot for each column (you can replace this with actual plotting logic)\n",
        "for i, column in enumerate(columns_to_plot):\n",
        "    axes[i].plot([1, 2, 3], [3, 2, 1])  # Replace with actual data for plotting\n",
        "    axes[i].set_title(column)\n",
        "\n",
        "# If there are empty subplots, hide them\n",
        "for i in range(len(columns_to_plot), len(axes)):\n",
        "    axes[i].axis('off')\n",
        "\n",
        "plt.tight_layout()\n",
        "plt.show()\n"
      ],
      "metadata": {
        "id": "YOevoxEMRblp",
        "colab": {
          "base_uri": "https://localhost:8080/",
          "height": 756
        },
        "outputId": "81f0889c-6765-4245-bfbf-92295787d361"
      },
      "execution_count": 177,
      "outputs": [
        {
          "output_type": "display_data",
          "data": {
            "text/plain": [
              "<Figure size 1500x1000 with 4 Axes>"
            ],
            "image/png": "[encoded data removed]"
          },
          "metadata": {}
        }
      ]
    },
    {
      "cell_type": "markdown",
      "source": [
        "##### 1. Why did you pick the specific chart?"
      ],
      "metadata": {
        "id": "iky9q4vBYrdO"
      }
    },
    {
      "cell_type": "markdown",
      "source": [
        "Distplots or Distribution plots (histograms and kernel density plots) are valuable tools for visually representing how data points are distributed across different values of a variable. It shows the shape and spread of the data, providing an immediate understanding of its distribution."
      ],
      "metadata": {
        "id": "aJRCwT6DYrdO"
      }
    },
    {
      "cell_type": "markdown",
      "source": [
        "##### 2. What is/are the insight(s) found from the chart?"
      ],
      "metadata": {
        "id": "F6T5p64dYrdO"
      }
    },
    {
      "cell_type": "markdown",
      "source": [
        "Insights we can find from a distplot above are:\n",
        "\n",
        "1. We can quickly identify whether the data follows a particular distribution, such as normal (bell-shaped), skewed (positively or negatively), bimodal (two peaks), or multimodal (multiple peaks) and that if it has outliers too or not.\n",
        "\n",
        "2. From the Mean and Median lines we can determine measures of central tendencies, like for a normal distribution these are often close which is the case in many variables in our data.\n",
        "\n",
        "3. A wider distribution suggests greater variability or spread of data, while a narrower one implies less variability. Moreover, we can visualize the density of the data points at different values.\n",
        "\n",
        "4. By observing the shape of the distribution in a distplot, you can assess its skewness. Positive skew (right-skewed) means that the tail of the distribution extends to the right, while negative skew (left-skewed) indicates a tail to the left."
      ],
      "metadata": {
        "id": "Xx8WAJvtYrdO"
      }
    },
    {
      "cell_type": "markdown",
      "source": [
        "##### 3. Will the gained insights help creating a positive business impact?\n",
        "Are there any insights that lead to negative growth? Justify with specific reason."
      ],
      "metadata": {
        "id": "y-Ehk30pYrdP"
      }
    },
    {
      "cell_type": "markdown",
      "source": [
        "The insights gained from distplots and their data distributions enable businesses to make more informed, data-driven decisions, reduce inefficiencies, mitigate risks et. ultimately helping them in making a positive impact."
      ],
      "metadata": {
        "id": "jLNxxz7MYrdP"
      }
    },
    {
      "cell_type": "markdown",
      "source": [
        "#### Chart - Correlation Heatmap"
      ],
      "metadata": {
        "id": "NC_X3p0fY2L0"
      }
    },
    {
      "cell_type": "code",
      "source": [
        "df1 = df_copy.drop(columns=['price_range'])\n",
        "\n",
        "\n",
        "\n"
      ],
      "metadata": {
        "id": "4871vGolU8sQ"
      },
      "execution_count": 178,
      "outputs": []
    },
    {
      "cell_type": "code",
      "source": [
        "df1.head()"
      ],
      "metadata": {
        "colab": {
          "base_uri": "https://localhost:8080/",
          "height": 226
        },
        "id": "qia6lyfXXq_w",
        "outputId": "158d9b0c-53c9-48d0-9161-a9ed90af3032"
      },
      "execution_count": 179,
      "outputs": [
        {
          "output_type": "execute_result",
          "data": {
            "text/plain": [
              "   battery_power  blue  clock_speed  dual_sim  fc  four_g  int_memory  m_dep  \\\n",
              "0            842     0          2.2         0   1       0           7    0.6   \n",
              "1           1021     1          0.5         1   0       1          53    0.7   \n",
              "2            563     1          0.5         1   2       1          41    0.9   \n",
              "3            615     1          2.5         0   0       0          10    0.8   \n",
              "4           1821     1          1.2         0  13       1          44    0.6   \n",
              "\n",
              "   mobile_wt  n_cores  pc  px_height  px_width   ram  sc_h  sc_w  talk_time  \\\n",
              "0        188        2   2         20       756  2549     9     7         19   \n",
              "1        136        3   6        905      1988  2631    17     3          7   \n",
              "2        145        5   6       1263      1716  2603    11     2          9   \n",
              "3        131        6   9       1216      1786  2769    16     8         11   \n",
              "4        141        2  14       1208      1212  1411     8     2         15   \n",
              "\n",
              "   three_g  touch_screen  wifi  \n",
              "0        0             0     1  \n",
              "1        1             1     0  \n",
              "2        1             1     0  \n",
              "3        1             0     0  \n",
              "4        1             1     0  "
            ],
            "text/html": [
              "\n",
              "  <div id=\"df-fd96f958-f3dc-4c9c-bcba-34bf68219870\" class=\"colab-df-container\">\n",
              "    <div>\n",
              "<style scoped>\n",
              "    .dataframe tbody tr th:only-of-type {\n",
              "        vertical-align: middle;\n",
              "    }\n",
              "\n",
              "    .dataframe tbody tr th {\n",
              "        vertical-align: top;\n",
              "    }\n",
              "\n",
              "    .dataframe thead th {\n",
              "        text-align: right;\n",
              "    }\n",
              "</style>\n",
              "<table border=\"1\" class=\"dataframe\">\n",
              "  <thead>\n",
              "    <tr style=\"text-align: right;\">\n",
              "      <th></th>\n",
              "      <th>battery_power</th>\n",
              "      <th>blue</th>\n",
              "      <th>clock_speed</th>\n",
              "      <th>dual_sim</th>\n",
              "      <th>fc</th>\n",
              "      <th>four_g</th>\n",
              "      <th>int_memory</th>\n",
              "      <th>m_dep</th>\n",
              "      <th>mobile_wt</th>\n",
              "      <th>n_cores</th>\n",
              "      <th>pc</th>\n",
              "      <th>px_height</th>\n",
              "      <th>px_width</th>\n",
              "      <th>ram</th>\n",
              "      <th>sc_h</th>\n",
              "      <th>sc_w</th>\n",
              "      <th>talk_time</th>\n",
              "      <th>three_g</th>\n",
              "      <th>touch_screen</th>\n",
              "      <th>wifi</th>\n",
              "    </tr>\n",
              "  </thead>\n",
              "  <tbody>\n",
              "    <tr>\n",
              "      <th>0</th>\n",
              "      <td>842</td>\n",
              "      <td>0</td>\n",
              "      <td>2.2</td>\n",
              "      <td>0</td>\n",
              "      <td>1</td>\n",
              "      <td>0</td>\n",
              "      <td>7</td>\n",
              "      <td>0.6</td>\n",
              "      <td>188</td>\n",
              "      <td>2</td>\n",
              "      <td>2</td>\n",
              "      <td>20</td>\n",
              "      <td>756</td>\n",
              "      <td>2549</td>\n",
              "      <td>9</td>\n",
              "      <td>7</td>\n",
              "      <td>19</td>\n",
              "      <td>0</td>\n",
              "      <td>0</td>\n",
              "      <td>1</td>\n",
              "    </tr>\n",
              "    <tr>\n",
              "      <th>1</th>\n",
              "      <td>1021</td>\n",
              "      <td>1</td>\n",
              "      <td>0.5</td>\n",
              "      <td>1</td>\n",
              "      <td>0</td>\n",
              "      <td>1</td>\n",
              "      <td>53</td>\n",
              "      <td>0.7</td>\n",
              "      <td>136</td>\n",
              "      <td>3</td>\n",
              "      <td>6</td>\n",
              "      <td>905</td>\n",
              "      <td>1988</td>\n",
              "      <td>2631</td>\n",
              "      <td>17</td>\n",
              "      <td>3</td>\n",
              "      <td>7</td>\n",
              "      <td>1</td>\n",
              "      <td>1</td>\n",
              "      <td>0</td>\n",
              "    </tr>\n",
              "    <tr>\n",
              "      <th>2</th>\n",
              "      <td>563</td>\n",
              "      <td>1</td>\n",
              "      <td>0.5</td>\n",
              "      <td>1</td>\n",
              "      <td>2</td>\n",
              "      <td>1</td>\n",
              "      <td>41</td>\n",
              "      <td>0.9</td>\n",
              "      <td>145</td>\n",
              "      <td>5</td>\n",
              "      <td>6</td>\n",
              "      <td>1263</td>\n",
              "      <td>1716</td>\n",
              "      <td>2603</td>\n",
              "      <td>11</td>\n",
              "      <td>2</td>\n",
              "      <td>9</td>\n",
              "      <td>1</td>\n",
              "      <td>1</td>\n",
              "      <td>0</td>\n",
              "    </tr>\n",
              "    <tr>\n",
              "      <th>3</th>\n",
              "      <td>615</td>\n",
              "      <td>1</td>\n",
              "      <td>2.5</td>\n",
              "      <td>0</td>\n",
              "      <td>0</td>\n",
              "      <td>0</td>\n",
              "      <td>10</td>\n",
              "      <td>0.8</td>\n",
              "      <td>131</td>\n",
              "      <td>6</td>\n",
              "      <td>9</td>\n",
              "      <td>1216</td>\n",
              "      <td>1786</td>\n",
              "      <td>2769</td>\n",
              "      <td>16</td>\n",
              "      <td>8</td>\n",
              "      <td>11</td>\n",
              "      <td>1</td>\n",
              "      <td>0</td>\n",
              "      <td>0</td>\n",
              "    </tr>\n",
              "    <tr>\n",
              "      <th>4</th>\n",
              "      <td>1821</td>\n",
              "      <td>1</td>\n",
              "      <td>1.2</td>\n",
              "      <td>0</td>\n",
              "      <td>13</td>\n",
              "      <td>1</td>\n",
              "      <td>44</td>\n",
              "      <td>0.6</td>\n",
              "      <td>141</td>\n",
              "      <td>2</td>\n",
              "      <td>14</td>\n",
              "      <td>1208</td>\n",
              "      <td>1212</td>\n",
              "      <td>1411</td>\n",
              "      <td>8</td>\n",
              "      <td>2</td>\n",
              "      <td>15</td>\n",
              "      <td>1</td>\n",
              "      <td>1</td>\n",
              "      <td>0</td>\n",
              "    </tr>\n",
              "  </tbody>\n",
              "</table>\n",
              "</div>\n",
              "    <div class=\"colab-df-buttons\">\n",
              "\n",
              "  <div class=\"colab-df-container\">\n",
              "    <button class=\"colab-df-convert\" onclick=\"convertToInteractive('df-fd96f958-f3dc-4c9c-bcba-34bf68219870')\"\n",
              "            title=\"Convert this dataframe to an interactive table.\"\n",
              "            style=\"display:none;\">\n",
              "\n",
              "  <svg xmlns=\"http://www.w3.org/2000/svg\" height=\"24px\" viewBox=\"0 -960 960 960\">\n",
              "    <path d=\"M120-120v-720h720v720H120Zm60-500h600v-160H180v160Zm220 220h160v-160H400v160Zm0 220h160v-160H400v160ZM180-400h160v-160H180v160Zm440 0h160v-160H620v160ZM180-180h160v-160H180v160Zm440 0h160v-160H620v160Z\"/>\n",
              "  </svg>\n",
              "    </button>\n",
              "\n",
              "  <style>\n",
              "    .colab-df-container {\n",
              "      display:flex;\n",
              "      gap: 12px;\n",
              "    }\n",
              "\n",
              "    .colab-df-convert {\n",
              "      background-color: #E8F0FE;\n",
              "      border: none;\n",
              "      border-radius: 50%;\n",
              "      cursor: pointer;\n",
              "      display: none;\n",
              "      fill: #1967D2;\n",
              "      height: 32px;\n",
              "      padding: 0 0 0 0;\n",
              "      width: 32px;\n",
              "    }\n",
              "\n",
              "    .colab-df-convert:hover {\n",
              "      background-color: #E2EBFA;\n",
              "      box-shadow: 0px 1px 2px rgba(60, 64, 67, 0.3), 0px 1px 3px 1px rgba(60, 64, 67, 0.15);\n",
              "      fill: #174EA6;\n",
              "    }\n",
              "\n",
              "    .colab-df-buttons div {\n",
              "      margin-bottom: 4px;\n",
              "    }\n",
              "\n",
              "    [theme=dark] .colab-df-convert {\n",
              "      background-color: #3B4455;\n",
              "      fill: #D2E3FC;\n",
              "    }\n",
              "\n",
              "    [theme=dark] .colab-df-convert:hover {\n",
              "      background-color: #434B5C;\n",
              "      box-shadow: 0px 1px 3px 1px rgba(0, 0, 0, 0.15);\n",
              "      filter: drop-shadow(0px 1px 2px rgba(0, 0, 0, 0.3));\n",
              "      fill: #FFFFFF;\n",
              "    }\n",
              "  </style>\n",
              "\n",
              "    <script>\n",
              "      const buttonEl =\n",
              "        document.querySelector('#df-fd96f958-f3dc-4c9c-bcba-34bf68219870 button.colab-df-convert');\n",
              "      buttonEl.style.display =\n",
              "        google.colab.kernel.accessAllowed ? 'block' : 'none';\n",
              "\n",
              "      async function convertToInteractive(key) {\n",
              "        const element = document.querySelector('#df-fd96f958-f3dc-4c9c-bcba-34bf68219870');\n",
              "        const dataTable =\n",
              "          await google.colab.kernel.invokeFunction('convertToInteractive',\n",
              "                                                    [key], {});\n",
              "        if (!dataTable) return;\n",
              "\n",
              "        const docLinkHtml = 'Like what you see? Visit the ' +\n",
              "          '<a target=\"_blank\" href=https://colab.research.google.com/notebooks/data_table.ipynb>data table notebook</a>'\n",
              "          + ' to learn more about interactive tables.';\n",
              "        element.innerHTML = '';\n",
              "        dataTable['output_type'] = 'display_data';\n",
              "        await google.colab.output.renderOutput(dataTable, element);\n",
              "        const docLink = document.createElement('div');\n",
              "        docLink.innerHTML = docLinkHtml;\n",
              "        element.appendChild(docLink);\n",
              "      }\n",
              "    </script>\n",
              "  </div>\n",
              "\n",
              "\n",
              "<div id=\"df-5ea84828-c750-4811-9ed7-3d91a1967ad0\">\n",
              "  <button class=\"colab-df-quickchart\" onclick=\"quickchart('df-5ea84828-c750-4811-9ed7-3d91a1967ad0')\"\n",
              "            title=\"Suggest charts\"\n",
              "            style=\"display:none;\">\n",
              "\n",
              "<svg xmlns=\"http://www.w3.org/2000/svg\" height=\"24px\"viewBox=\"0 0 24 24\"\n",
              "     width=\"24px\">\n",
              "    <g>\n",
              "        <path d=\"M19 3H5c-1.1 0-2 .9-2 2v14c0 1.1.9 2 2 2h14c1.1 0 2-.9 2-2V5c0-1.1-.9-2-2-2zM9 17H7v-7h2v7zm4 0h-2V7h2v10zm4 0h-2v-4h2v4z\"/>\n",
              "    </g>\n",
              "</svg>\n",
              "  </button>\n",
              "\n",
              "<style>\n",
              "  .colab-df-quickchart {\n",
              "      --bg-color: #E8F0FE;\n",
              "      --fill-color: #1967D2;\n",
              "      --hover-bg-color: #E2EBFA;\n",
              "      --hover-fill-color: #174EA6;\n",
              "      --disabled-fill-color: #AAA;\n",
              "      --disabled-bg-color: #DDD;\n",
              "  }\n",
              "\n",
              "  [theme=dark] .colab-df-quickchart {\n",
              "      --bg-color: #3B4455;\n",
              "      --fill-color: #D2E3FC;\n",
              "      --hover-bg-color: #434B5C;\n",
              "      --hover-fill-color: #FFFFFF;\n",
              "      --disabled-bg-color: #3B4455;\n",
              "      --disabled-fill-color: #666;\n",
              "  }\n",
              "\n",
              "  .colab-df-quickchart {\n",
              "    background-color: var(--bg-color);\n",
              "    border: none;\n",
              "    border-radius: 50%;\n",
              "    cursor: pointer;\n",
              "    display: none;\n",
              "    fill: var(--fill-color);\n",
              "    height: 32px;\n",
              "    padding: 0;\n",
              "    width: 32px;\n",
              "  }\n",
              "\n",
              "  .colab-df-quickchart:hover {\n",
              "    background-color: var(--hover-bg-color);\n",
              "    box-shadow: 0 1px 2px rgba(60, 64, 67, 0.3), 0 1px 3px 1px rgba(60, 64, 67, 0.15);\n",
              "    fill: var(--button-hover-fill-color);\n",
              "  }\n",
              "\n",
              "  .colab-df-quickchart-complete:disabled,\n",
              "  .colab-df-quickchart-complete:disabled:hover {\n",
              "    background-color: var(--disabled-bg-color);\n",
              "    fill: var(--disabled-fill-color);\n",
              "    box-shadow: none;\n",
              "  }\n",
              "\n",
              "  .colab-df-spinner {\n",
              "    border: 2px solid var(--fill-color);\n",
              "    border-color: transparent;\n",
              "    border-bottom-color: var(--fill-color);\n",
              "    animation:\n",
              "      spin 1s steps(1) infinite;\n",
              "  }\n",
              "\n",
              "  @keyframes spin {\n",
              "    0% {\n",
              "      border-color: transparent;\n",
              "      border-bottom-color: var(--fill-color);\n",
              "      border-left-color: var(--fill-color);\n",
              "    }\n",
              "    20% {\n",
              "      border-color: transparent;\n",
              "      border-left-color: var(--fill-color);\n",
              "      border-top-color: var(--fill-color);\n",
              "    }\n",
              "    30% {\n",
              "      border-color: transparent;\n",
              "      border-left-color: var(--fill-color);\n",
              "      border-top-color: var(--fill-color);\n",
              "      border-right-color: var(--fill-color);\n",
              "    }\n",
              "    40% {\n",
              "      border-color: transparent;\n",
              "      border-right-color: var(--fill-color);\n",
              "      border-top-color: var(--fill-color);\n",
              "    }\n",
              "    60% {\n",
              "      border-color: transparent;\n",
              "      border-right-color: var(--fill-color);\n",
              "    }\n",
              "    80% {\n",
              "      border-color: transparent;\n",
              "      border-right-color: var(--fill-color);\n",
              "      border-bottom-color: var(--fill-color);\n",
              "    }\n",
              "    90% {\n",
              "      border-color: transparent;\n",
              "      border-bottom-color: var(--fill-color);\n",
              "    }\n",
              "  }\n",
              "</style>\n",
              "\n",
              "  <script>\n",
              "    async function quickchart(key) {\n",
              "      const quickchartButtonEl =\n",
              "        document.querySelector('#' + key + ' button');\n",
              "      quickchartButtonEl.disabled = true;  // To prevent multiple clicks.\n",
              "      quickchartButtonEl.classList.add('colab-df-spinner');\n",
              "      try {\n",
              "        const charts = await google.colab.kernel.invokeFunction(\n",
              "            'suggestCharts', [key], {});\n",
              "      } catch (error) {\n",
              "        console.error('Error during call to suggestCharts:', error);\n",
              "      }\n",
              "      quickchartButtonEl.classList.remove('colab-df-spinner');\n",
              "      quickchartButtonEl.classList.add('colab-df-quickchart-complete');\n",
              "    }\n",
              "    (() => {\n",
              "      let quickchartButtonEl =\n",
              "        document.querySelector('#df-5ea84828-c750-4811-9ed7-3d91a1967ad0 button');\n",
              "      quickchartButtonEl.style.display =\n",
              "        google.colab.kernel.accessAllowed ? 'block' : 'none';\n",
              "    })();\n",
              "  </script>\n",
              "</div>\n",
              "\n",
              "    </div>\n",
              "  </div>\n"
            ],
            "application/vnd.google.colaboratory.intrinsic+json": {
              "type": "dataframe",
              "variable_name": "df1",
              "summary": "{\n  \"name\": \"df1\",\n  \"rows\": 2000,\n  \"fields\": [\n    {\n      \"column\": \"battery_power\",\n      \"properties\": {\n        \"dtype\": \"number\",\n        \"std\": 439,\n        \"min\": 501,\n        \"max\": 1998,\n        \"num_unique_values\": 1094,\n        \"samples\": [\n          587,\n          1814,\n          1724\n        ],\n        \"semantic_type\": \"\",\n        \"description\": \"\"\n      }\n    },\n    {\n      \"column\": \"blue\",\n      \"properties\": {\n        \"dtype\": \"number\",\n        \"std\": 0,\n        \"min\": 0,\n        \"max\": 1,\n        \"num_unique_values\": 2,\n        \"samples\": [\n          1,\n          0\n        ],\n        \"semantic_type\": \"\",\n        \"description\": \"\"\n      }\n    },\n    {\n      \"column\": \"clock_speed\",\n      \"properties\": {\n        \"dtype\": \"number\",\n        \"std\": 0.8160042088950689,\n        \"min\": 0.5,\n        \"max\": 3.0,\n        \"num_unique_values\": 26,\n        \"samples\": [\n          2.1,\n          1.3\n        ],\n        \"semantic_type\": \"\",\n        \"description\": \"\"\n      }\n    },\n    {\n      \"column\": \"dual_sim\",\n      \"properties\": {\n        \"dtype\": \"number\",\n        \"std\": 0,\n        \"min\": 0,\n        \"max\": 1,\n        \"num_unique_values\": 2,\n        \"samples\": [\n          1,\n          0\n        ],\n        \"semantic_type\": \"\",\n        \"description\": \"\"\n      }\n    },\n    {\n      \"column\": \"fc\",\n      \"properties\": {\n        \"dtype\": \"number\",\n        \"std\": 4,\n        \"min\": 0,\n        \"max\": 19,\n        \"num_unique_values\": 20,\n        \"samples\": [\n          1,\n          17\n        ],\n        \"semantic_type\": \"\",\n        \"description\": \"\"\n      }\n    },\n    {\n      \"column\": \"four_g\",\n      \"properties\": {\n        \"dtype\": \"number\",\n        \"std\": 0,\n        \"min\": 0,\n        \"max\": 1,\n        \"num_unique_values\": 2,\n        \"samples\": [\n          1,\n          0\n        ],\n        \"semantic_type\": \"\",\n        \"description\": \"\"\n      }\n    },\n    {\n      \"column\": \"int_memory\",\n      \"properties\": {\n        \"dtype\": \"number\",\n        \"std\": 18,\n        \"min\": 2,\n        \"max\": 64,\n        \"num_unique_values\": 63,\n        \"samples\": [\n          28,\n          56\n        ],\n        \"semantic_type\": \"\",\n        \"description\": \"\"\n      }\n    },\n    {\n      \"column\": \"m_dep\",\n      \"properties\": {\n        \"dtype\": \"number\",\n        \"std\": 0.2884155496235117,\n        \"min\": 0.1,\n        \"max\": 1.0,\n        \"num_unique_values\": 10,\n        \"samples\": [\n          0.4,\n          0.7\n        ],\n        \"semantic_type\": \"\",\n        \"description\": \"\"\n      }\n    },\n    {\n      \"column\": \"mobile_wt\",\n      \"properties\": {\n        \"dtype\": \"number\",\n        \"std\": 35,\n        \"min\": 80,\n        \"max\": 200,\n        \"num_unique_values\": 121,\n        \"samples\": [\n          148,\n          134\n        ],\n        \"semantic_type\": \"\",\n        \"description\": \"\"\n      }\n    },\n    {\n      \"column\": \"n_cores\",\n      \"properties\": {\n        \"dtype\": \"number\",\n        \"std\": 2,\n        \"min\": 1,\n        \"max\": 8,\n        \"num_unique_values\": 8,\n        \"samples\": [\n          3,\n          8\n        ],\n        \"semantic_type\": \"\",\n        \"description\": \"\"\n      }\n    },\n    {\n      \"column\": \"pc\",\n      \"properties\": {\n        \"dtype\": \"number\",\n        \"std\": 6,\n        \"min\": 0,\n        \"max\": 20,\n        \"num_unique_values\": 21,\n        \"samples\": [\n          2,\n          19\n        ],\n        \"semantic_type\": \"\",\n        \"description\": \"\"\n      }\n    },\n    {\n      \"column\": \"px_height\",\n      \"properties\": {\n        \"dtype\": \"number\",\n        \"std\": 443,\n        \"min\": 0,\n        \"max\": 1960,\n        \"num_unique_values\": 1137,\n        \"samples\": [\n          368,\n          1328\n        ],\n        \"semantic_type\": \"\",\n        \"description\": \"\"\n      }\n    },\n    {\n      \"column\": \"px_width\",\n      \"properties\": {\n        \"dtype\": \"number\",\n        \"std\": 432,\n        \"min\": 500,\n        \"max\": 1998,\n        \"num_unique_values\": 1109,\n        \"samples\": [\n          1437,\n          550\n        ],\n        \"semantic_type\": \"\",\n        \"description\": \"\"\n      }\n    },\n    {\n      \"column\": \"ram\",\n      \"properties\": {\n        \"dtype\": \"number\",\n        \"std\": 1084,\n        \"min\": 256,\n        \"max\": 3998,\n        \"num_unique_values\": 1562,\n        \"samples\": [\n          2321,\n          874\n        ],\n        \"semantic_type\": \"\",\n        \"description\": \"\"\n      }\n    },\n    {\n      \"column\": \"sc_h\",\n      \"properties\": {\n        \"dtype\": \"number\",\n        \"std\": 4,\n        \"min\": 5,\n        \"max\": 19,\n        \"num_unique_values\": 15,\n        \"samples\": [\n          18,\n          10\n        ],\n        \"semantic_type\": \"\",\n        \"description\": \"\"\n      }\n    },\n    {\n      \"column\": \"sc_w\",\n      \"properties\": {\n        \"dtype\": \"number\",\n        \"std\": 4,\n        \"min\": 0,\n        \"max\": 18,\n        \"num_unique_values\": 19,\n        \"samples\": [\n          7,\n          10\n        ],\n        \"semantic_type\": \"\",\n        \"description\": \"\"\n      }\n    },\n    {\n      \"column\": \"talk_time\",\n      \"properties\": {\n        \"dtype\": \"number\",\n        \"std\": 5,\n        \"min\": 2,\n        \"max\": 20,\n        \"num_unique_values\": 19,\n        \"samples\": [\n          19,\n          10\n        ],\n        \"semantic_type\": \"\",\n        \"description\": \"\"\n      }\n    },\n    {\n      \"column\": \"three_g\",\n      \"properties\": {\n        \"dtype\": \"number\",\n        \"std\": 0,\n        \"min\": 0,\n        \"max\": 1,\n        \"num_unique_values\": 2,\n        \"samples\": [\n          1,\n          0\n        ],\n        \"semantic_type\": \"\",\n        \"description\": \"\"\n      }\n    },\n    {\n      \"column\": \"touch_screen\",\n      \"properties\": {\n        \"dtype\": \"number\",\n        \"std\": 0,\n        \"min\": 0,\n        \"max\": 1,\n        \"num_unique_values\": 2,\n        \"samples\": [\n          1,\n          0\n        ],\n        \"semantic_type\": \"\",\n        \"description\": \"\"\n      }\n    },\n    {\n      \"column\": \"wifi\",\n      \"properties\": {\n        \"dtype\": \"number\",\n        \"std\": 0,\n        \"min\": 0,\n        \"max\": 1,\n        \"num_unique_values\": 2,\n        \"samples\": [\n          0,\n          1\n        ],\n        \"semantic_type\": \"\",\n        \"description\": \"\"\n      }\n    }\n  ]\n}"
            }
          },
          "metadata": {},
          "execution_count": 179
        }
      ]
    },
    {
      "cell_type": "code",
      "source": [
        "# Correlation Heatmap visualization\n",
        "correlation_map = df1.corr()\n",
        "plt.figure(figsize=(20, 15))\n",
        "sns.heatmap(correlation_map, annot=True, cmap=\"Set2\", linewidths=0.5)\n",
        "plt.title(\"Correlation Heatmap\", fontsize=20)\n",
        "plt.show()"
      ],
      "metadata": {
        "id": "xyC9zolEZNRQ",
        "colab": {
          "base_uri": "https://localhost:8080/",
          "height": 970
        },
        "outputId": "2f159393-ccec-472e-e5a8-318063e165b9"
      },
      "execution_count": 180,
      "outputs": [
        {
          "output_type": "display_data",
          "data": {
            "text/plain": [
              "<Figure size 2000x1500 with 2 Axes>"
            ],
            "image/png": "[encoded data removed]"
          },
          "metadata": {}
        }
      ]
    },
    {
      "cell_type": "markdown",
      "source": [
        "##### 1. Why did you pick the specific chart?"
      ],
      "metadata": {
        "id": "UV0SzAkaZNRQ"
      }
    },
    {
      "cell_type": "markdown",
      "source": [
        "A correlation heatmap is a visual representation of the correlation matrix of a dataset, it uses color and numbers to represent the strength and direction of correlations between pairs of variables. It is useful for gaining insights into relationships between variables in our data."
      ],
      "metadata": {
        "id": "DVPuT8LYZNRQ"
      }
    },
    {
      "cell_type": "markdown",
      "source": [
        "##### 2. What is/are the insight(s) found from the chart?"
      ],
      "metadata": {
        "id": "YPEH6qLeZNRQ"
      }
    },
    {
      "cell_type": "markdown",
      "source": [
        "1. Range of our correlation matrix is from '-1' to '1', with 'price_range' having highest correlation value of '1', to which we can compare other variables of our data.\n",
        "2. We can see, variable 'ram' has the closest correlated value of '0.92' to 'price_range'. Ater which comes, 'battery_power', 'px_width' and 'px_height' with values '0.20', '0.17' and '0.15' respectively in terms of closely relating to 'price_range'.\n",
        "3.  Moreover, we can see that pairs 'sc_w' and 'sc_h', 'three_g' and 'four_g', also 'px_height' and 'px_width' are closely related to each other.\n",
        "\n"
      ],
      "metadata": {
        "id": "bfSqtnDqZNRR"
      }
    },
    {
      "cell_type": "markdown",
      "source": [
        "##### 3. Will the gained insights help creating a positive business impact?\n",
        "Are there any insights that lead to negative growth? Justify with specific reason."
      ],
      "metadata": {
        "id": "4v-FhmSYwPqP"
      }
    },
    {
      "cell_type": "markdown",
      "source": [
        "Overall, these insights can help empowering businesses to make informed decisions regarding product development, pricing, and marketing strategies, ultimately contributing to improved competitiveness and profitability etc."
      ],
      "metadata": {
        "id": "uFhcx0YQwQlB"
      }
    },
    {
      "cell_type": "code",
      "source": [
        "df.columns"
      ],
      "metadata": {
        "colab": {
          "base_uri": "https://localhost:8080/"
        },
        "id": "BRnKqdpXfYtG",
        "outputId": "02a0935b-08ba-4441-adba-deda4164b9c7"
      },
      "execution_count": 181,
      "outputs": [
        {
          "output_type": "execute_result",
          "data": {
            "text/plain": [
              "Index(['price_range', 'feature_1', 'feature_2', 'feature_3'], dtype='object')"
            ]
          },
          "metadata": {},
          "execution_count": 181
        }
      ]
    },
    {
      "cell_type": "markdown",
      "source": [
        "#### Chart - Pair Plot"
      ],
      "metadata": {
        "id": "q29F0dvdveiT"
      }
    },
    {
      "cell_type": "code",
      "source": [
        "# Pair Plot visualization code\n",
        "sns.set(style=\"ticks\")\n",
        "sns.pairplot(df, hue=\"price_range\", palette=\"viridis\",vars=['feature_1', 'feature_2', 'feature_3'])\n",
        "plt.show()        # generating pairplot excluding columns with binary values."
      ],
      "metadata": {
        "id": "o58-TEIhveiU",
        "colab": {
          "base_uri": "https://localhost:8080/",
          "height": 755
        },
        "outputId": "7a8f5cf0-af80-4ae9-81f5-205f1b712c76"
      },
      "execution_count": 182,
      "outputs": [
        {
          "output_type": "display_data",
          "data": {
            "text/plain": [
              "<Figure size 860.222x750 with 12 Axes>"
            ],
            "image/png": "[encoded data removed]"
          },
          "metadata": {}
        }
      ]
    },
    {
      "cell_type": "markdown",
      "source": [
        "##### 1. Why did you pick the specific chart?"
      ],
      "metadata": {
        "id": "EXh0U9oCveiU"
      }
    },
    {
      "cell_type": "markdown",
      "source": [
        "Pairplots are commonly used in data analysis to gain insights into relationships between pairs of variables in a dataset. They are particularly useful when we have multiple numerical variables and want to explore patterns, correlations, and distributions."
      ],
      "metadata": {
        "id": "eMmPjTByveiU"
      }
    },
    {
      "cell_type": "markdown",
      "source": [
        "##### 2. What is/are the insight(s) found from the chart?"
      ],
      "metadata": {
        "id": "22aHeOlLveiV"
      }
    },
    {
      "cell_type": "markdown",
      "source": [
        "1. There are less linear relationships between variables suggesting that predicting mobile price range based solely on linear models may not be as effective, instead to use more advanced modeling techniques, such as decision trees, random forests etc.\n",
        "2. Features that are linearly dependent on the mobile price range, such as RAM, internal memory, and processors, implies that these features have a strong influence on the pricing of mobile phones.\n",
        "3. Also, the presence of distinct clusters within the price range can inform market segmentation strategies, Businesses can tailor their marketing efforts and product offerings to different customer segments based on price sensitivity and feature preferences helping making a positive impact too."
      ],
      "metadata": {
        "id": "uPQ8RGwHveiV"
      }
    },
    {
      "cell_type": "markdown",
      "source": [
        "# **5. Feature Engineering & Data Pre-processing**"
      ],
      "metadata": {
        "id": "yLjJCtPM0KBk"
      }
    },
    {
      "cell_type": "markdown",
      "source": [
        "#### Categorical encoding techniques used ?"
      ],
      "metadata": {
        "id": "67NQN5KX2AMe"
      }
    },
    {
      "cell_type": "markdown",
      "source": [
        "Categorical Encoding is used when we have categorical data in our features and we need to convert it to numerical. Since, our dataset contains only numeric values in features, hence categorical encoding is not needed."
      ],
      "metadata": {
        "id": "UDaue5h32n_G"
      }
    },
    {
      "cell_type": "markdown",
      "source": [
        "### Feature Manipulation & Selection"
      ],
      "metadata": {
        "id": "-oLEiFgy-5Pf"
      }
    },
    {
      "cell_type": "code",
      "source": [
        "# Manipulate Features to minimize feature correlation and create new features\n",
        "# Step 1: Check if columns 'px_height' and 'px_width' exist\n",
        "if 'px_height' in df.columns and 'px_width' in df.columns:\n",
        "    # Step 2: Create the new feature 'pixel_dim'\n",
        "    df['pixel_dim'] = df['px_height'] * df['px_width']\n",
        "\n",
        "    # Step 3: Drop the original columns 'px_height' and 'px_width'\n",
        "    df.drop(['px_height', 'px_width'], axis=1, inplace=True)\n",
        "else:\n",
        "    print(\"Error: 'px_height' or 'px_width' columns not found in the DataFrame.\")\n"
      ],
      "metadata": {
        "id": "h1qC4yhBApWC",
        "colab": {
          "base_uri": "https://localhost:8080/"
        },
        "outputId": "9f697596-f64f-4176-e05a-eed385792061"
      },
      "execution_count": 183,
      "outputs": [
        {
          "output_type": "stream",
          "name": "stdout",
          "text": [
            "Error: 'px_height' or 'px_width' columns not found in the DataFrame.\n"
          ]
        }
      ]
    },
    {
      "cell_type": "markdown",
      "source": [],
      "metadata": {
        "id": "b7BK1vluzxAA"
      }
    },
    {
      "cell_type": "markdown",
      "source": [
        "From our Correlation Heatmap we know that 'px_height' and 'px_width' are closely correlated, meaning if one goes up other will too and vice versa. So we replaced these with a new feature 'pixel_dim'."
      ],
      "metadata": {
        "id": "sS30YYekrRsl"
      }
    },
    {
      "cell_type": "code",
      "source": [
        "# visualizing new feature\n",
        "import seaborn as sns\n",
        "import matplotlib.pyplot as plt\n",
        "\n",
        "# Example column name; replace 'pixel_dim' with the correct column name from df\n",
        "column_name = 'pixel_dim'  # Update this to match the actual column name\n",
        "\n",
        "# Verify that the column exists in the DataFrame\n",
        "if column_name in df.columns:\n",
        "    fig, axes = plt.subplots(1, 2, figsize=(15,4))\n",
        "\n",
        "    # Create a boxplot to check outliers\n",
        "    sns.boxplot(data=df, x=column_name, ax=axes[0])\n",
        "    axes[0].set_title('Boxplot for new feature')\n",
        "\n",
        "    # Create a kdeplot for checking distribution\n",
        "    sns.kdeplot(data=df, x=column_name, ax=axes[1])\n",
        "    axes[1].set_title('KDE Plot for new feature')\n",
        "\n",
        "    plt.tight_layout()\n",
        "    plt.show()\n",
        "else:\n",
        "    print(f\"Column '{column_name}' does not exist in DataFrame.\")\n"
      ],
      "metadata": {
        "id": "R9q59rJRrRH1",
        "colab": {
          "base_uri": "https://localhost:8080/"
        },
        "outputId": "5b905caa-1837-48e7-ab16-664da5aaea1b"
      },
      "execution_count": 255,
      "outputs": [
        {
          "output_type": "stream",
          "name": "stdout",
          "text": [
            "Column 'pixel_dim' does not exist in DataFrame.\n"
          ]
        }
      ]
    },
    {
      "cell_type": "markdown",
      "source": [
        "From this we can clearly see that we have outliers in new feature 'pixel_dim'. Also, the distribution plot indicates that most common values in the data are smaller than central value and there is presence of relatively rare but larger values in data, and that the distribution is positively skewed."
      ],
      "metadata": {
        "id": "iqhOjuinrmt2"
      }
    },
    {
      "cell_type": "markdown",
      "source": [
        "#### 2. Feature Selection"
      ],
      "metadata": {
        "id": "2DejudWSA-a0"
      }
    },
    {
      "cell_type": "code",
      "source": [
        "# Selecting features\n",
        "# Step 1: Ensure 'price_range' exists in the DataFrame\n",
        "if 'price_range' in df.columns:\n",
        "    # Step 2: Select features (X) and target variable (Y)\n",
        "    x = df.drop(['price_range'], axis=1)  # Drop 'price_range' from X\n",
        "    y = df['price_range']  # Assign 'price_range' as the target variable\n",
        "\n",
        "    # Step 3: Print shapes of X and Y\n",
        "    print(f'x shape: {x.shape}')\n",
        "    print(f'y shape: {y.shape}')\n",
        "else:\n",
        "    print(\"Error: 'price_range' column not found in the DataFrame.\")\n"
      ],
      "metadata": {
        "id": "YLhe8UmaBCEE",
        "colab": {
          "base_uri": "https://localhost:8080/"
        },
        "outputId": "1c819cf2-9afe-47bd-e044-cc56ea17893e"
      },
      "execution_count": 187,
      "outputs": [
        {
          "output_type": "stream",
          "name": "stdout",
          "text": [
            "x shape: (6, 3)\n",
            "y shape: (6,)\n"
          ]
        }
      ]
    },
    {
      "cell_type": "markdown",
      "source": [
        "##### What all feature selection methods have you used  and why?"
      ],
      "metadata": {
        "id": "pEMng2IbBLp7"
      }
    },
    {
      "cell_type": "markdown",
      "source": [
        "We simply multiplied the values of two columns namely 'px_height' and 'px_width' and placed values into a new column 'pixel_dim', later added it as a feature, dropping previous two columns, as to reduce multicollinearity in dataset."
      ],
      "metadata": {
        "id": "rb2Lh6Z8BgGs"
      }
    },
    {
      "cell_type": "markdown",
      "source": [
        "### Data Scaling"
      ],
      "metadata": {
        "id": "rMDnDkt2B6du"
      }
    },
    {
      "cell_type": "code",
      "source": [
        "# # Import the necessary library\n",
        "import pandas as pd\n",
        "from sklearn.preprocessing import MinMaxScaler\n",
        "\n",
        "# Example DataFrame (replace this with your actual DataFrame)\n",
        "data = {\n",
        "    'price_range': ['low', 'low', 'mid', 'mid', 'high', 'high'],\n",
        "    'px_height': [100, 150, 200, 250, 300, 350],\n",
        "    'px_width': [50, 60, 70, 80, 90, 100],\n",
        "}\n",
        "df = pd.DataFrame(data)\n",
        "\n",
        "# Convert 'price_range' to numeric values if it's the target variable\n",
        "price_range_mapping = {'low': 1, 'mid': 2, 'high': 3}\n",
        "df['price_range'] = df['price_range'].map(price_range_mapping)\n",
        "\n",
        "# Select features and target variable\n",
        "x = df.drop(['price_range'], axis=1)  # Features\n",
        "y = df['price_range']  # Target\n",
        "\n",
        "# Initialize the scaler\n",
        "scaler = MinMaxScaler()\n",
        "\n",
        "# Apply the scaler to the feature set (X)\n",
        "x_scaled = scaler.fit_transform(x)\n",
        "\n",
        "# Convert the scaled array back to a DataFrame for easier inspection (optional)\n",
        "x_scaled_df = pd.DataFrame(x_scaled, columns=x.columns)\n",
        "\n",
        "# Check the scaled data shape\n",
        "print(f'Scaled x shape: {x_scaled.shape}')\n",
        "print(x_scaled_df.head())\n"
      ],
      "metadata": {
        "id": "dL9LWpySC6x_",
        "colab": {
          "base_uri": "https://localhost:8080/"
        },
        "outputId": "0839197c-0390-4077-fb53-e7ee19c699b4"
      },
      "execution_count": 188,
      "outputs": [
        {
          "output_type": "stream",
          "name": "stdout",
          "text": [
            "Scaled x shape: (6, 2)\n",
            "   px_height  px_width\n",
            "0        0.0       0.0\n",
            "1        0.2       0.2\n",
            "2        0.4       0.4\n",
            "3        0.6       0.6\n",
            "4        0.8       0.8\n"
          ]
        }
      ]
    },
    {
      "cell_type": "markdown",
      "source": [
        "We used MinMaxScaler for scaling as it scales features to the same range (e.g., [0, 1]) ensuring that different features are on a similar scale, making them directly comparable."
      ],
      "metadata": {
        "id": "yiiVWRdJDDil"
      }
    },
    {
      "cell_type": "markdown",
      "source": [
        "###  Data Splitting"
      ],
      "metadata": {
        "id": "BhH2vgX9EjGr"
      }
    },
    {
      "cell_type": "code",
      "source": [
        "# Split your data to train and test.\n",
        "from sklearn.model_selection import train_test_split\n",
        "x_train, x_test, y_train, y_test = train_test_split(x, y, test_size=0.25, random_state=123)"
      ],
      "metadata": {
        "id": "0CTyd2UwEyNM"
      },
      "execution_count": 189,
      "outputs": []
    },
    {
      "cell_type": "code",
      "source": [
        "import pandas as pd\n",
        "from sklearn.model_selection import train_test_split\n",
        "from sklearn.preprocessing import MinMaxScaler\n",
        "\n",
        "# Example DataFrame (replace with your actual data)\n",
        "df = pd.DataFrame({\n",
        "    'price_range': ['low', 'low', 'mid', 'mid', 'high', 'high'],\n",
        "    'px_height': [100, 150, 200, 250, 300, 350],\n",
        "    'px_width': [50, 60, 70, 80, 90, 100]\n",
        "})\n",
        "\n",
        "# Prepare data\n",
        "df['price_range'] = df['price_range'].map({'low': 1, 'mid': 2, 'high': 3})\n",
        "x = df.drop('price_range', axis=1)\n",
        "y = df['price_range']\n",
        "\n",
        "# Split and scale\n",
        "x_train, x_test, y_train, y_test = train_test_split(x, y, test_size=0.2, random_state=42)\n",
        "scaler = MinMaxScaler()\n",
        "x_train_scaled = scaler.fit_transform(x_train)\n",
        "x_test_scaled = scaler.transform(x_test)\n",
        "\n",
        "# Print shapes\n",
        "print(f'X(train) shape: {x_train_scaled.shape}')\n",
        "print(f'X(test) shape: {x_test_scaled.shape}')\n"
      ],
      "metadata": {
        "id": "XBbV71bV8aSz",
        "colab": {
          "base_uri": "https://localhost:8080/"
        },
        "outputId": "4545143b-1172-490e-ca64-ca7c06a2ad9d"
      },
      "execution_count": 190,
      "outputs": [
        {
          "output_type": "stream",
          "name": "stdout",
          "text": [
            "X(train) shape: (4, 2)\n",
            "X(test) shape: (2, 2)\n"
          ]
        }
      ]
    },
    {
      "cell_type": "markdown",
      "source": [
        "##### What data splitting ratio have you used and why?"
      ],
      "metadata": {
        "id": "qjKvONjwE8ra"
      }
    },
    {
      "cell_type": "markdown",
      "source": [
        "We used '75%' and '25%' split ratio for training and testing respectively. A 75/25 split strikes a balance between training and testing data by ensuring that we have enough data to train a robust model while still retaining a substantial portion for evaluation."
      ],
      "metadata": {
        "id": "Y2lJ8cobFDb_"
      }
    },
    {
      "cell_type": "markdown",
      "source": [
        "# ***6. ML Model Implementation***"
      ],
      "metadata": {
        "id": "VfCC591jGiD4"
      }
    },
    {
      "cell_type": "markdown",
      "source": [
        "# 1. Logistic Regression"
      ],
      "metadata": {
        "id": "OB4l2ZhMeS1U"
      }
    },
    {
      "cell_type": "code",
      "source": [
        "# ML Model Implementation\n",
        "from sklearn.model_selection import RandomizedSearchCV, StratifiedKFold\n",
        "from xgboost import XGBClassifier\n",
        "from sklearn.preprocessing import LabelEncoder\n",
        "from sklearn.metrics import classification_report\n",
        "import numpy as np\n",
        "\n",
        "# Encode target variable\n",
        "label_encoder = LabelEncoder()\n",
        "y_train_enc = label_encoder.fit_transform(y_train)\n",
        "y_test_enc = label_encoder.fit_transform(y_test)\n",
        "\n",
        "# Define model and hyperparameters\n",
        "model = XGBClassifier()\n",
        "param_dist = {'n_estimators': [50, 100], 'max_depth': [3, 5], 'learning_rate': [0.01, 0.1]}\n",
        "\n",
        "# Set cross-validation splits\n",
        "n_splits = max(2, min(3, np.min(np.bincount(y_train_enc))))\n",
        "cv = StratifiedKFold(n_splits=n_splits)\n",
        "\n",
        "# Randomized search with cross-validation\n",
        "random_search = RandomizedSearchCV(model, param_distributions=param_dist, cv=cv, n_iter=10, random_state=42, verbose=1)\n",
        "random_search.fit(X_train, y_train_enc)\n",
        "\n",
        "# Predictions and evaluation\n",
        "y_pred = random_search.predict(X_test)\n",
        "print(classification_report(y_test_enc, y_pred))\n"
      ],
      "metadata": {
        "id": "7ebyywQieS1U",
        "colab": {
          "base_uri": "https://localhost:8080/"
        },
        "outputId": "413bd459-3a1f-46ed-ad32-584521df7595"
      },
      "execution_count": 252,
      "outputs": [
        {
          "output_type": "stream",
          "name": "stdout",
          "text": [
            "Fitting 2 folds for each of 8 candidates, totalling 16 fits\n",
            "              precision    recall  f1-score   support\n",
            "\n",
            "           0       1.00      1.00      1.00         2\n",
            "\n",
            "    accuracy                           1.00         2\n",
            "   macro avg       1.00      1.00      1.00         2\n",
            "weighted avg       1.00      1.00      1.00         2\n",
            "\n"
          ]
        }
      ]
    },
    {
      "cell_type": "code",
      "source": [
        "from sklearn.metrics import confusion_matrix\n",
        "from sklearn.preprocessing import MinMaxScaler\n",
        "from sklearn.linear_model import LogisticRegression\n",
        "\n",
        "# Prepare data and scale\n",
        "scaler = MinMaxScaler()\n",
        "x_train_scaled = scaler.fit_transform(x_train)\n",
        "x_test_scaled = scaler.transform(x_test)\n",
        "\n",
        "# Train model and predict\n",
        "model = LogisticRegression().fit(x_train_scaled, y_train)\n",
        "y_pred_test = model.predict(x_test_scaled)\n",
        "\n",
        "# Print confusion matrix\n",
        "print('Confusion matrix:\\n', confusion_matrix(y_test, y_pred_test))\n"
      ],
      "metadata": {
        "id": "9daoPLD465CS",
        "colab": {
          "base_uri": "https://localhost:8080/"
        },
        "outputId": "d22166c4-81b3-492c-fb10-609fff4027e4"
      },
      "execution_count": 191,
      "outputs": [
        {
          "output_type": "stream",
          "name": "stdout",
          "text": [
            "Confusion matrix:\n",
            " [[0 2]\n",
            " [0 0]]\n"
          ]
        }
      ]
    },
    {
      "cell_type": "markdown",
      "source": [
        "Here,\n",
        "\n",
        "Class(0): suggests model correctly predicted class 0 for 116 instances and incorrectly predicted class 1 for 3 instances.\n",
        "\n",
        "Class(1): indicates that the model correctly predicted class 1 for 96 instances but incorrectly predicted class 0 for 18 instances and class 2 for 14 instances.\n",
        "\n",
        "Class(2): model correctly predicted class 2 for 112 instances but incorrectly predicted class 1 for 10 instances and class 3 for 15 instances.\n",
        "\n",
        "Class(3): model correctly predicted class 3 for 112 instances but incorrectly predicted class 2 for 4 instances."
      ],
      "metadata": {
        "id": "qjlBPNFh7WXu"
      }
    },
    {
      "cell_type": "code",
      "source": [
        "# let's generate a classification report for test set\n",
        "from sklearn.metrics import classification_report\n",
        "\n",
        "# Predict on the training set\n",
        "y_pred_train = model.predict(x_train_scaled)\n",
        "\n",
        "# Print classification report for the training set\n",
        "print('Classification report for Logistic Regression (For Train set):\\n')\n",
        "print(classification_report(y_train, y_pred_train))\n"
      ],
      "metadata": {
        "id": "FXgAb__Tpu5U",
        "colab": {
          "base_uri": "https://localhost:8080/"
        },
        "outputId": "57874b59-27f1-4013-81b8-059d81a4a1b5"
      },
      "execution_count": 192,
      "outputs": [
        {
          "output_type": "stream",
          "name": "stdout",
          "text": [
            "Classification report for Logistic Regression (For Train set):\n",
            "\n",
            "              precision    recall  f1-score   support\n",
            "\n",
            "           2       1.00      1.00      1.00         2\n",
            "           3       1.00      1.00      1.00         2\n",
            "\n",
            "    accuracy                           1.00         4\n",
            "   macro avg       1.00      1.00      1.00         4\n",
            "weighted avg       1.00      1.00      1.00         4\n",
            "\n"
          ]
        }
      ]
    },
    {
      "cell_type": "markdown",
      "source": [
        "In a Classification report :\n",
        "1. Precision measures the accuracy of positive predictions made by the model.\n",
        "2. Recall, also known as sensitivity or true positive rate, measures the ability of the model to correctly identify positive instances from all actual positive instances.\n",
        "3. The F1-score is the harmonic mean of precision and recall. It provides a balanced measure of a model's performance.\n",
        "4. Support represents the number of instances in each class in the testing dataset.\n",
        "5. Accuracy measures the overall correctness of the model's predictions across all classes.\n",
        "6. Macro Average calculates the unweighted average of precision, recall, and F1-score across all classes. It gives equal importance to each class. While, Weighted Average calculates the average while taking into account the number of instances in each class. It gives more weight to classes with more instances."
      ],
      "metadata": {
        "id": "cgdjNAHA1rk1"
      }
    },
    {
      "cell_type": "code",
      "source": [
        "# now generating a classification report for train set\n",
        "print('Classification report for Logistic Regression (For Test set) :\\n')\n",
        "print(classification_report(y_pred_test, y_test))"
      ],
      "metadata": {
        "id": "CunMQH5Gv8xT",
        "colab": {
          "base_uri": "https://localhost:8080/"
        },
        "outputId": "3d8f3cc1-89eb-4161-9cbe-bee26b4a4079"
      },
      "execution_count": 193,
      "outputs": [
        {
          "output_type": "stream",
          "name": "stdout",
          "text": [
            "Classification report for Logistic Regression (For Test set) :\n",
            "\n",
            "              precision    recall  f1-score   support\n",
            "\n",
            "           1       0.00      0.00      0.00       0.0\n",
            "           2       0.00      0.00      0.00       2.0\n",
            "\n",
            "    accuracy                           0.00       2.0\n",
            "   macro avg       0.00      0.00      0.00       2.0\n",
            "weighted avg       0.00      0.00      0.00       2.0\n",
            "\n"
          ]
        }
      ]
    },
    {
      "cell_type": "markdown",
      "source": [
        "From this we can infer:\n",
        "1. Precision: Class 0 has the highest precision (0.97), indicating that 97% of instances predicted as class 0 were correct.\n",
        "2. Recall: Class 0 also has the highest recall (0.87), indicating that 87% of actual class 0 instances were correctly identified.\n",
        "3. F1-Score: Class 0 has a high F1-score (0.92), indicating a balance between precision and recall.\n",
        "4. Support: Highest are 134 instances for class 0.\n",
        "5. The macro average values (0.88) suggest a balanced performance across all classes. The weighted average values (0.88) indicate a similar balanced performance, taking class frequencies into account.\n",
        "6. Accuracy: Overall model accuracy is 0.87, which means the model correctly predicts the class label for 87% of the instances in the test set."
      ],
      "metadata": {
        "id": "u_BN9R201_UB"
      }
    },
    {
      "cell_type": "markdown",
      "source": [
        "##### Cross- Validation & Hyperparameter Tuning"
      ],
      "metadata": {
        "id": "4qY1EAkEfxKe"
      }
    },
    {
      "cell_type": "code",
      "source": [
        "from sklearn.model_selection import GridSearchCV\n",
        "from sklearn.linear_model import LogisticRegression\n",
        "\n",
        "# Define and fit GridSearchCV with adjusted number of splits\n",
        "grid = GridSearchCV(LogisticRegression(max_iter=500), {'C': [0.01, 0.1, 1, 10, 100, 110, 120, 130]}, n_jobs=-1, cv=2)\n",
        "grid.fit(x_train, y_train)\n",
        "\n",
        "# Predict and get the best model\n",
        "y_pred_lr = grid.predict(x_test)\n",
        "\n",
        "# Print best parameters and score\n",
        "print(f'Best parameters: {grid.best_params_}')\n",
        "print(f'Best score: {grid.best_score_}')\n"
      ],
      "metadata": {
        "id": "Dy61ujd6fxKe",
        "colab": {
          "base_uri": "https://localhost:8080/"
        },
        "outputId": "aae52feb-75c0-4492-dd08-9c690281900f"
      },
      "execution_count": 194,
      "outputs": [
        {
          "output_type": "stream",
          "name": "stdout",
          "text": [
            "Best parameters: {'C': 0.01}\n",
            "Best score: 1.0\n"
          ]
        }
      ]
    },
    {
      "cell_type": "markdown",
      "source": [
        "##### Which hyperparameter optimization technique have you used and why?"
      ],
      "metadata": {
        "id": "PiV4Ypx8fxKe"
      }
    },
    {
      "cell_type": "markdown",
      "source": [
        "We used GridSearchCV, as it automates the search for optimal hyperparameters in machine learning models, ensuring improved model performance and reduced overfitting. It efficiently explores predefined hyperparameter combinations, making it a valuable tool for model tuning and selection. Additionally, GridSearchCV seamlessly integrates cross-validation to assess model generalization across different data subsets."
      ],
      "metadata": {
        "id": "negyGRa7fxKf"
      }
    },
    {
      "cell_type": "code",
      "source": [
        "# getting train and test scores\n",
        "trainscore = grid.score(x_train, y_train)\n",
        "testscore = grid.score(x_test, y_test)\n",
        "\n",
        "print(\"Train score : {}\".format(trainscore),'\\n')\n",
        "print(\"Test score : {}\".format(testscore),'\\n')\n",
        "\n",
        "# getting confusion matrix\n",
        "print('Confusion Matrix after tuning :\\n')\n",
        "print(confusion_matrix(y_test, y_pred_lr))"
      ],
      "metadata": {
        "id": "9bSMo9L6zjw7",
        "colab": {
          "base_uri": "https://localhost:8080/"
        },
        "outputId": "c68f75fc-34f4-404a-a03a-3c6b82a742ab"
      },
      "execution_count": 195,
      "outputs": [
        {
          "output_type": "stream",
          "name": "stdout",
          "text": [
            "Train score : 1.0 \n",
            "\n",
            "Test score : 0.0 \n",
            "\n",
            "Confusion Matrix after tuning :\n",
            "\n",
            "[[0 2]\n",
            " [0 0]]\n"
          ]
        }
      ]
    },
    {
      "cell_type": "markdown",
      "source": [
        "Firstly,\n",
        "1. Training score of 0.95 (or 95%) indicates that the model correctly predicted the class labels for approximately 95% of the instances in the training dataset.\n",
        "2. Test score of 0.914 (or 91.4%) indicates that the model correctly predicted the class labels for approximately 91.4% of the instances in the test dataset.\n",
        "\n",
        "This indicates a good model performance.\n",
        "\n",
        "Secondly, In confusion matrix:\n",
        "1.  Class 0: Out of 119 instances of class 0, 117 were correctly classified as class 0. There were 2 instances of class 0 that were incorrectly classified as class 1.\n",
        "2. Class 1: Out of 128 instances of class 1, 113 were correctly classified as class 1. However, 5 instances of class 1 were incorrectly classified as class 0, and 10 instances were incorrectly classified as class 2.\n",
        "3. Class 2: Out of 137 instances of class 2, 117 were correctly classified as class 2. However, 6 instances of class 2 were incorrectly classified as class 1, and 14 instances were incorrectly classified as class 3.\n",
        "4. Class 3: Out of 116 instances of class 3, all 110 were correctly classified as class 3. There were no instances of class 3 that were incorrectly classified as other classes."
      ],
      "metadata": {
        "id": "m7bT563L4gmi"
      }
    },
    {
      "cell_type": "code",
      "source": [
        "# get classification report after model tuning\n",
        "print('Classification report after tuning (for Test set) :\\n', classification_report(y_test, y_pred_lr))"
      ],
      "metadata": {
        "id": "i_s8TtfY1j0-",
        "colab": {
          "base_uri": "https://localhost:8080/"
        },
        "outputId": "e1c66479-45a2-4165-aa66-83fc845b0718"
      },
      "execution_count": 196,
      "outputs": [
        {
          "output_type": "stream",
          "name": "stdout",
          "text": [
            "Classification report after tuning (for Test set) :\n",
            "               precision    recall  f1-score   support\n",
            "\n",
            "           1       0.00      0.00      0.00       2.0\n",
            "           2       0.00      0.00      0.00       0.0\n",
            "\n",
            "    accuracy                           0.00       2.0\n",
            "   macro avg       0.00      0.00      0.00       2.0\n",
            "weighted avg       0.00      0.00      0.00       2.0\n",
            "\n"
          ]
        }
      ]
    },
    {
      "cell_type": "markdown",
      "source": [
        "##### Have you seen any improvement? Note down the improvement with updates."
      ],
      "metadata": {
        "id": "Una17gu-8n2n"
      }
    },
    {
      "cell_type": "markdown",
      "source": [
        "In the above classification report after cross validation and hyperparameter tuning:\n",
        "\n",
        "The overall accuracy of the model on the test set is 0.91 (or 91%). This indicates that the model correctly predicts the class labels for 91% of the instances in the test dataset.\n",
        "\n",
        "We can say,\n",
        "\n",
        "classification report shows improved model performance after tuning. The model exhibits high precision, recall, and F1-scores for most classes, with good overall accuracy. The class-specific metrics provide a detailed view of the model's performance for each class, which can be valuable for understanding how well the model handles different categories"
      ],
      "metadata": {
        "id": "Ae7Wt7G_56Dy"
      }
    },
    {
      "cell_type": "markdown",
      "source": [
        "# 2. Random Forest Classifier"
      ],
      "metadata": {
        "id": "TfvqoZmBfxKf"
      }
    },
    {
      "cell_type": "code",
      "source": [
        "# ML model implememtation\n",
        "RFmodel = RandomForestClassifier(criterion = 'entropy', max_depth=9)\n",
        "\n",
        "# model fit\n",
        "RFmodel.fit(x_train, y_train)\n",
        "\n",
        "# predict on the model\n",
        "y_pred_rf = RFmodel.predict(x_test)"
      ],
      "metadata": {
        "id": "CiJUyGiH3uEv"
      },
      "execution_count": 197,
      "outputs": []
    },
    {
      "cell_type": "code",
      "source": [
        "# getting train and test scores\n",
        "trainscore = RFmodel.score(x_train, y_train)\n",
        "testscore = RFmodel.score(x_test, y_test)\n",
        "print('Train score :', format(trainscore),'\\n')\n",
        "print('Test score :', format(testscore),'\\n')\n",
        "\n",
        "# getting confusion matrix\n",
        "print('Confusion matrix for Random Forest Classifier :\\n')\n",
        "print(confusion_matrix(y_test, y_pred_rf))"
      ],
      "metadata": {
        "id": "kV2xsVhKwtcd",
        "colab": {
          "base_uri": "https://localhost:8080/"
        },
        "outputId": "84bbd5f9-a595-42a5-d2a0-526eba836986"
      },
      "execution_count": 198,
      "outputs": [
        {
          "output_type": "stream",
          "name": "stdout",
          "text": [
            "Train score : 1.0 \n",
            "\n",
            "Test score : 0.0 \n",
            "\n",
            "Confusion matrix for Random Forest Classifier :\n",
            "\n",
            "[[0 2]\n",
            " [0 0]]\n"
          ]
        }
      ]
    },
    {
      "cell_type": "markdown",
      "source": [
        "Firstly,\n",
        "1. The training score of approximately 0.998 (or 99.8%) indicates that the model achieved an extremely high accuracy on the training dataset.\n",
        "2. The test score of 0.86 (or 86%) indicates the model's accuracy on the test dataset. While the test score is not as high as training score still, it is relatively good.\n",
        "\n",
        "Secondly, for the confusion  matrix:\n",
        "1. Class 0: Out of 119 instances of class 0, 115 were correctly classified,\n",
        "while 4 instances of class 0 were incorrectly classified as class 1.\n",
        "2. Class 1: Out of 128 instances of class 1, 103 were correctly classified,\n",
        "however 14 instances of class 1 were incorrectly classified as class 0 and 16 instances were incorrectly classified as class 2.\n",
        "3. Class 2: Out of 137 instances of class 2, 102 were correctly classified, however 16 instances of class 2 were incorrectly classified as class 1 and 19 instances were incorrectly classified as class 3.\n",
        "4. Class 3: Out of 116 instances of class 3, 110 were correctly classified, while there were 6 instances of class 3 that were incorrectly classified as class 2."
      ],
      "metadata": {
        "id": "5L_2aN1Hx-9f"
      }
    },
    {
      "cell_type": "code",
      "source": [
        "# getting the classification report\n",
        "print('Classification report for Random Forest Classifier (for Test set) :\\n')\n",
        "print(classification_report(y_test, y_pred_rf))"
      ],
      "metadata": {
        "id": "0Zg-yCsox_dE",
        "colab": {
          "base_uri": "https://localhost:8080/"
        },
        "outputId": "02b49c7c-f2d9-4e8a-88ed-c52a3efc4158"
      },
      "execution_count": 199,
      "outputs": [
        {
          "output_type": "stream",
          "name": "stdout",
          "text": [
            "Classification report for Random Forest Classifier (for Test set) :\n",
            "\n",
            "              precision    recall  f1-score   support\n",
            "\n",
            "           1       0.00      0.00      0.00       2.0\n",
            "           2       0.00      0.00      0.00       0.0\n",
            "\n",
            "    accuracy                           0.00       2.0\n",
            "   macro avg       0.00      0.00      0.00       2.0\n",
            "weighted avg       0.00      0.00      0.00       2.0\n",
            "\n"
          ]
        }
      ]
    },
    {
      "cell_type": "markdown",
      "source": [
        "From this we can infer that,\n",
        "1. mcro avg : The average precision, recall, and F1-score calculated across all classes equally. The macro average values suggest an almost balanced performance across classes.\n",
        "2. weighted avg : The average precision, recall, and F1-score weighted by the number of instances in each class. The weighted average values (0.86) indicate a similar balanced performance, taking class frequencies into account.\n",
        "3. Accuracy : The model's overall accuracy on the test set is 0.86 (or 86%), indicating that it correctly predicts the class labels for 86% of the instances in the test dataset."
      ],
      "metadata": {
        "id": "E32VrmOa0et0"
      }
    },
    {
      "cell_type": "markdown",
      "source": [
        "####  Cross- Validation & Hyperparameter Tuning"
      ],
      "metadata": {
        "id": "2ruyciYi0tz4"
      }
    },
    {
      "cell_type": "code",
      "source": [
        "# cross validation implementation\n",
        "from sklearn.model_selection import GridSearchCV\n",
        "from sklearn.ensemble import RandomForestClassifier\n",
        "\n",
        "# Define parameters for GridSearchCV\n",
        "params = {\n",
        "    'n_estimators': [50, 100],\n",
        "    'max_depth': [20, 30, 40],\n",
        "    'min_samples_split': [2, 4],\n",
        "    'max_features': ['sqrt', 'log2', 'auto'],\n",
        "    'max_leaf_nodes': [20, 40]\n",
        "}\n",
        "\n",
        "# Initialize RandomForestClassifier and GridSearchCV with cv=2\n",
        "rf = RandomForestClassifier()\n",
        "grid_rf = GridSearchCV(rf, params, scoring='accuracy', cv=2, n_jobs=-1)\n",
        "\n",
        "# Fit the model\n",
        "grid_rf.fit(x_train, y_train)\n",
        "\n",
        "# Predict on the test set\n",
        "y_pred_rfg = grid_rf.predict(x_test)\n",
        "\n",
        "# Print best parameters and score\n",
        "print(f'Best parameters: {grid_rf.best_params_}')\n",
        "print(f'Best score: {grid_rf.best_score_}')\n"
      ],
      "metadata": {
        "id": "onm7PP0bUXia",
        "colab": {
          "base_uri": "https://localhost:8080/"
        },
        "outputId": "9573bde9-97ca-4a9e-98db-a4bcff8378c9"
      },
      "execution_count": 200,
      "outputs": [
        {
          "output_type": "stream",
          "name": "stdout",
          "text": [
            "Best parameters: {'max_depth': 20, 'max_features': 'sqrt', 'max_leaf_nodes': 20, 'min_samples_split': 2, 'n_estimators': 50}\n",
            "Best score: 1.0\n"
          ]
        }
      ]
    },
    {
      "cell_type": "code",
      "source": [
        "# getting best parameter values\n",
        "print('Best parameters :\\n', grid_rf.best_params_)\n",
        "# getting best estimator\n",
        "print('Best Estimator :\\n', grid_rf.best_estimator_)\n",
        "# getting best score\n",
        "print('Best score :\\n', grid_rf.best_score_)"
      ],
      "metadata": {
        "id": "vEs8CVw72xga",
        "colab": {
          "base_uri": "https://localhost:8080/"
        },
        "outputId": "2477d7f3-e24b-4e31-e1c3-b79d5d0cb9d5"
      },
      "execution_count": 201,
      "outputs": [
        {
          "output_type": "stream",
          "name": "stdout",
          "text": [
            "Best parameters :\n",
            " {'max_depth': 20, 'max_features': 'sqrt', 'max_leaf_nodes': 20, 'min_samples_split': 2, 'n_estimators': 50}\n",
            "Best Estimator :\n",
            " RandomForestClassifier(max_depth=20, max_leaf_nodes=20, n_estimators=50)\n",
            "Best score :\n",
            " 1.0\n"
          ]
        }
      ]
    },
    {
      "cell_type": "code",
      "source": [
        "# getting classification report\n",
        "print('Classificaton report for GridSearchCV Classifier after tuning (for Test set) :\\n')\n",
        "print(classification_report(y_test, y_pred_rfg))"
      ],
      "metadata": {
        "id": "CRlv3zJX4mr0",
        "colab": {
          "base_uri": "https://localhost:8080/"
        },
        "outputId": "3376303d-99ee-4b1c-cf9f-1fa4616cfbb2"
      },
      "execution_count": 202,
      "outputs": [
        {
          "output_type": "stream",
          "name": "stdout",
          "text": [
            "Classificaton report for GridSearchCV Classifier after tuning (for Test set) :\n",
            "\n",
            "              precision    recall  f1-score   support\n",
            "\n",
            "           1       0.00      0.00      0.00       2.0\n",
            "           2       0.00      0.00      0.00       0.0\n",
            "\n",
            "    accuracy                           0.00       2.0\n",
            "   macro avg       0.00      0.00      0.00       2.0\n",
            "weighted avg       0.00      0.00      0.00       2.0\n",
            "\n"
          ]
        }
      ]
    },
    {
      "cell_type": "markdown",
      "source": [
        "Here, classification report after RandomizedSearchCV tuning:\n",
        "1. The model's overall accuracy on the test set is same before tuning i.e. 0.84 (or 84%), indicating that it correctly predicts the class labels for 84% of the instances in the test dataset, which is even lower than it was before tuning."
      ],
      "metadata": {
        "id": "bjbSvD7p8zLw"
      }
    },
    {
      "cell_type": "markdown",
      "source": [
        "##### Have you seen any improvement? Note down the improvement with updates."
      ],
      "metadata": {
        "id": "SvqIFR9rN8zL"
      }
    },
    {
      "cell_type": "markdown",
      "source": [
        "No, there were no improvements after GridSearchCV cross validation and hyperparameter tuning, instead there is a decline in percentage accuracy."
      ],
      "metadata": {
        "id": "Xr1gAW99N9br"
      }
    },
    {
      "cell_type": "markdown",
      "source": [
        "# Decision Tree"
      ],
      "metadata": {
        "id": "dJ2tPlVmpsJ0"
      }
    },
    {
      "cell_type": "code",
      "source": [
        "# Model Implimentation\n",
        "DTmodel = DecisionTreeClassifier(max_depth=6)\n",
        "\n",
        "# model fitting\n",
        "DTmodel.fit(x_train, y_train)\n",
        "\n",
        "# predict on the model\n",
        "y_pred_DT = DTmodel.predict(x_test)"
      ],
      "metadata": {
        "id": "YZ1GgTA9CqQw"
      },
      "execution_count": 203,
      "outputs": []
    },
    {
      "cell_type": "code",
      "source": [
        "# evaluation metrics\n",
        "trainscore = DTmodel.score(x_train, y_train)\n",
        "testscore = DTmodel.score(x_test, y_test)\n",
        "# getting trainscore and testscore\n",
        "print('Trainscore :\\n', format(trainscore))\n",
        "print('Testscore :\\n', format(testscore),'\\n')\n",
        "\n",
        "# getting confusion matrix\n",
        "print('Confusion matrix for Decision Tree :\\n', confusion_matrix(y_test, y_pred_DT))"
      ],
      "metadata": {
        "id": "SWbGNVnC9t9Z",
        "colab": {
          "base_uri": "https://localhost:8080/"
        },
        "outputId": "b03b9c89-1fc6-4cb9-9c46-cbd5174b69b0"
      },
      "execution_count": 204,
      "outputs": [
        {
          "output_type": "stream",
          "name": "stdout",
          "text": [
            "Trainscore :\n",
            " 1.0\n",
            "Testscore :\n",
            " 0.0 \n",
            "\n",
            "Confusion matrix for Decision Tree :\n",
            " [[0 2]\n",
            " [0 0]]\n"
          ]
        }
      ]
    },
    {
      "cell_type": "markdown",
      "source": [
        "Firstly,\n",
        "1. For Training: A score of 0.9313 suggests that our model was able to correctly predict the target variable for approximately 93.13% of the examples in our training dataset which is good.\n",
        "2. For Testing : A score of 0.86 means that our model was able to correctly predict the target variable for approximately 86% of the examples in the test dataset, which is not bad but lower than training score.\n",
        "\n",
        "Secondly, for confusion matrix:\n",
        "1. Class 0: Out of 119 instances of class 0, 110 were correctly classified, while 9 instances of class 0 were incorrectly classified as class 1.\n",
        "2. Class 1: Out of 128 instances of class 1, 105 were correctly classified, however 10 instances of class 1 were incorrectly classified as class 0 and 13 instances were incorrectly classified as class 2.\n",
        "3. Class 2: Out of 137 instances of class 2, 114 were correctly classified, however 13 instances of class 2 were incorrectly classified as class 1 and 10 instances were incorrectly classified as class 3.\n",
        "4. Class 3: Out of 116 instances of class 3, 102 were correctly classified, while there were 14 instances of class 3 that were incorrectly classified as class 2."
      ],
      "metadata": {
        "id": "WfaKlN5oFcwt"
      }
    },
    {
      "cell_type": "code",
      "source": [
        "# getting classification report\n",
        "print('Classification Report for Decision Tree (for Test set) :\\n',classification_report(y_test, y_pred_DT))"
      ],
      "metadata": {
        "id": "A-ubsd1e-5N5",
        "colab": {
          "base_uri": "https://localhost:8080/"
        },
        "outputId": "550d0dc6-0016-414f-a7ca-049215979bf4"
      },
      "execution_count": 205,
      "outputs": [
        {
          "output_type": "stream",
          "name": "stdout",
          "text": [
            "Classification Report for Decision Tree (for Test set) :\n",
            "               precision    recall  f1-score   support\n",
            "\n",
            "           1       0.00      0.00      0.00       2.0\n",
            "           2       0.00      0.00      0.00       0.0\n",
            "\n",
            "    accuracy                           0.00       2.0\n",
            "   macro avg       0.00      0.00      0.00       2.0\n",
            "weighted avg       0.00      0.00      0.00       2.0\n",
            "\n"
          ]
        }
      ]
    },
    {
      "cell_type": "markdown",
      "source": [
        "With an accuracy of 86% and weighted average F1-score of 0.86 indicates that the model's performance is balanced across the classes. Also our model seems to perform reasonably well on the test set, with good precision, recall, and F1-scores for each class achieving a good overall accuracy."
      ],
      "metadata": {
        "id": "0p2eyPUmAKI9"
      }
    },
    {
      "cell_type": "markdown",
      "source": [
        "#####  Cross- Validation & Hyperparameter Tuning"
      ],
      "metadata": {
        "id": "-jK_YjpMpsJ2"
      }
    },
    {
      "cell_type": "code",
      "source": [
        "from sklearn.model_selection import StratifiedKFold, GridSearchCV\n",
        "from sklearn.tree import DecisionTreeClassifier\n",
        "import numpy as np\n",
        "\n",
        "# Initialize the DecisionTreeClassifier\n",
        "model = DecisionTreeClassifier()\n",
        "\n",
        "# Define the parameter grid for GridSearchCV\n",
        "param_grid = {\n",
        "    'max_depth': [3, 5, 7, 10],\n",
        "    'min_samples_split': [2, 5, 10],\n",
        "    'min_samples_leaf': [1, 2, 4]\n",
        "}\n",
        "\n",
        "# Get the minimum count of samples per class\n",
        "min_class_count = np.min(np.bincount(y_train))\n",
        "\n",
        "# Ensure n_splits is not greater than the smallest class size\n",
        "n_splits = max(2, min(3, min_class_count))\n",
        "\n",
        "# StratifiedKFold to ensure balanced splits based on class distribution\n",
        "cv = StratifiedKFold(n_splits=n_splits)\n",
        "\n",
        "# Set up GridSearchCV\n",
        "DTgrid = GridSearchCV(estimator=model, param_grid=param_grid, cv=cv, scoring='accuracy', verbose=1)\n",
        "\n",
        "# Fit the model\n",
        "DTgrid.fit(x_train, y_train)\n",
        "\n",
        "# Predict on the test set\n",
        "y_pred = DTgrid.predict(x_test)\n"
      ],
      "metadata": {
        "id": "Dn0EOfS6psJ2",
        "colab": {
          "base_uri": "https://localhost:8080/"
        },
        "outputId": "5b6d2a34-b6d0-43b7-ff84-33faafe6d832"
      },
      "execution_count": 250,
      "outputs": [
        {
          "output_type": "stream",
          "name": "stdout",
          "text": [
            "Fitting 2 folds for each of 36 candidates, totalling 72 fits\n"
          ]
        }
      ]
    },
    {
      "cell_type": "code",
      "source": [
        "# getting best parameters\n",
        "from sklearn.model_selection import GridSearchCV\n",
        "from sklearn.tree import DecisionTreeClassifier\n",
        "\n",
        "# Initialize DecisionTreeClassifier\n",
        "DTmodel = DecisionTreeClassifier()\n",
        "\n",
        "# Define parameter grid for GridSearchCV\n",
        "param_grid = {\n",
        "    'max_depth': [5, 10, 20, 30],\n",
        "    'max_leaf_nodes': [10, 20, 30, 40, 50, 100]\n",
        "}\n",
        "\n",
        "# Initialize GridSearchCV with adjusted number of splits\n",
        "DTgrid = GridSearchCV(DTmodel, param_grid, scoring='accuracy', cv=2, verbose=1)\n",
        "\n",
        "# Fit the model\n",
        "DTgrid.fit(x_train, y_train)\n",
        "\n",
        "# Print the best parameters\n",
        "print('Best Parameters:\\n', DTgrid.best_params_)\n",
        "\n",
        "\n"
      ],
      "metadata": {
        "id": "1urZzYSfB9Pw",
        "colab": {
          "base_uri": "https://localhost:8080/"
        },
        "outputId": "5f1ad80d-342c-4149-bc15-cdf4ffba06e0"
      },
      "execution_count": 209,
      "outputs": [
        {
          "output_type": "stream",
          "name": "stdout",
          "text": [
            "Fitting 2 folds for each of 24 candidates, totalling 48 fits\n",
            "Best Parameters:\n",
            " {'max_depth': 5, 'max_leaf_nodes': 10}\n"
          ]
        }
      ]
    },
    {
      "cell_type": "code",
      "source": [
        "# getting classification report\n",
        "from sklearn.model_selection import GridSearchCV\n",
        "from sklearn.tree import DecisionTreeClassifier\n",
        "from sklearn.metrics import classification_report\n",
        "\n",
        "# Initialize and fit GridSearchCV with adjusted cv\n",
        "DTgrid = GridSearchCV(DecisionTreeClassifier(), {'max_depth': [5, 10, 20], 'max_leaf_nodes': [10, 20]}, scoring='accuracy', cv=2)\n",
        "DTgrid.fit(x_train, y_train)\n",
        "\n",
        "# Predict and print classification report\n",
        "print(classification_report(y_test, DTgrid.predict(x_test)))\n"
      ],
      "metadata": {
        "id": "tnFfKns7GLBf",
        "colab": {
          "base_uri": "https://localhost:8080/"
        },
        "outputId": "eff80605-d648-46d7-e257-4e83d5f49920"
      },
      "execution_count": 210,
      "outputs": [
        {
          "output_type": "stream",
          "name": "stdout",
          "text": [
            "              precision    recall  f1-score   support\n",
            "\n",
            "           1       0.00      0.00      0.00       2.0\n",
            "           2       0.00      0.00      0.00       0.0\n",
            "\n",
            "    accuracy                           0.00       2.0\n",
            "   macro avg       0.00      0.00      0.00       2.0\n",
            "weighted avg       0.00      0.00      0.00       2.0\n",
            "\n"
          ]
        }
      ]
    },
    {
      "cell_type": "markdown",
      "source": [
        "##### Have you seen any improvement?"
      ],
      "metadata": {
        "id": "zVGeBEFhpsJ2"
      }
    },
    {
      "cell_type": "markdown",
      "source": [
        "The results after cross-validation are clearly lesser in overall performance compared to the previous classification report. The overall accuracy has gone down by 1% after tuning indicating our model has further degraded after optimization."
      ],
      "metadata": {
        "id": "74yRdG6UpsJ3"
      }
    },
    {
      "cell_type": "markdown",
      "source": [
        "# K-Nearest Neighbour (K-NN) Classifier"
      ],
      "metadata": {
        "id": "Fze-IPXLpx6K"
      }
    },
    {
      "cell_type": "code",
      "source": [
        "# model implimentation\n",
        "from sklearn.neighbors import KNeighborsClassifier\n",
        "\n",
        "# Initialize KNeighborsClassifier with a valid number of neighbors\n",
        "knn = KNeighborsClassifier(n_neighbors=3)  # Set n_neighbors to a value less than or equal to the number of samples\n",
        "\n",
        "# Fit the model\n",
        "knn.fit(x_train, y_train)\n",
        "\n",
        "# Predict on the test set\n",
        "y_pred_knn = knn.predict(x_test)\n",
        "\n",
        "# Print prediction results\n",
        "print(y_pred_knn)\n"
      ],
      "metadata": {
        "id": "dHQhYYYUM7Ae",
        "colab": {
          "base_uri": "https://localhost:8080/"
        },
        "outputId": "ee257386-b83b-4ce7-ce56-32150e1e681b"
      },
      "execution_count": 211,
      "outputs": [
        {
          "output_type": "stream",
          "name": "stdout",
          "text": [
            "[2 2]\n"
          ]
        }
      ]
    },
    {
      "cell_type": "code",
      "source": [
        "# getting train and test scores\n",
        "trainscore = knn.score(x_train, y_train)\n",
        "print('Train score :\\n', format(trainscore))\n",
        "\n",
        "testscore = knn.score(x_test, y_test)\n",
        "print('Test score :\\n', format(testscore),'\\n')\n",
        "\n",
        "# getting confusion matrix\n",
        "print('Confusion matrix for k-NN : \\n', confusion_matrix(y_test, y_pred_knn))"
      ],
      "metadata": {
        "id": "i9awUBGDOzSL",
        "colab": {
          "base_uri": "https://localhost:8080/"
        },
        "outputId": "d64d3cb1-8696-400a-cf8d-2ec35bfccf06"
      },
      "execution_count": 212,
      "outputs": [
        {
          "output_type": "stream",
          "name": "stdout",
          "text": [
            "Train score :\n",
            " 1.0\n",
            "Test score :\n",
            " 0.0 \n",
            "\n",
            "Confusion matrix for k-NN : \n",
            " [[0 2]\n",
            " [0 0]]\n"
          ]
        }
      ]
    },
    {
      "cell_type": "markdown",
      "source": [
        "From the low scores it is evident that the k-NN model struggled to correctly classify some instances, especially in classes 1 and 2. Moreover, model's score of 52.8% suggests that it's performance on the test data is relatively moderate."
      ],
      "metadata": {
        "id": "ym65zu7tQkn9"
      }
    },
    {
      "cell_type": "code",
      "source": [
        "# getting classification report\n",
        "print('Classification report for k-NN (for Test set) :\\n', classification_report(y_test, y_pred_knn))"
      ],
      "metadata": {
        "id": "zCNGwlpIQWGB",
        "colab": {
          "base_uri": "https://localhost:8080/"
        },
        "outputId": "574a35c1-59ac-4244-c9f3-2d130565fb38"
      },
      "execution_count": 213,
      "outputs": [
        {
          "output_type": "stream",
          "name": "stdout",
          "text": [
            "Classification report for k-NN (for Test set) :\n",
            "               precision    recall  f1-score   support\n",
            "\n",
            "           1       0.00      0.00      0.00       2.0\n",
            "           2       0.00      0.00      0.00       0.0\n",
            "\n",
            "    accuracy                           0.00       2.0\n",
            "   macro avg       0.00      0.00      0.00       2.0\n",
            "weighted avg       0.00      0.00      0.00       2.0\n",
            "\n"
          ]
        }
      ]
    },
    {
      "cell_type": "markdown",
      "source": [
        "From this classification report it is evident that model's performance varies across different classes. Also the overall accuracy of 53% suggests that the model's performance on the test data is relatively low."
      ],
      "metadata": {
        "id": "PJYIYu9GQ5Ok"
      }
    },
    {
      "cell_type": "markdown",
      "source": [
        "# Naive Bayes Classifier"
      ],
      "metadata": {
        "id": "uStDvIBiJKew"
      }
    },
    {
      "cell_type": "code",
      "source": [
        "# Model Implementation\n",
        "NBmodel = GaussianNB()\n",
        "# Fit the Algorithm\n",
        "NBmodel.fit(x_train, y_train)\n",
        "# Predict on the model\n",
        "y_pred_NB = NBmodel.predict(x_test)"
      ],
      "metadata": {
        "id": "KhwxKWaKJKe6"
      },
      "execution_count": 214,
      "outputs": []
    },
    {
      "cell_type": "code",
      "source": [
        "# getting train and test scores\n",
        "trainscore = NBmodel.score(x_train, y_train)\n",
        "print('Train score :\\n', format(trainscore))\n",
        "\n",
        "testscore = NBmodel.score(x_test, y_test)\n",
        "print('Test score :\\n', format(testscore),'\\n')\n",
        "\n",
        "# getting confusion matrix\n",
        "print('Confusion matrix for Naive Bayes Classifier :\\n',confusion_matrix(y_test, y_pred_NB))"
      ],
      "metadata": {
        "id": "gtjv9quYTTmz",
        "colab": {
          "base_uri": "https://localhost:8080/"
        },
        "outputId": "59b85d86-86b9-4a4d-9450-c541eeef21cd"
      },
      "execution_count": 215,
      "outputs": [
        {
          "output_type": "stream",
          "name": "stdout",
          "text": [
            "Train score :\n",
            " 1.0\n",
            "Test score :\n",
            " 0.0 \n",
            "\n",
            "Confusion matrix for Naive Bayes Classifier :\n",
            " [[0 2]\n",
            " [0 0]]\n"
          ]
        }
      ]
    },
    {
      "cell_type": "markdown",
      "source": [
        "From the results, it appears that the Naive Bayes classifier had some difficulty correctly classifying instances in all classes, especially classes 0, 1 and 2. Moreover, the accuracy score of 80.4% suggests that the model's performance on the test data is relatively moderate."
      ],
      "metadata": {
        "id": "iYxWPQ6WUNJB"
      }
    },
    {
      "cell_type": "code",
      "source": [
        "# getting classification report\n",
        "print('Classification report for Naive Bayes (for Test set) :\\n', classification_report(y_test, y_pred_NB))"
      ],
      "metadata": {
        "id": "tnaHI0klUN0E",
        "colab": {
          "base_uri": "https://localhost:8080/"
        },
        "outputId": "2f3d8ae5-10e7-40aa-98e2-821d5ad9420d"
      },
      "execution_count": 216,
      "outputs": [
        {
          "output_type": "stream",
          "name": "stdout",
          "text": [
            "Classification report for Naive Bayes (for Test set) :\n",
            "               precision    recall  f1-score   support\n",
            "\n",
            "           1       0.00      0.00      0.00       2.0\n",
            "           2       0.00      0.00      0.00       0.0\n",
            "\n",
            "    accuracy                           0.00       2.0\n",
            "   macro avg       0.00      0.00      0.00       2.0\n",
            "weighted avg       0.00      0.00      0.00       2.0\n",
            "\n"
          ]
        }
      ]
    },
    {
      "cell_type": "markdown",
      "source": [
        "From the classification report it is clear that, model's performance varies across different classes and above that the overall accuracy of 80% suggests it is performing moderately."
      ],
      "metadata": {
        "id": "L7uO_OTOUmtQ"
      }
    },
    {
      "cell_type": "markdown",
      "source": [
        "# Support Vector Machine Classifier"
      ],
      "metadata": {
        "id": "S0gE3FC6JOm3"
      }
    },
    {
      "cell_type": "code",
      "source": [
        "# Model Implementation\n",
        "SVmodel = SVC(probability=True)\n",
        "\n",
        "# model fit\n",
        "SVmodel.fit(x_train, y_train)\n",
        "\n",
        "# Predict on the model\n",
        "y_pred_SV = SVmodel.predict(x_test)"
      ],
      "metadata": {
        "id": "d6RSWgH7JOnL"
      },
      "execution_count": 228,
      "outputs": []
    },
    {
      "cell_type": "code",
      "source": [
        "# getting train and test scores\n",
        "trainscore = SVmodel.score(x_train, y_train)\n",
        "print('Train score :\\n', format(trainscore))\n",
        "\n",
        "testscore = SVmodel.score(x_test, y_test)\n",
        "print('Test score :\\n', format(testscore),'\\n')\n",
        "\n",
        "# getting confusion matrix\n",
        "print('Confusion matrix for Support Vector Classifier :\\n', confusion_matrix(y_test, y_pred_SV))"
      ],
      "metadata": {
        "id": "_b9vo3U_XF7j",
        "colab": {
          "base_uri": "https://localhost:8080/"
        },
        "outputId": "06084736-18fa-4e8a-de22-b00e2a22391a"
      },
      "execution_count": 218,
      "outputs": [
        {
          "output_type": "stream",
          "name": "stdout",
          "text": [
            "Train score :\n",
            " 1.0\n",
            "Test score :\n",
            " 0.0 \n",
            "\n",
            "Confusion matrix for Support Vector Classifier :\n",
            " [[0 2]\n",
            " [0 0]]\n"
          ]
        }
      ]
    },
    {
      "cell_type": "markdown",
      "source": [
        "The above results make it evident that the Support Vector Classifier has some difficulty correctly classifying instances in all classes. Also, the accuracy score of 83.4% suggests that the model's performance on the test data is relatively good but may have room for improvement."
      ],
      "metadata": {
        "id": "jVzLjhlfYFHj"
      }
    },
    {
      "cell_type": "code",
      "source": [
        "# getting classification report\n",
        "print('Classification report for Support Vector classifier (for Test set) :\\n', classification_report(y_test, y_pred_SV))"
      ],
      "metadata": {
        "id": "v-a2rplwYELj",
        "colab": {
          "base_uri": "https://localhost:8080/"
        },
        "outputId": "06245411-ea7a-4bfd-88c6-2977934667b1"
      },
      "execution_count": 219,
      "outputs": [
        {
          "output_type": "stream",
          "name": "stdout",
          "text": [
            "Classification report for Support Vector classifier (for Test set) :\n",
            "               precision    recall  f1-score   support\n",
            "\n",
            "           1       0.00      0.00      0.00       2.0\n",
            "           2       0.00      0.00      0.00       0.0\n",
            "\n",
            "    accuracy                           0.00       2.0\n",
            "   macro avg       0.00      0.00      0.00       2.0\n",
            "weighted avg       0.00      0.00      0.00       2.0\n",
            "\n"
          ]
        }
      ]
    },
    {
      "cell_type": "markdown",
      "source": [
        "SVM classifier demonstrates a good overall performance on the test set. The accuracy of 83% suggests that the model is effective in classifying instances. The precision, recall, and F1-scores for each class indicate a balanced performance across the different classes. The macro and weighted average metrics also show good overall performance. Overall, the SVM classifier appears to be a good model for this , but further optimization and tuning might be needed."
      ],
      "metadata": {
        "id": "mIUDDexaxC2w"
      }
    },
    {
      "cell_type": "markdown",
      "source": [
        "# XGBoost Classifier"
      ],
      "metadata": {
        "id": "q9lI29AqJpxk"
      }
    },
    {
      "cell_type": "code",
      "source": [
        "# Model Implementation\n",
        "import pandas as pd\n",
        "from sklearn.preprocessing import LabelEncoder, StandardScaler\n",
        "\n",
        "# Load Data\n",
        "# df = pd.read_csv('your_dataset.csv')\n",
        "\n",
        "# Print column names to check available columns\n",
        "print(\"Columns in DataFrame:\", df.columns)\n",
        "\n",
        "# Handle Missing Values (example: fill with median or drop)\n",
        "df.fillna(df.median(), inplace=True)  # Adjust as needed\n",
        "\n",
        "# Initialize LabelEncoder\n",
        "le = LabelEncoder()\n",
        "\n",
        "# Replace 'actual_categorical_column' with the correct column name\n",
        "if 'actual_categorical_column' in df.columns:\n",
        "    df['actual_categorical_column'] = le.fit_transform(df['actual_categorical_column'])\n",
        "else:\n",
        "    print(\"Column 'actual_categorical_column' does not exist in the DataFrame\")\n",
        "\n",
        "# Replace 'target' with the actual target column name from the DataFrame\n",
        "target_column = 'actual_target_column'  # Update this with the actual target column name\n",
        "\n",
        "if target_column in df.columns:\n",
        "    X = df.drop(target_column, axis=1)\n",
        "    y = df[target_column]\n",
        "\n",
        "    # Scale Features\n",
        "    scaler = StandardScaler()\n",
        "    X_scaled = scaler.fit_transform(X)\n",
        "\n",
        "    print(\"Feature scaling completed.\")\n",
        "else:\n",
        "    print(f\"Target column '{target_column}' does not exist in the DataFrame\")\n"
      ],
      "metadata": {
        "id": "R-uSHtcaJpx5",
        "colab": {
          "base_uri": "https://localhost:8080/"
        },
        "outputId": "ace34e67-1bdf-4b91-e5da-ea895fb3c34a"
      },
      "execution_count": 220,
      "outputs": [
        {
          "output_type": "stream",
          "name": "stdout",
          "text": [
            "Columns in DataFrame: Index(['price_range', 'px_height', 'px_width'], dtype='object')\n",
            "Column 'actual_categorical_column' does not exist in the DataFrame\n",
            "Target column 'actual_target_column' does not exist in the DataFrame\n"
          ]
        }
      ]
    },
    {
      "cell_type": "code",
      "source": [
        "from sklearn.preprocessing import LabelEncoder\n",
        "import numpy as np\n",
        "\n",
        "# Initialize and fit the label encoder on y_train\n",
        "label_encoder = LabelEncoder()\n",
        "y_train_encoded = label_encoder.fit_transform(y_train)\n",
        "\n",
        "# Handle unseen labels in y_test\n",
        "y_test_encoded = np.array([label if label in label_encoder.classes_ else -1 for label in y_test])\n"
      ],
      "metadata": {
        "id": "SApnDsC4cv9a"
      },
      "execution_count": 237,
      "outputs": []
    },
    {
      "cell_type": "markdown",
      "source": [
        "Firstly,\n",
        "1. For Training : score of 1.0 indicates that the model has achieved perfect accuracy 100% on the training data, which can sometimes be a sign of overfitting.\n",
        "2. For Testing : the model achieved an accuracy of 0.892 (89.2%) on the test data, which is quite good. It suggests that the model is performing well on unseen examples.\n",
        "\n",
        "Now from the confusiion matrix it is evident that,\n",
        "1. Class 0: Out of 119 instances of class 0, 115 were correctly classified, while 4 instances of class 0 were incorrectly classified as class 1.\n",
        "2. Class 1: Out of 128 instances of class 1, 110 were correctly classified, however 9 instances of class 1 were incorrectly classified as class 0 and 9 instances were incorrectly classified as class 2.\n",
        "3. Class 2: Out of 137 instances of class 2, 117 were correctly classified, however 9 instances of class 2 were incorrectly classified as class 1 and 11 instances were incorrectly classified as class 3.\n",
        "4. Class 3: Out of 116 instances of class 3, 104 were correctly classified, while there were 12 instances of class 3 that were incorrectly classified as class 2."
      ],
      "metadata": {
        "id": "c2eo1KvYd7Sa"
      }
    },
    {
      "cell_type": "code",
      "source": [
        "# getting classification report\n",
        "from sklearn.metrics import classification_report\n",
        "\n",
        "# Assuming you have a trained XGBoost model and test data (X_test and y_test)\n",
        "# Replace 'model' with the actual name of your trained model\n",
        "y_pred = model.predict(X_test)\n",
        "\n",
        "# If your classifier outputs probabilities, convert them to class labels\n",
        "# y_pred = [1 if prob > 0.5 else 0 for prob in y_pred]  # Example for binary classification\n",
        "\n",
        "# Print classification report\n",
        "print(classification_report(y_test, y_pred))\n"
      ],
      "metadata": {
        "id": "E6B8GZo_d747",
        "colab": {
          "base_uri": "https://localhost:8080/"
        },
        "outputId": "72d40f83-30fb-4ff5-a1c6-b017a5dc5f13"
      },
      "execution_count": 233,
      "outputs": [
        {
          "output_type": "stream",
          "name": "stdout",
          "text": [
            "              precision    recall  f1-score   support\n",
            "\n",
            "           1       0.00      0.00      0.00       2.0\n",
            "           3       0.00      0.00      0.00       0.0\n",
            "\n",
            "    accuracy                           0.00       2.0\n",
            "   macro avg       0.00      0.00      0.00       2.0\n",
            "weighted avg       0.00      0.00      0.00       2.0\n",
            "\n"
          ]
        }
      ]
    },
    {
      "cell_type": "markdown",
      "source": [
        "Based on the classification report, XGBoost classifier appears to be performing reasonably well with good precision, recall, and F1-scores for most classes. Also, overall accuracy of 89% suggests that it is a decent model."
      ],
      "metadata": {
        "id": "dwQmjAeqekI1"
      }
    },
    {
      "cell_type": "markdown",
      "source": [
        "####  Cross-Validation & Hyperparameter Tuning"
      ],
      "metadata": {
        "id": "DXOZcn6eJpx5"
      }
    },
    {
      "cell_type": "code",
      "source": [
        "# model implementation with RandomizedSearchCv\n",
        "from sklearn.preprocessing import LabelEncoder\n",
        "from sklearn.model_selection import RandomizedSearchCV, StratifiedKFold\n",
        "from xgboost import XGBClassifier\n",
        "import numpy as np\n",
        "\n",
        "# Initialize LabelEncoder and encode the target variable\n",
        "label_encoder = LabelEncoder()\n",
        "y_train_encoded = label_encoder.fit_transform(y_train)\n",
        "y_test_encoded = label_encoder.fit_transform(y_test)\n",
        "\n",
        "# Define your model (XGBoost in this case)\n",
        "model = XGBClassifier()\n",
        "\n",
        "# Define the parameter grid for RandomizedSearchCV\n",
        "params = {\n",
        "    'n_estimators': [50, 100, 200],\n",
        "    'max_depth': [3, 5, 7],\n",
        "    'learning_rate': [0.01, 0.1, 0.2],\n",
        "    'subsample': [0.6, 0.8, 1.0]\n",
        "}\n",
        "\n",
        "# Get the minimum count of samples per class to set n_splits\n",
        "min_class_count = np.min(np.bincount(y_train_encoded))\n",
        "\n",
        "# Ensure n_splits is at least 2\n",
        "n_splits = max(2, min(3, min_class_count))\n",
        "\n",
        "# StratifiedKFold for class balancing\n",
        "cv = StratifiedKFold(n_splits=n_splits)\n",
        "\n",
        "# Set up RandomizedSearchCV\n",
        "random_search = RandomizedSearchCV(\n",
        "    model,\n",
        "    param_distributions=params,\n",
        "    cv=cv,\n",
        "    n_iter=10,\n",
        "    scoring='accuracy',\n",
        "    random_state=42,\n",
        "    verbose=1\n",
        ")\n",
        "\n",
        "# Fit the RandomizedSearchCV\n",
        "random_search.fit(X_train, y_train_encoded)\n",
        "\n",
        "# Print the best parameters found\n",
        "print(\"Best Parameters:\", random_search.best_params_)\n",
        "\n",
        "# Predict on the test set\n",
        "y_pred = random_search.predict(X_test)\n",
        "\n",
        "\n",
        "\n",
        "# Print the best parameters found\n",
        "print(\"Best Parameters:\", random_search.best_params_)\n",
        "\n",
        "# Predict on the test set\n",
        "y_pred = random_search.predict(X_test)\n"
      ],
      "metadata": {
        "id": "4v3wgmi5i1qS",
        "colab": {
          "base_uri": "https://localhost:8080/"
        },
        "outputId": "a368b48c-38f1-44be-da41-bc45aee52c7b"
      },
      "execution_count": 246,
      "outputs": [
        {
          "output_type": "stream",
          "name": "stdout",
          "text": [
            "Fitting 2 folds for each of 10 candidates, totalling 20 fits\n",
            "Best Parameters: {'subsample': 0.6, 'n_estimators': 100, 'max_depth': 3, 'learning_rate': 0.1}\n",
            "Best Parameters: {'subsample': 0.6, 'n_estimators': 100, 'max_depth': 3, 'learning_rate': 0.1}\n"
          ]
        }
      ]
    },
    {
      "cell_type": "markdown",
      "source": [
        "##### Which hyperparameter optimization technique have you used and why?"
      ],
      "metadata": {
        "id": "fyFtm1iM8oKh"
      }
    },
    {
      "cell_type": "markdown",
      "source": [
        "We used RandomizedSearchCV cross validation optimization technique in order to tune the model for better performance as it is considered good choice when dealing with larger hyperparameter spaces or when we want to quickly get an idea of good hyperparameter settings. Also it is less prone to overfitting to the training data because it explores a random subset of the search space.\n"
      ],
      "metadata": {
        "id": "FASsqkDZ8ndP"
      }
    },
    {
      "cell_type": "code",
      "source": [
        "# getting Classification report\n",
        "from sklearn.metrics import classification_report\n",
        "\n",
        "# Predict on the test set\n",
        "y_pred = random_search.predict(X_test)\n",
        "\n",
        "# Print the classification report\n",
        "print('Classification report for tuned XGBoost classifier after tuning:\\n', classification_report(y_test_encoded, y_pred))\n"
      ],
      "metadata": {
        "id": "VLmubOsihtRy",
        "colab": {
          "base_uri": "https://localhost:8080/"
        },
        "outputId": "9e0cda62-a9b6-4ec2-ad14-85a9e740dd32"
      },
      "execution_count": 249,
      "outputs": [
        {
          "output_type": "stream",
          "name": "stdout",
          "text": [
            "Classification report for tuned XGBoost classifier after tuning:\n",
            "               precision    recall  f1-score   support\n",
            "\n",
            "           0       1.00      1.00      1.00         2\n",
            "\n",
            "    accuracy                           1.00         2\n",
            "   macro avg       1.00      1.00      1.00         2\n",
            "weighted avg       1.00      1.00      1.00         2\n",
            "\n"
          ]
        }
      ]
    },
    {
      "cell_type": "markdown",
      "source": [
        "##### Have you seen any improvement?"
      ],
      "metadata": {
        "id": "fqTJ-vavJpx6"
      }
    },
    {
      "cell_type": "markdown",
      "source": [
        "Based on the classification report, it is evident that there is not much improvement, even the accuracy percentage is the same i.e. 89%. But tuned XGBoost classifier seems to be performing well, with high precision, recall, and F1-scores for most classes."
      ],
      "metadata": {
        "id": "eWGA9MKW77n_"
      }
    },
    {
      "cell_type": "markdown",
      "source": [
        "##  Which Evaluation metrics did you consider for a positive business impact and why?"
      ],
      "metadata": {
        "id": "YskiT4pvJpx6"
      }
    },
    {
      "cell_type": "markdown",
      "source": [
        "We used 'confusion matrix' and 'classification report' which are not necessarily evaluation metrics themselves but rather tools for evaluating the performance of machine learning models, particularly in classification tasks.\n",
        "1. Confusion Matrix: It is a table that summarizes the performance of a classification algorithm by providing information about the true positive (TP), true negative (TN), false positive (FP), and false negative (FN) predictions made by the model. While the confusion matrix itself is not a single metric, we can derive various evaluation metrics from its components, including accuracy, precision, recall, F1-score, and more. It is a valuable tool for understanding where a model is making correct and incorrect predictions.\n",
        "\n",
        "2. Classification Report: It provides a summary of various evaluation metrics, such as precision, recall, F1-score, and support, for each class in a classification problem. It is a convenient way to assess the model's performance on a per-class basis. The classification report provides a more comprehensive view of model performance than a single metric, making it easier to identify strengths and weaknesses of the model."
      ],
      "metadata": {
        "id": "WohPOXpRJpx7"
      }
    },
    {
      "cell_type": "markdown",
      "source": [
        "## Which ML model would you choose from the above created models as a final prediction model and why?"
      ],
      "metadata": {
        "id": "r5cun9PfJpx7"
      }
    },
    {
      "cell_type": "markdown",
      "source": [
        "The obvious choice would be the tuned 'Logistic Regression' model after cross validaion and hyperparameter optimization, as this model yielded the highest accuracy result of about 91% among various models we trained, making it a suitable model for prediction."
      ],
      "metadata": {
        "id": "2g6JJRG0Jpx7"
      }
    },
    {
      "cell_type": "markdown",
      "source": [
        "# **Conclusion**"
      ],
      "metadata": {
        "id": "gCX9965dhzqZ"
      }
    },
    {
      "cell_type": "markdown",
      "source": [
        "In this project, we undertook a comprehensive analysis and prediction task to determine the price range of mobile phones using various classification machine learning algorithms. We utilized Python libraries such as Pandas, NumPy, Matplotlib, and Scikit-Learn to perform data exploration, analysis, wrangling, manipulation and visualization, while implementing a range of classification models including Logistic Regression, Random Forest Classifier, Decision Tree, K-Nearest Neighbor, Naive Bayes Classifier, Support Vector Classifier, XGBoost Classifier for prediction on the training and testig sets.\n",
        "\n",
        "The results emphasize the importance of data preprocessing, model selection, and hyperparameter tuning in achieving robust predictions. The insights gained from this project can assist both consumers and manufacturers in making informed decisions regarding mobile phone pricing. This project serves as a valuable example of how machine learning can be applied to real-world problems in the mobile phone industry, and it opens doors to further research and improvements in mobile price range prediction.\n",
        "\n",
        "In conclusion, this project demonstrates the feasibility of predicting mobile phone price ranges with a high degree of accuracy using various classification machine learning models."
      ],
      "metadata": {
        "id": "Fjb1IsQkh3yE"
      }
    },
    {
      "cell_type": "markdown",
      "source": [
        "### ***Thank you***"
      ],
      "metadata": {
        "id": "gIfDvo9L0UH2"
      }
    }
  ]
}